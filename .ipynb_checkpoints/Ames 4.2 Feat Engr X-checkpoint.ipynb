{
 "cells": [
  {
   "cell_type": "code",
   "execution_count": 1,
   "metadata": {},
   "outputs": [],
   "source": [
    "import pandas as pd\n",
    "import numpy as np\n",
    "import matplotlib.pyplot as plt\n",
    "import seaborn as sns"
   ]
  },
  {
   "cell_type": "code",
   "execution_count": 2,
   "metadata": {},
   "outputs": [],
   "source": [
    "from IPython.display import display\n",
    "from sklearn.metrics import mutual_info_score\n",
    "from sklearn.feature_selection import SelectKBest"
   ]
  },
  {
   "cell_type": "code",
   "execution_count": 3,
   "metadata": {},
   "outputs": [],
   "source": [
    "from dython.nominal import associations"
   ]
  },
  {
   "cell_type": "code",
   "execution_count": 4,
   "metadata": {
    "collapsed": true
   },
   "outputs": [
    {
     "name": "stdout",
     "output_type": "stream",
     "text": [
      "(1460, 81)\n"
     ]
    },
    {
     "data": {
      "text/html": [
       "<div>\n",
       "<style scoped>\n",
       "    .dataframe tbody tr th:only-of-type {\n",
       "        vertical-align: middle;\n",
       "    }\n",
       "\n",
       "    .dataframe tbody tr th {\n",
       "        vertical-align: top;\n",
       "    }\n",
       "\n",
       "    .dataframe thead th {\n",
       "        text-align: right;\n",
       "    }\n",
       "</style>\n",
       "<table border=\"1\" class=\"dataframe\">\n",
       "  <thead>\n",
       "    <tr style=\"text-align: right;\">\n",
       "      <th></th>\n",
       "      <th>0</th>\n",
       "      <th>1</th>\n",
       "      <th>2</th>\n",
       "      <th>3</th>\n",
       "      <th>4</th>\n",
       "    </tr>\n",
       "  </thead>\n",
       "  <tbody>\n",
       "    <tr>\n",
       "      <th>Id</th>\n",
       "      <td>1</td>\n",
       "      <td>2</td>\n",
       "      <td>3</td>\n",
       "      <td>4</td>\n",
       "      <td>5</td>\n",
       "    </tr>\n",
       "    <tr>\n",
       "      <th>MSSubClass</th>\n",
       "      <td>60</td>\n",
       "      <td>20</td>\n",
       "      <td>60</td>\n",
       "      <td>70</td>\n",
       "      <td>60</td>\n",
       "    </tr>\n",
       "    <tr>\n",
       "      <th>MSZoning</th>\n",
       "      <td>RL</td>\n",
       "      <td>RL</td>\n",
       "      <td>RL</td>\n",
       "      <td>RL</td>\n",
       "      <td>RL</td>\n",
       "    </tr>\n",
       "    <tr>\n",
       "      <th>LotFrontage</th>\n",
       "      <td>65.0</td>\n",
       "      <td>80.0</td>\n",
       "      <td>68.0</td>\n",
       "      <td>60.0</td>\n",
       "      <td>84.0</td>\n",
       "    </tr>\n",
       "    <tr>\n",
       "      <th>LotArea</th>\n",
       "      <td>8450</td>\n",
       "      <td>9600</td>\n",
       "      <td>11250</td>\n",
       "      <td>9550</td>\n",
       "      <td>14260</td>\n",
       "    </tr>\n",
       "    <tr>\n",
       "      <th>...</th>\n",
       "      <td>...</td>\n",
       "      <td>...</td>\n",
       "      <td>...</td>\n",
       "      <td>...</td>\n",
       "      <td>...</td>\n",
       "    </tr>\n",
       "    <tr>\n",
       "      <th>MoSold</th>\n",
       "      <td>2</td>\n",
       "      <td>5</td>\n",
       "      <td>9</td>\n",
       "      <td>2</td>\n",
       "      <td>12</td>\n",
       "    </tr>\n",
       "    <tr>\n",
       "      <th>YrSold</th>\n",
       "      <td>2008</td>\n",
       "      <td>2007</td>\n",
       "      <td>2008</td>\n",
       "      <td>2006</td>\n",
       "      <td>2008</td>\n",
       "    </tr>\n",
       "    <tr>\n",
       "      <th>SaleType</th>\n",
       "      <td>WD</td>\n",
       "      <td>WD</td>\n",
       "      <td>WD</td>\n",
       "      <td>WD</td>\n",
       "      <td>WD</td>\n",
       "    </tr>\n",
       "    <tr>\n",
       "      <th>SaleCondition</th>\n",
       "      <td>Normal</td>\n",
       "      <td>Normal</td>\n",
       "      <td>Normal</td>\n",
       "      <td>Abnorml</td>\n",
       "      <td>Normal</td>\n",
       "    </tr>\n",
       "    <tr>\n",
       "      <th>SalePrice</th>\n",
       "      <td>208500</td>\n",
       "      <td>181500</td>\n",
       "      <td>223500</td>\n",
       "      <td>140000</td>\n",
       "      <td>250000</td>\n",
       "    </tr>\n",
       "  </tbody>\n",
       "</table>\n",
       "<p>81 rows × 5 columns</p>\n",
       "</div>"
      ],
      "text/plain": [
       "                    0       1       2        3       4\n",
       "Id                  1       2       3        4       5\n",
       "MSSubClass         60      20      60       70      60\n",
       "MSZoning           RL      RL      RL       RL      RL\n",
       "LotFrontage      65.0    80.0    68.0     60.0    84.0\n",
       "LotArea          8450    9600   11250     9550   14260\n",
       "...               ...     ...     ...      ...     ...\n",
       "MoSold              2       5       9        2      12\n",
       "YrSold           2008    2007    2008     2006    2008\n",
       "SaleType           WD      WD      WD       WD      WD\n",
       "SaleCondition  Normal  Normal  Normal  Abnorml  Normal\n",
       "SalePrice      208500  181500  223500   140000  250000\n",
       "\n",
       "[81 rows x 5 columns]"
      ]
     },
     "execution_count": 4,
     "metadata": {},
     "output_type": "execute_result"
    }
   ],
   "source": [
    "train = pd.read_csv('train.csv')\n",
    "print(train.shape)\n",
    "train.head().T"
   ]
  },
  {
   "cell_type": "code",
   "execution_count": 5,
   "metadata": {
    "collapsed": true
   },
   "outputs": [
    {
     "name": "stdout",
     "output_type": "stream",
     "text": [
      "(1459, 80)\n"
     ]
    },
    {
     "data": {
      "text/html": [
       "<div>\n",
       "<style scoped>\n",
       "    .dataframe tbody tr th:only-of-type {\n",
       "        vertical-align: middle;\n",
       "    }\n",
       "\n",
       "    .dataframe tbody tr th {\n",
       "        vertical-align: top;\n",
       "    }\n",
       "\n",
       "    .dataframe thead th {\n",
       "        text-align: right;\n",
       "    }\n",
       "</style>\n",
       "<table border=\"1\" class=\"dataframe\">\n",
       "  <thead>\n",
       "    <tr style=\"text-align: right;\">\n",
       "      <th></th>\n",
       "      <th>0</th>\n",
       "      <th>1</th>\n",
       "      <th>2</th>\n",
       "      <th>3</th>\n",
       "      <th>4</th>\n",
       "    </tr>\n",
       "  </thead>\n",
       "  <tbody>\n",
       "    <tr>\n",
       "      <th>Id</th>\n",
       "      <td>1461</td>\n",
       "      <td>1462</td>\n",
       "      <td>1463</td>\n",
       "      <td>1464</td>\n",
       "      <td>1465</td>\n",
       "    </tr>\n",
       "    <tr>\n",
       "      <th>MSSubClass</th>\n",
       "      <td>20</td>\n",
       "      <td>20</td>\n",
       "      <td>60</td>\n",
       "      <td>60</td>\n",
       "      <td>120</td>\n",
       "    </tr>\n",
       "    <tr>\n",
       "      <th>MSZoning</th>\n",
       "      <td>RH</td>\n",
       "      <td>RL</td>\n",
       "      <td>RL</td>\n",
       "      <td>RL</td>\n",
       "      <td>RL</td>\n",
       "    </tr>\n",
       "    <tr>\n",
       "      <th>LotFrontage</th>\n",
       "      <td>80.0</td>\n",
       "      <td>81.0</td>\n",
       "      <td>74.0</td>\n",
       "      <td>78.0</td>\n",
       "      <td>43.0</td>\n",
       "    </tr>\n",
       "    <tr>\n",
       "      <th>LotArea</th>\n",
       "      <td>11622</td>\n",
       "      <td>14267</td>\n",
       "      <td>13830</td>\n",
       "      <td>9978</td>\n",
       "      <td>5005</td>\n",
       "    </tr>\n",
       "    <tr>\n",
       "      <th>...</th>\n",
       "      <td>...</td>\n",
       "      <td>...</td>\n",
       "      <td>...</td>\n",
       "      <td>...</td>\n",
       "      <td>...</td>\n",
       "    </tr>\n",
       "    <tr>\n",
       "      <th>MiscVal</th>\n",
       "      <td>0</td>\n",
       "      <td>12500</td>\n",
       "      <td>0</td>\n",
       "      <td>0</td>\n",
       "      <td>0</td>\n",
       "    </tr>\n",
       "    <tr>\n",
       "      <th>MoSold</th>\n",
       "      <td>6</td>\n",
       "      <td>6</td>\n",
       "      <td>3</td>\n",
       "      <td>6</td>\n",
       "      <td>1</td>\n",
       "    </tr>\n",
       "    <tr>\n",
       "      <th>YrSold</th>\n",
       "      <td>2010</td>\n",
       "      <td>2010</td>\n",
       "      <td>2010</td>\n",
       "      <td>2010</td>\n",
       "      <td>2010</td>\n",
       "    </tr>\n",
       "    <tr>\n",
       "      <th>SaleType</th>\n",
       "      <td>WD</td>\n",
       "      <td>WD</td>\n",
       "      <td>WD</td>\n",
       "      <td>WD</td>\n",
       "      <td>WD</td>\n",
       "    </tr>\n",
       "    <tr>\n",
       "      <th>SaleCondition</th>\n",
       "      <td>Normal</td>\n",
       "      <td>Normal</td>\n",
       "      <td>Normal</td>\n",
       "      <td>Normal</td>\n",
       "      <td>Normal</td>\n",
       "    </tr>\n",
       "  </tbody>\n",
       "</table>\n",
       "<p>80 rows × 5 columns</p>\n",
       "</div>"
      ],
      "text/plain": [
       "                    0       1       2       3       4\n",
       "Id               1461    1462    1463    1464    1465\n",
       "MSSubClass         20      20      60      60     120\n",
       "MSZoning           RH      RL      RL      RL      RL\n",
       "LotFrontage      80.0    81.0    74.0    78.0    43.0\n",
       "LotArea         11622   14267   13830    9978    5005\n",
       "...               ...     ...     ...     ...     ...\n",
       "MiscVal             0   12500       0       0       0\n",
       "MoSold              6       6       3       6       1\n",
       "YrSold           2010    2010    2010    2010    2010\n",
       "SaleType           WD      WD      WD      WD      WD\n",
       "SaleCondition  Normal  Normal  Normal  Normal  Normal\n",
       "\n",
       "[80 rows x 5 columns]"
      ]
     },
     "execution_count": 5,
     "metadata": {},
     "output_type": "execute_result"
    }
   ],
   "source": [
    "test = pd.read_csv('test.csv')\n",
    "print(test.shape)\n",
    "test.head().T"
   ]
  },
  {
   "cell_type": "code",
   "execution_count": 6,
   "metadata": {
    "scrolled": true
   },
   "outputs": [
    {
     "name": "stdout",
     "output_type": "stream",
     "text": [
      "No of train cat_cols :  43\n",
      "No of test cat_cols :  43\n"
     ]
    }
   ],
   "source": [
    "cats_train = train.select_dtypes(include='object').columns\n",
    "cats_test = test.select_dtypes(include='object').columns\n",
    "print('No of train cat_cols : ',len(cats_train))\n",
    "print('No of test cat_cols : ',len(cats_test))"
   ]
  },
  {
   "cell_type": "code",
   "execution_count": 7,
   "metadata": {},
   "outputs": [
    {
     "name": "stdout",
     "output_type": "stream",
     "text": [
      "No of train cat_cols :  38\n",
      "No of test cat_cols :  37\n"
     ]
    }
   ],
   "source": [
    "nums_train = train.select_dtypes(exclude='object').columns\n",
    "nums_test = test.select_dtypes(exclude='object').columns\n",
    "print('No of train cat_cols : ',len(nums_train))\n",
    "print('No of test cat_cols : ',len(nums_test))"
   ]
  },
  {
   "cell_type": "code",
   "execution_count": 8,
   "metadata": {},
   "outputs": [],
   "source": [
    "base_cat=['Neighborhood', 'Exterior2nd', 'Exterior1st', 'BsmtFinType1',\n",
    "       'FireplaceQu', 'GarageFinish', 'BsmtQual', 'KitchenQual', 'GarageType',\n",
    "       'BsmtExposure', 'Foundation', 'HeatingQC', 'ExterQual', 'MasVnrType',\n",
    "       'SaleCondition', 'MSZoning', 'SaleType']"
   ]
  },
  {
   "cell_type": "code",
   "execution_count": null,
   "metadata": {},
   "outputs": [],
   "source": [
    "def prepare_X_cat(df,base_cat,cats):\n",
    "    df_def = df.copy()\n",
    "    df_def = df_def[cats_train].fillna('missing')\n",
    "    base_ =  base_cat\n",
    "    features = base_.copy()\n",
    "    created_features= []\n",
    "    drops=[]\n",
    "    \n",
    "    def Similar_Category(column,similar_categories,category):   \n",
    "        rows_with_matches = df_def[column].isin(similar_categories)\n",
    "        new_feature = 'sim_%s' % column\n",
    "        df_def[new_feature] = df_def[column]\n",
    "        df_def.loc[rows_with_matches,new_feature] = category\n",
    "        created_features.append(new_feature)\n",
    "        print(f\"Created New_Feat : '{new_feature}' succesfully!\")\n",
    "        print(\"Created Features list :\",created_features)\n",
    "        display(df_def[new_feature].value_counts())\n",
    "        print()\n",
    "        #return df\n",
    "    def Similar_Category2d(column,feature_name,similar_categories_2d_array,category_array):\n",
    "        new_feature = feature_name\n",
    "        df_def[new_feature] = df_def[column]\n",
    "        for idx,similar_categories1d in enumerate(similar_categories_2d_array):\n",
    "                #for element in arr1d:\n",
    "                #column=element\n",
    "                rows_with_matches = df_def[column].isin(similar_categories1d)\n",
    "                df_def.loc[rows_with_matches,new_feature] = category_array[idx]\n",
    "        created_features.append(new_feature)\n",
    "        print(f\"Created New_Feat : '{new_feature}' succesfully!\")\n",
    "        print(\"Created Features list :\",created_features)\n",
    "        display(df_def[new_feature].value_counts())\n",
    "        print()\n",
    "    def adding_similar_features_Categorical(new_col,features):\n",
    "        new_feature = 'concat_'+new_col\n",
    "        combi = df_def[features].values\n",
    "        df_def[new_feature] = [ '_'.join(feat) for feat in combi]\n",
    "        created_features.append(new_feature)\n",
    "        print(f\"Created New_Feat : '{new_feature}' succesfully!\")\n",
    "        print(\"Created Features list :\",created_features)\n",
    "        display(df_def[new_feature].value_counts())\n",
    "        print()\n",
    "        #return df\n",
    "    def Handling_Rare_Values(column,threshold):     \n",
    "        #df_def[column] = df_def[column].fillna(\"NONE\")\n",
    "        condition_index = df_def[column].value_counts()[df_def[column]].values < threshold\n",
    "        new_feature = 'rare_'+ column\n",
    "        df_def[new_feature] = df_def[column]\n",
    "        df_def.loc[condition_index, new_feature] = \"RARE\"\n",
    "        created_features.append(new_feature)\n",
    "        print(f\"Created New_Feat : '{new_feature}' succesfully!\")\n",
    "        print(\"Created Features list :\",created_features)\n",
    "        display(df_def[new_feature].value_counts())\n",
    "        print()\n",
    "        #return df\n",
    "    def Yes_Or_No(column,categories,reverse=True):\n",
    "        for v in categories:\n",
    "            if reverse == False:\n",
    "                new_feature = 'No_'+column+'_'+v\n",
    "                df_def[new_feature] = (df_def[column] != v).astype(int)\n",
    "            else:\n",
    "                new_feature = 'Yes_'+column+'_'+v\n",
    "                df_def[new_feature] = (df_def[column] == v).astype(int)\n",
    "            created_features.append(new_feature)\n",
    "        print(f\"Created New_Feat : '{new_feature}' succesfully!\")\n",
    "        print(\"Created Features list :\",created_features)\n",
    "        display(df_def[new_feature].value_counts())\n",
    "        print()\n",
    "    \n",
    "    def adding_similar_features(new_col,features):\n",
    "        new_feature='total_'+new_col    \n",
    "        df_def[new_feature] = df_def[features].sum(axis=1)\n",
    "        created_features.append(new_feature)\n",
    "        print(f\"Created New_Feat : '{new_feature}' succesfully!\")\n",
    "        print(\"Created Features list :\",created_features)\n",
    "        display(df_def[new_feature].value_counts())\n",
    "        print()\n",
    "        \n",
    "    def map_dict(column,feature_name,column_dict):\n",
    "        new_feature = feature_name\n",
    "        df_def[feature_name] =  df_def[column].map(column_dict)\n",
    "        created_features.append(new_feature)\n",
    "        print(f\"Created New_Feat : '{new_feature}' succesfully!\")\n",
    "        print(\"Created Features list :\",created_features)\n",
    "        display(df_def[new_feature].value_counts())\n",
    "        print()\n",
    "        \n",
    "    def find_word(column,word_pattern,feature_name):\n",
    "        import re\n",
    "        new_feature = feature_name\n",
    "        df_def[feature_name] =np.zeros(shape=df_def.shape[0], dtype=int)\n",
    "        mask = df_def[column].str.contains(word_pattern)\n",
    "        df_def.loc[mask,feature_name] = 1\n",
    "        created_features.append(new_feature)\n",
    "        print(f\"Created New_Feat : '{new_feature}' succesfully!\")\n",
    "        print(\"Created Features list :\",created_features)\n",
    "        display(df_def[new_feature].value_counts())\n",
    "        print()\n",
    "        \n",
    "    def groupIn(column,group,feature_name):\n",
    "        new_feature = feature_name\n",
    "        df_def[feature_name] =np.zeros(shape=df_def.shape[0], dtype=int)\n",
    "        for category in group:\n",
    "            mask = df_def[column]==category\n",
    "            df_def.loc[mask,feature_name] = 1\n",
    "        created_features.append(new_feature)\n",
    "        print(f\"Created New_Feat : '{new_feature}' succesfully!\")\n",
    "        print(\"Created Features list :\",created_features)\n",
    "        display(df_def[new_feature].value_counts())\n",
    "        print()\n",
    "            \n",
    "            \n",
    "        \n",
    "        \n",
    "    HouseStyle_Dict = {\n",
    "       '1Story':'One story',\n",
    "       '1.5Fin':'One and one-half story: 2nd level finished',\n",
    "       '1.5Unf':'One and one-half story: 2nd level unfinished',\n",
    "       '2Story':'Two story',\n",
    "       '2.5Fin':'Two and one-half story: 2nd level finished',\n",
    "       '2.5Unf':'Two and one-half story: 2nd level unfinished',\n",
    "       'SFoyer':'Split Foyer',\n",
    "       'SLvl':'Split Level',}\n",
    "    \n",
    "    #MSZoning\n",
    "    Handling_Rare_Values(column='MSZoning',threshold=20)\n",
    "    #Alley\n",
    "    Yes_Or_No(column='Alley',categories=['missing'],reverse=False)\n",
    "    #LotShape,LandContour,LandSlope\n",
    "    Similar_Category(column='LotShape',similar_categories=['IR1','IR2','IR3'],category='Iregular')\n",
    "    Similar_Category(column='LandContour',similar_categories=['Bnk','HLS','Low'],category='Not_Level')\n",
    "    Similar_Category(column='LandSlope',similar_categories=['Mod','Sev'],category='Not_Gentle')\n",
    "    adding_similar_features_Categorical(new_col='LandShape',features=['sim_LotShape','sim_LandContour','sim_LandSlope'])\n",
    "    #Condition1,Condition2\n",
    "    Yes_Or_No(column='Condition1',categories=['Norm'],reverse=True)\n",
    "    Yes_Or_No(column='Condition2',categories=['Norm'],reverse=True)\n",
    "    adding_similar_features(new_col='Condition',features=['Yes_Condition1_Norm','Yes_Condition2_Norm'])#Yes_Condition1_Norm\n",
    "    #BldgType\n",
    "    Yes_Or_No(column='BldgType',categories=['1Fam'],reverse=True) # single family or not\n",
    "    #HouseStyle\n",
    "    map_dict(column='HouseStyle',feature_name='HouseStyle_Desc',column_dict=HouseStyle_Dict)\n",
    "    drops.append('HouseStyle_Desc')\n",
    "    Similar_Category2d(column='HouseStyle',feature_name='HouseStyle_Story',similar_categories_2d_array=[['1.5Fin','1.5Unf'],['2.5Fin','2.5Unf'],['SFoyer','SLvl']],\n",
    "                       category_array=['One and one-half story','Two and one-half story','SplitFoyer/Level'])\n",
    "    find_word(column='HouseStyle_Desc',word_pattern=r'\\bfinished\\b',feature_name='HouseStyle_finished')\n",
    "    #Distinct variation in median prices (2.5F>2>SLvl) and (SFoyer>2.5Uf>1.5F>1.5Uf) and (1Story)\n",
    "    Similar_Category2d(column='HouseStyle',feature_name='HStyle_Price_Grade',similar_categories_2d_array=\n",
    "                      [['2.5Fin','2Story','SLvl'],['1Story'],['SFoyer','2.5Unf','1.5Fin','1.5Unf']],\n",
    "                      category_array=['Expensive','medium','lower'])\n",
    "    #RoofStyle\n",
    "    def RfSyle():\n",
    "        new_feature = 'Roof_Hip/Gable'\n",
    "        df_def['Roof_Hip/Gable'] = (df_def['RoofStyle']== 'Hip' ).astype(int)\n",
    "        df_def['Roof_Hip/Gable'] = (df_def['RoofStyle']== 'Gable' ).astype(int)\n",
    "        created_features.append(new_feature)\n",
    "        print(f\"Created New_Feat : '{new_feature}' succesfully!\")\n",
    "        print(\"Created Features list :\",created_features)\n",
    "        display(df_def[new_feature].value_counts())\n",
    "    RfSyle()\n",
    "    #Exterior1st,Exterior2nd\n",
    "    Handling_Rare_Values(column='Exterior1st',threshold=30)\n",
    "    Handling_Rare_Values(column='Exterior2nd',threshold=30)\n",
    "    adding_similar_features_Categorical(new_col='Exterior',features=['Exterior1st','Exterior2nd'])\n",
    "    #MasVnrType\n",
    "    groupIn(column='MasVnrType',group=['None','missing'],feature_name='!Mason_Exist1')\n",
    "    groupIn(column='!Mason_Exist1',group=[0],feature_name='Mason_Exist')\n",
    "    \n",
    "    # ExterQual: Evaluates the quality of the material on the exterior ,\n",
    "    #Distinct variation in median prices [Ex>Gd>TA>Fa]\n",
    "    Similar_Category2d(column='ExterQual',feature_name='ExterQual_Price_grade',similar_categories_2d_array=\n",
    "                       [['TA'],['Gd','Ex'],['Fa']],category_array=['Avg','Avg+','Avg-'])\n",
    "    Similar_Category2d(column='ExterQual',feature_name='ExterQual_Price_grade1',similar_categories_2d_array=\n",
    "                       [['TA'],['Gd','Ex'],['Fa']],category_array=[0,1,-1])\n",
    "    #ExterCond\n",
    "    Similar_Category2d(column='ExterCond',feature_name='ExterCond_Price_grade',similar_categories_2d_array=\n",
    "                [['TA'],['Gd','Ex'],['Fa','Po']],category_array=['Avg','Avg+','Avg-'])\n",
    "    Similar_Category2d(column='ExterCond',feature_name='ExterCond_Price_grade1',similar_categories_2d_array=\n",
    "                [['TA'],['Gd','Ex'],['Fa','Po']],category_array=[0,1,-1])\n",
    "    adding_similar_features_Categorical(new_col='Exterior',features=['ExterQual_Price_grade','ExterCond_Price_grade'])\n",
    "    adding_similar_features(new_col='ExtQualCond',features=['ExterQual_Price_grade1','ExterCond_Price_grade1'])\n",
    "    #Foundation\n",
    "    Handling_Rare_Values(column='Foundation',threshold=200)\n",
    "    #BsmtQual\n",
    "    Similar_Category2d(column='BsmtQual',feature_name='BsmtQual_Price_grade',similar_categories_2d_array=\n",
    "                [['TA'],['Gd','Ex'],['Fa','missing']],category_array=['Avg','Avg+','Avg-'])\n",
    "    Similar_Category2d(column='BsmtQual',feature_name='BsmtQual_Price_grade1',similar_categories_2d_array=\n",
    "                [['TA'],['Gd','Ex'],['Fa','missing']],category_array=[0,1,-1])\n",
    "    #BsmtCond\n",
    "    Similar_Category2d(column='BsmtCond',feature_name='BsmtCond_Price_grade',similar_categories_2d_array=\n",
    "                [['TA'],['Gd','Ex'],['Fa','missing','Po']],category_array=['Avg','Avg+','Avg-'])\n",
    "    Similar_Category2d(column='BsmtCond',feature_name='BsmtCond_Price_grade1',similar_categories_2d_array=\n",
    "                [['TA'],['Gd','Ex'],['Fa','missing','Po']],category_array=[0,1,-1])\n",
    "    adding_similar_features_Categorical(new_col='BsmtQualCond',features=['BsmtQual_Price_grade','BsmtCond_Price_grade'])\n",
    "    adding_similar_features(new_col='BsmtQualCond',features=['BsmtQual_Price_grade1','BsmtCond_Price_grade1'])\n",
    "    #BsmtExposure\n",
    "    Similar_Category2d(column='BsmtExposure',feature_name='BsmtExposure_Price_grade1',similar_categories_2d_array=\n",
    "                [['Gd'],['Av'],['Mn'],['No','missing']],category_array=[2,1,-1,-2])\n",
    "    #BsmtFinType1\n",
    "    Similar_Category2d(column='BsmtFinType1',feature_name='BsmtFin1_Price_grade1',similar_categories_2d_array=\n",
    "                [['GLQ'],['Unf'],['ALQ'],['Rec','LwQ','BLQ'],['missing']],category_array=[2,1,0,-1,-2])\n",
    "    #BsmtFinType2\n",
    "    Similar_Category2d(column='BsmtFinType2',feature_name='BsmtFin2_Price_grade1',similar_categories_2d_array=\n",
    "                [['GLQ'],['Unf'],['ALQ'],['Rec','LwQ','BLQ'],['missing']],category_array=[2,1,0,-1,-2])\n",
    "    adding_similar_features(new_col='BsmtFin',features=['BsmtFin2_Price_grade1','BsmtFin1_Price_grade1'])\n",
    "    #HeatingQC\n",
    "    Similar_Category2d(column='HeatingQC',feature_name='HeatingQC_Price_grade1',similar_categories_2d_array=\n",
    "                [['TA'],['Gd'],['Ex'],['Fa','Po']],category_array=[0,1,2,-2])\n",
    "    #CentralAir\n",
    "    Yes_Or_No(column='CentralAir',categories=['Y'],reverse=True)\n",
    "    #Electrical\n",
    "    Yes_Or_No(column='Electrical',categories=['SBrkr'],reverse=True)\n",
    "    #KitchenQual\n",
    "    Similar_Category2d(column='KitchenQual',feature_name='KitchenQ_Price_grade1',similar_categories_2d_array=\n",
    "                [['TA'],['Gd'],['Ex'],['Fa','Po']],category_array=[0,1,2,-2])\n",
    "    #Functional\n",
    "    Yes_Or_No(column='Functional',categories=['Typ'],reverse=True)\n",
    "    #FireplaceQu\n",
    "    Similar_Category2d(column='FireplaceQu',feature_name='FireplaceQu_Price_grade1',similar_categories_2d_array=\n",
    "                [['TA'],['Gd'],['Ex'],['Fa','Po','missing']],category_array=[0,1,2,-2])\n",
    "    #GarageType\n",
    "    #[BuiltIn ,Attchd,Basment,2Types]\n",
    "    groupIn(column='GarageType',group=['BuiltIn' ,'Attchd','Basment','2Types'],feature_name='GarageType_InHome')\n",
    "    #GarageFinish\n",
    "    groupIn(column='GarageFinish',group=['RFn','Fin'],feature_name='GarageFinish_ed')\n",
    "    Similar_Category2d(column='GarageFinish',feature_name='GarageFinish_Price_grade1',similar_categories_2d_array=\n",
    "                [['RFn','Fin'],['missing'],['Unf']],category_array=[2,-2,0])\n",
    "    #GarageQual\n",
    "    groupIn(column='GarageQual',group=['Gd','TA','Ex'],feature_name='GarageQ_Avg&Above')\n",
    "    #GarageCond\n",
    "    groupIn(column='GarageCond',group=['Gd','TA','Ex'],feature_name='GarageC_Avg&Above')\n",
    "    adding_similar_features(new_col='Garage_Q&C',features=['GarageQ_Avg&Above','GarageC_Avg&Above'])\n",
    "    #PavedDrive\n",
    "    groupIn(column='PavedDrive',group=['Y','P'],feature_name='PavedDrive1')\n",
    "    #PooLQC\n",
    "    groupIn(column='PoolQC',group=['Gd','Ex'],feature_name='PoolQC1')\n",
    "    #Fence\n",
    "    Yes_Or_No(column='Fence',categories=['missing'],reverse=False)\n",
    "    #MiscFeature\n",
    "    Yes_Or_No(column='MiscFeature',categories=['missing'],reverse=False)\n",
    "    #SaleType\n",
    "    groupIn(column='SaleType',group=['WD','CWD'],feature_name='SaleType_Any_Warranty')\n",
    "    groupIn(column='SaleType',group=['New'],feature_name='SaleType_New_House')\n",
    "    #SaleCondition\n",
    "    groupIn(column='SaleCondition',group=['Normal','Partial'],feature_name='SaleCon_Normal')\n",
    "    \n",
    "    #UTILITY\n",
    "    add_info=['Mason_Exist','Yes_CentralAir_Y','Yes_Electrical_SBrkr','Yes_Functional_Typ','GarageType_InHome',\n",
    "         'PavedDrive1','PoolQC1','No_Fence_missing','No_MiscFeature_missing']\n",
    "    adding_similar_features(new_col='Utility_Count',features=add_info)\n",
    "    drop1=['sim_LotShape','sim_LandContour','sim_LandSlope','!Mason_Exist1']\n",
    "    drops.extend(drop1)\n",
    "    drops.extend(add_info)\n",
    "    \n",
    "    \n",
    "    return df_def,created_features,drops    "
   ]
  },
  {
   "cell_type": "code",
   "execution_count": null,
   "metadata": {},
   "outputs": [],
   "source": [
    "base_con=['GrLivArea', '1stFlrSF', 'TotalBsmtSF', 'GarageArea',\n",
    "       'BsmtFinSF1', 'YearBuilt', 'YearRemodAdd', 'OpenPorchSF', '2ndFlrSF',\n",
    "       'WoodDeckSF', 'MasVnrArea']"
   ]
  },
  {
   "cell_type": "code",
   "execution_count": null,
   "metadata": {},
   "outputs": [],
   "source": [
    "#GrLivArea 4000,1stFlrSF 2500 ,TotalBsmtSF 3000 ,GarageArea 1200"
   ]
  },
  {
   "cell_type": "code",
   "execution_count": 133,
   "metadata": {},
   "outputs": [],
   "source": [
    "def prepare_X_con(df,base_con,cons):\n",
    "    #GrLivArea 4000,1stFlrSF 2500 ,TotalBsmtSF 3000 ,GarageArea 1200\n",
    "    condition = (df.GrLivArea <4000) & (df['1stFlrSF'] < 2500) & (df.TotalBsmtSF < 3000) & ( df.GarageArea  < 1200) & (df.MasVnrArea<1000)\n",
    "    df_def = df[condition]\n",
    "    \n",
    "    df_def = df_def[cons].fillna(0)\n",
    "    created_features= []\n",
    "    drops=[]\n",
    "    \n",
    "    def adding_similar_features(new_col,features):\n",
    "        new_feature = 'total_'+new_col\n",
    "        df_def[new_feature] = df_def[features].sum(axis=1)\n",
    "        created_features.append(new_feature)\n",
    "        print(f\"Created New_Feat : '{new_feature}' succesfully!\")\n",
    "        print(\"Created Features list :\",created_features)\n",
    "        print()\n",
    "        \n",
    "    def Count_Feat_Engr(components,new_feature):\n",
    "        df_def[new_feature] = df_def[components].gt(0).sum(axis=1)\n",
    "        created_features.append(new_feature)\n",
    "        print(f\"Created New_Feat : '{new_feature}' succesfully!\")\n",
    "        print(\"Created Features list :\",created_features)\n",
    "        print()\n",
    "        \n",
    "    def Ratio(a,b,ratio_name):\n",
    "        new_feature = ratio_name\n",
    "        df_def[new_feature] = df_def[a]/df_def[b]\n",
    "        mask = df_def[b]==0\n",
    "        df_def.loc[mask,new_feature]=0 # to handle infinity\n",
    "        created_features.append(new_feature)\n",
    "        print(f\"Created New_Feat : '{new_feature}' succesfully!\")\n",
    "        print(\"Created Features list :\",created_features)\n",
    "        print()\n",
    "    def create_polynomial_features(d_pol,poly_features,alias,interaction_only =True):     \n",
    "        from sklearn.preprocessing import PolynomialFeatures\n",
    "        poly = PolynomialFeatures(degree=2,interaction_only=interaction_only,include_bias=False)\n",
    "\n",
    "        poly1 = poly.fit_transform(d_pol[poly_features])\n",
    "        \n",
    "        df_poly = pd.DataFrame(poly1,columns=[f'poly_{alias}_{i}' for i in range(poly1.shape[1])])\n",
    "        d_pol=pd.concat([d_pol,df_poly],axis=1)\n",
    "        display(d_pol.head(2))\n",
    "        pol_cols = [f'poly_{alias}_{i}' for i in range(poly1.shape[1])]\n",
    "        created_features.extend(pol_cols)\n",
    "        print(f\"Created New_Feat : '{pol_cols}' succesfully!\")\n",
    "        print(\"Created Features list :\",created_features)\n",
    "        print()\n",
    "        return d_pol\n",
    "\n",
    "\n",
    "\n",
    "    def fundamentals():\n",
    "        #'YearBuilt', 'YearRemodAdd','GarageYrBlt'\n",
    "        df_def['Age_YrBuilt'] = 2010-df_def.YearBuilt\n",
    "        df_def['Age_YrRmd'] = 2010-df_def.YearRemodAdd\n",
    "        df_def['Diff_YrRmd_YrBlt'] = df_def.YearRemodAdd-df_def.YearBuilt\n",
    "        df_def['Age_GarageYrBlt'] = 2010 - df_def.GarageYrBlt\n",
    "        df_def['Diff_GarYBlt_YrBlt'] = df_def.GarageYrBlt-df_def.YearBuilt\n",
    "        \n",
    "        df_def[\"LivLotRatio\"] = df_def.GrLivArea  /df_def.LotArea\n",
    "        df_def[\"Spaciousness\"] = (df_def['1stFlrSF'] + df_def['2ndFlrSF']) / df_def.TotRmsAbvGrd\n",
    "        #df_def[\"TotalOutsideSF\"] =  df_def.WoodDeckSF + df_def.OpenPorchSF + df_def.EnclosedPorch + df_def.Threeseasonporch + df_def.ScreenPorch\n",
    "        #df_def[\"PorchTypes\"] = df_def[['WoodDeckSF','OpenPorchSF','EnclosedPorch','Threeseasonporch','ScreenPorch']].gt(0).sum(axis=1)\n",
    "        new_cols = ['Age_YrBuilt','Age_YrRmd','Diff_YrRmd_YrBlt','Age_GarageYrBlt','Diff_GarYBlt_YrBlt',\"LivLotRatio\",\"Spaciousness\"]\n",
    "        created_features.extend(new_cols)\n",
    "        print(f\"Created New_Feat : '{new_cols}' succesfully!\")\n",
    "        print(\"Created Features list :\",created_features)\n",
    "        print()\n",
    "        \n",
    "    fundamentals()\n",
    "    #\"TotalOutsideSF\"\n",
    "    OutsideSF = ['WoodDeckSF','OpenPorchSF', 'EnclosedPorch', '3SsnPorch', 'ScreenPorch']\n",
    "    adding_similar_features(new_col='OutsideSF',features=OutsideSF)\n",
    "    Count_Feat_Engr(components=OutsideSF,new_feature='Count_OutSideSF')\n",
    "    Ratio(a='total_OutsideSF',b='Count_OutSideSF',ratio_name='Rat_Out_Count')\n",
    "    \n",
    "    #Area\n",
    "    Areas=['LotArea', 'MasVnrArea', 'GrLivArea', 'GarageArea', 'PoolArea','TotalBsmtSF']\n",
    "    adding_similar_features(new_col='Area',features=Areas)\n",
    "    Count_Feat_Engr(components=Areas,new_feature='Count_Areas')\n",
    "    Ratio(a='total_Area',b='Count_Areas',ratio_name='Rat_Areas_Count')\n",
    "    \n",
    "    \n",
    "    #Floors squarefeet\n",
    "    Floors = ['1stFlrSF', '2ndFlrSF']\n",
    "    adding_similar_features(new_col='Floors',features=Floors)\n",
    "    Count_Feat_Engr(components=Floors,new_feature='Count_Floors')\n",
    "    Ratio(a='total_Floors',b='Count_Floors',ratio_name='Rat_Floors_Count')\n",
    "    \n",
    "    #BaseMent Finish\n",
    "    Bsmt_FinSF = ['BsmtFinSF1', 'BsmtFinSF2']\n",
    "    adding_similar_features(new_col='Bsmt_FinSF',features=Bsmt_FinSF)\n",
    "    Ratio(a='TotalBsmtSF',b='total_Bsmt_FinSF',ratio_name='Tot_Bsmt_per_Fin')\n",
    "\n",
    "    \n",
    "    \n",
    "    return df_def[base_con+created_features+['SalePrice']]#,created_features"
   ]
  },
  {
   "cell_type": "code",
   "execution_count": 141,
   "metadata": {
    "scrolled": true
   },
   "outputs": [
    {
     "name": "stdout",
     "output_type": "stream",
     "text": [
      "Created New_Feat : '['Age_YrBuilt', 'Age_YrRmd', 'Diff_YrRmd_YrBlt', 'Age_GarageYrBlt', 'Diff_GarYBlt_YrBlt', 'LivLotRatio', 'Spaciousness']' succesfully!\n",
      "Created Features list : ['Age_YrBuilt', 'Age_YrRmd', 'Diff_YrRmd_YrBlt', 'Age_GarageYrBlt', 'Diff_GarYBlt_YrBlt', 'LivLotRatio', 'Spaciousness']\n",
      "\n",
      "Created New_Feat : 'total_OutsideSF' succesfully!\n",
      "Created Features list : ['Age_YrBuilt', 'Age_YrRmd', 'Diff_YrRmd_YrBlt', 'Age_GarageYrBlt', 'Diff_GarYBlt_YrBlt', 'LivLotRatio', 'Spaciousness', 'total_OutsideSF']\n",
      "\n",
      "Created New_Feat : 'Count_OutSideSF' succesfully!\n",
      "Created Features list : ['Age_YrBuilt', 'Age_YrRmd', 'Diff_YrRmd_YrBlt', 'Age_GarageYrBlt', 'Diff_GarYBlt_YrBlt', 'LivLotRatio', 'Spaciousness', 'total_OutsideSF', 'Count_OutSideSF']\n",
      "\n",
      "Created New_Feat : 'Rat_Out_Count' succesfully!\n",
      "Created Features list : ['Age_YrBuilt', 'Age_YrRmd', 'Diff_YrRmd_YrBlt', 'Age_GarageYrBlt', 'Diff_GarYBlt_YrBlt', 'LivLotRatio', 'Spaciousness', 'total_OutsideSF', 'Count_OutSideSF', 'Rat_Out_Count']\n",
      "\n",
      "Created New_Feat : 'total_Area' succesfully!\n",
      "Created Features list : ['Age_YrBuilt', 'Age_YrRmd', 'Diff_YrRmd_YrBlt', 'Age_GarageYrBlt', 'Diff_GarYBlt_YrBlt', 'LivLotRatio', 'Spaciousness', 'total_OutsideSF', 'Count_OutSideSF', 'Rat_Out_Count', 'total_Area']\n",
      "\n",
      "Created New_Feat : 'Count_Areas' succesfully!\n",
      "Created Features list : ['Age_YrBuilt', 'Age_YrRmd', 'Diff_YrRmd_YrBlt', 'Age_GarageYrBlt', 'Diff_GarYBlt_YrBlt', 'LivLotRatio', 'Spaciousness', 'total_OutsideSF', 'Count_OutSideSF', 'Rat_Out_Count', 'total_Area', 'Count_Areas']\n",
      "\n",
      "Created New_Feat : 'Rat_Areas_Count' succesfully!\n",
      "Created Features list : ['Age_YrBuilt', 'Age_YrRmd', 'Diff_YrRmd_YrBlt', 'Age_GarageYrBlt', 'Diff_GarYBlt_YrBlt', 'LivLotRatio', 'Spaciousness', 'total_OutsideSF', 'Count_OutSideSF', 'Rat_Out_Count', 'total_Area', 'Count_Areas', 'Rat_Areas_Count']\n",
      "\n",
      "Created New_Feat : 'total_Floors' succesfully!\n",
      "Created Features list : ['Age_YrBuilt', 'Age_YrRmd', 'Diff_YrRmd_YrBlt', 'Age_GarageYrBlt', 'Diff_GarYBlt_YrBlt', 'LivLotRatio', 'Spaciousness', 'total_OutsideSF', 'Count_OutSideSF', 'Rat_Out_Count', 'total_Area', 'Count_Areas', 'Rat_Areas_Count', 'total_Floors']\n",
      "\n",
      "Created New_Feat : 'Count_Floors' succesfully!\n",
      "Created Features list : ['Age_YrBuilt', 'Age_YrRmd', 'Diff_YrRmd_YrBlt', 'Age_GarageYrBlt', 'Diff_GarYBlt_YrBlt', 'LivLotRatio', 'Spaciousness', 'total_OutsideSF', 'Count_OutSideSF', 'Rat_Out_Count', 'total_Area', 'Count_Areas', 'Rat_Areas_Count', 'total_Floors', 'Count_Floors']\n",
      "\n",
      "Created New_Feat : 'Rat_Floors_Count' succesfully!\n",
      "Created Features list : ['Age_YrBuilt', 'Age_YrRmd', 'Diff_YrRmd_YrBlt', 'Age_GarageYrBlt', 'Diff_GarYBlt_YrBlt', 'LivLotRatio', 'Spaciousness', 'total_OutsideSF', 'Count_OutSideSF', 'Rat_Out_Count', 'total_Area', 'Count_Areas', 'Rat_Areas_Count', 'total_Floors', 'Count_Floors', 'Rat_Floors_Count']\n",
      "\n",
      "Created New_Feat : 'total_Bsmt_FinSF' succesfully!\n",
      "Created Features list : ['Age_YrBuilt', 'Age_YrRmd', 'Diff_YrRmd_YrBlt', 'Age_GarageYrBlt', 'Diff_GarYBlt_YrBlt', 'LivLotRatio', 'Spaciousness', 'total_OutsideSF', 'Count_OutSideSF', 'Rat_Out_Count', 'total_Area', 'Count_Areas', 'Rat_Areas_Count', 'total_Floors', 'Count_Floors', 'Rat_Floors_Count', 'total_Bsmt_FinSF']\n",
      "\n",
      "Created New_Feat : 'Tot_Bsmt_per_Fin' succesfully!\n",
      "Created Features list : ['Age_YrBuilt', 'Age_YrRmd', 'Diff_YrRmd_YrBlt', 'Age_GarageYrBlt', 'Diff_GarYBlt_YrBlt', 'LivLotRatio', 'Spaciousness', 'total_OutsideSF', 'Count_OutSideSF', 'Rat_Out_Count', 'total_Area', 'Count_Areas', 'Rat_Areas_Count', 'total_Floors', 'Count_Floors', 'Rat_Floors_Count', 'total_Bsmt_FinSF', 'Tot_Bsmt_per_Fin']\n",
      "\n"
     ]
    }
   ],
   "source": [
    "data = prepare_X_con(df=train,base_con=base_con,cons=nums_train)"
   ]
  },
  {
   "cell_type": "code",
   "execution_count": 144,
   "metadata": {},
   "outputs": [
    {
     "ename": "KeyError",
     "evalue": "\"['poly_OutsideSF_0', 'poly_OutsideSF_1', 'poly_OutsideSF_2', 'poly_OutsideSF_3', 'poly_OutsideSF_4', 'poly_OutsideSF_5', 'poly_OutsideSF_6', 'poly_OutsideSF_7', 'poly_OutsideSF_8', 'poly_OutsideSF_9', 'poly_OutsideSF_10', 'poly_OutsideSF_11', 'poly_OutsideSF_12', 'poly_OutsideSF_13', 'poly_OutsideSF_14', 'poly_Area_0', 'poly_Area_1', 'poly_Area_2', 'poly_Area_3', 'poly_Area_4', 'poly_Area_5', 'poly_Area_6', 'poly_Area_7', 'poly_Area_8', 'poly_Area_9', 'poly_Area_10', 'poly_Area_11', 'poly_Area_12', 'poly_Area_13', 'poly_Area_14', 'poly_Area_15', 'poly_Area_16', 'poly_Area_17', 'poly_Area_18', 'poly_Area_19', 'poly_Area_20', 'poly_Floors_0', 'poly_Floors_1', 'poly_Floors_2'] not in index\"",
     "output_type": "error",
     "traceback": [
      "\u001b[1;31m---------------------------------------------------------------------------\u001b[0m",
      "\u001b[1;31mKeyError\u001b[0m                                  Traceback (most recent call last)",
      "\u001b[1;32m<ipython-input-144-14bd07291f23>\u001b[0m in \u001b[0;36m<module>\u001b[1;34m\u001b[0m\n\u001b[1;32m----> 1\u001b[1;33m \u001b[0mdata\u001b[0m\u001b[1;33m[\u001b[0m\u001b[0mnew_features\u001b[0m\u001b[1;33m]\u001b[0m\u001b[1;33m\u001b[0m\u001b[1;33m\u001b[0m\u001b[0m\n\u001b[0m",
      "\u001b[1;32mC:\\ProgramData\\Anaconda3\\lib\\site-packages\\pandas\\core\\frame.py\u001b[0m in \u001b[0;36m__getitem__\u001b[1;34m(self, key)\u001b[0m\n\u001b[0;32m   3509\u001b[0m             \u001b[1;32mif\u001b[0m \u001b[0mis_iterator\u001b[0m\u001b[1;33m(\u001b[0m\u001b[0mkey\u001b[0m\u001b[1;33m)\u001b[0m\u001b[1;33m:\u001b[0m\u001b[1;33m\u001b[0m\u001b[1;33m\u001b[0m\u001b[0m\n\u001b[0;32m   3510\u001b[0m                 \u001b[0mkey\u001b[0m \u001b[1;33m=\u001b[0m \u001b[0mlist\u001b[0m\u001b[1;33m(\u001b[0m\u001b[0mkey\u001b[0m\u001b[1;33m)\u001b[0m\u001b[1;33m\u001b[0m\u001b[1;33m\u001b[0m\u001b[0m\n\u001b[1;32m-> 3511\u001b[1;33m             \u001b[0mindexer\u001b[0m \u001b[1;33m=\u001b[0m \u001b[0mself\u001b[0m\u001b[1;33m.\u001b[0m\u001b[0mcolumns\u001b[0m\u001b[1;33m.\u001b[0m\u001b[0m_get_indexer_strict\u001b[0m\u001b[1;33m(\u001b[0m\u001b[0mkey\u001b[0m\u001b[1;33m,\u001b[0m \u001b[1;34m\"columns\"\u001b[0m\u001b[1;33m)\u001b[0m\u001b[1;33m[\u001b[0m\u001b[1;36m1\u001b[0m\u001b[1;33m]\u001b[0m\u001b[1;33m\u001b[0m\u001b[1;33m\u001b[0m\u001b[0m\n\u001b[0m\u001b[0;32m   3512\u001b[0m \u001b[1;33m\u001b[0m\u001b[0m\n\u001b[0;32m   3513\u001b[0m         \u001b[1;31m# take() does not accept boolean indexers\u001b[0m\u001b[1;33m\u001b[0m\u001b[1;33m\u001b[0m\u001b[1;33m\u001b[0m\u001b[0m\n",
      "\u001b[1;32mC:\\ProgramData\\Anaconda3\\lib\\site-packages\\pandas\\core\\indexes\\base.py\u001b[0m in \u001b[0;36m_get_indexer_strict\u001b[1;34m(self, key, axis_name)\u001b[0m\n\u001b[0;32m   5780\u001b[0m             \u001b[0mkeyarr\u001b[0m\u001b[1;33m,\u001b[0m \u001b[0mindexer\u001b[0m\u001b[1;33m,\u001b[0m \u001b[0mnew_indexer\u001b[0m \u001b[1;33m=\u001b[0m \u001b[0mself\u001b[0m\u001b[1;33m.\u001b[0m\u001b[0m_reindex_non_unique\u001b[0m\u001b[1;33m(\u001b[0m\u001b[0mkeyarr\u001b[0m\u001b[1;33m)\u001b[0m\u001b[1;33m\u001b[0m\u001b[1;33m\u001b[0m\u001b[0m\n\u001b[0;32m   5781\u001b[0m \u001b[1;33m\u001b[0m\u001b[0m\n\u001b[1;32m-> 5782\u001b[1;33m         \u001b[0mself\u001b[0m\u001b[1;33m.\u001b[0m\u001b[0m_raise_if_missing\u001b[0m\u001b[1;33m(\u001b[0m\u001b[0mkeyarr\u001b[0m\u001b[1;33m,\u001b[0m \u001b[0mindexer\u001b[0m\u001b[1;33m,\u001b[0m \u001b[0maxis_name\u001b[0m\u001b[1;33m)\u001b[0m\u001b[1;33m\u001b[0m\u001b[1;33m\u001b[0m\u001b[0m\n\u001b[0m\u001b[0;32m   5783\u001b[0m \u001b[1;33m\u001b[0m\u001b[0m\n\u001b[0;32m   5784\u001b[0m         \u001b[0mkeyarr\u001b[0m \u001b[1;33m=\u001b[0m \u001b[0mself\u001b[0m\u001b[1;33m.\u001b[0m\u001b[0mtake\u001b[0m\u001b[1;33m(\u001b[0m\u001b[0mindexer\u001b[0m\u001b[1;33m)\u001b[0m\u001b[1;33m\u001b[0m\u001b[1;33m\u001b[0m\u001b[0m\n",
      "\u001b[1;32mC:\\ProgramData\\Anaconda3\\lib\\site-packages\\pandas\\core\\indexes\\base.py\u001b[0m in \u001b[0;36m_raise_if_missing\u001b[1;34m(self, key, indexer, axis_name)\u001b[0m\n\u001b[0;32m   5843\u001b[0m \u001b[1;33m\u001b[0m\u001b[0m\n\u001b[0;32m   5844\u001b[0m             \u001b[0mnot_found\u001b[0m \u001b[1;33m=\u001b[0m \u001b[0mlist\u001b[0m\u001b[1;33m(\u001b[0m\u001b[0mensure_index\u001b[0m\u001b[1;33m(\u001b[0m\u001b[0mkey\u001b[0m\u001b[1;33m)\u001b[0m\u001b[1;33m[\u001b[0m\u001b[0mmissing_mask\u001b[0m\u001b[1;33m.\u001b[0m\u001b[0mnonzero\u001b[0m\u001b[1;33m(\u001b[0m\u001b[1;33m)\u001b[0m\u001b[1;33m[\u001b[0m\u001b[1;36m0\u001b[0m\u001b[1;33m]\u001b[0m\u001b[1;33m]\u001b[0m\u001b[1;33m.\u001b[0m\u001b[0munique\u001b[0m\u001b[1;33m(\u001b[0m\u001b[1;33m)\u001b[0m\u001b[1;33m)\u001b[0m\u001b[1;33m\u001b[0m\u001b[1;33m\u001b[0m\u001b[0m\n\u001b[1;32m-> 5845\u001b[1;33m             \u001b[1;32mraise\u001b[0m \u001b[0mKeyError\u001b[0m\u001b[1;33m(\u001b[0m\u001b[1;34mf\"{not_found} not in index\"\u001b[0m\u001b[1;33m)\u001b[0m\u001b[1;33m\u001b[0m\u001b[1;33m\u001b[0m\u001b[0m\n\u001b[0m\u001b[0;32m   5846\u001b[0m \u001b[1;33m\u001b[0m\u001b[0m\n\u001b[0;32m   5847\u001b[0m     \u001b[1;33m@\u001b[0m\u001b[0moverload\u001b[0m\u001b[1;33m\u001b[0m\u001b[1;33m\u001b[0m\u001b[0m\n",
      "\u001b[1;31mKeyError\u001b[0m: \"['poly_OutsideSF_0', 'poly_OutsideSF_1', 'poly_OutsideSF_2', 'poly_OutsideSF_3', 'poly_OutsideSF_4', 'poly_OutsideSF_5', 'poly_OutsideSF_6', 'poly_OutsideSF_7', 'poly_OutsideSF_8', 'poly_OutsideSF_9', 'poly_OutsideSF_10', 'poly_OutsideSF_11', 'poly_OutsideSF_12', 'poly_OutsideSF_13', 'poly_OutsideSF_14', 'poly_Area_0', 'poly_Area_1', 'poly_Area_2', 'poly_Area_3', 'poly_Area_4', 'poly_Area_5', 'poly_Area_6', 'poly_Area_7', 'poly_Area_8', 'poly_Area_9', 'poly_Area_10', 'poly_Area_11', 'poly_Area_12', 'poly_Area_13', 'poly_Area_14', 'poly_Area_15', 'poly_Area_16', 'poly_Area_17', 'poly_Area_18', 'poly_Area_19', 'poly_Area_20', 'poly_Floors_0', 'poly_Floors_1', 'poly_Floors_2'] not in index\""
     ]
    }
   ],
   "source": [
    "data[]"
   ]
  },
  {
   "cell_type": "code",
   "execution_count": 10,
   "metadata": {},
   "outputs": [],
   "source": [
    "base_con=['GrLivArea', '1stFlrSF', 'TotalBsmtSF', 'GarageArea',\n",
    "       'BsmtFinSF1', 'YearBuilt', 'YearRemodAdd', 'OpenPorchSF', '2ndFlrSF',\n",
    "       'WoodDeckSF', 'MasVnrArea']"
   ]
  },
  {
   "cell_type": "code",
   "execution_count": 18,
   "metadata": {},
   "outputs": [],
   "source": [
    "num_cat = ['MSSubClass','OverallQual','OverallCond','BsmtFullBath','FullBath','HalfBath','BedroomAbvGr','KitchenAbvGr',\n",
    "           'TotRmsAbvGrd','Fireplaces','GarageCars','MoSold','YrSold',]"
   ]
  },
  {
   "cell_type": "code",
   "execution_count": 19,
   "metadata": {},
   "outputs": [
    {
     "data": {
      "text/plain": [
       "Index(['Id', 'LotFrontage', 'LotArea', 'YearBuilt', 'YearRemodAdd',\n",
       "       'MasVnrArea', 'BsmtFinSF1', 'BsmtFinSF2', 'BsmtUnfSF', 'TotalBsmtSF',\n",
       "       '1stFlrSF', '2ndFlrSF', 'LowQualFinSF', 'GrLivArea', 'BsmtHalfBath',\n",
       "       'GarageYrBlt', 'GarageArea', 'WoodDeckSF', 'OpenPorchSF',\n",
       "       'EnclosedPorch', '3SsnPorch', 'ScreenPorch', 'PoolArea', 'MiscVal',\n",
       "       'SalePrice'],\n",
       "      dtype='object')"
      ]
     },
     "execution_count": 19,
     "metadata": {},
     "output_type": "execute_result"
    }
   ],
   "source": [
    "continous = nums_train.drop(num_cat)\n",
    "continous"
   ]
  },
  {
   "cell_type": "code",
   "execution_count": 79,
   "metadata": {
    "scrolled": true
   },
   "outputs": [],
   "source": [
    "def mi_score_and_corr_continous(df,cols,target_col,fill_na):\n",
    "    df_def = df.copy()\n",
    "    df_def = df_def.fillna(fill_na)\n",
    "    \n",
    "    def mutual_info_price_score(series):\n",
    "        return mutual_info_score(series,df_def[target_col])\n",
    "    \n",
    "    mi_normal = df_def[cols].apply(mutual_info_price_score)\n",
    "    features = mi_normal.sort_values(ascending=False).index.to_list()\n",
    "    scores = mi_normal.sort_values(ascending=False).values\n",
    "\n",
    "    correlation = df_def[cols].corrwith(df_def[target_col])\n",
    "    mi_corr_df = pd.DataFrame(scores,index=features,columns=['mi_score'])\n",
    "    mi_corr_df['Corr_Score']= [correlation[col] for col in features ]\n",
    "    \n",
    "    display(mi_corr_df)\n",
    "    \n",
    "    print()\n",
    "    plt.rc(\"figure\",figsize=(12,6))\n",
    "    X_axis = np.arange(0,mi_corr_df.shape[0])\n",
    "    max_mi_score = mi_corr_df['mi_score'].max() # since correlation is always <=1 ..for better visualization we normalize\n",
    "    min_mi_score = mi_corr_df['mi_score'].min()\n",
    "    norm_mi_score = (mi_corr_df['mi_score'] - min_mi_score)/(max_mi_score-min_mi_score)\n",
    "    plt.bar(X_axis,norm_mi_score,label='Mi_score',width=0.3)\n",
    "    plt.bar(X_axis + 0.3,mi_corr_df['Corr_Score'],label='Corr_Score',width=0.25)\n",
    "    ticks = X_axis # points on the x axis where you want the label to appear\n",
    "    labels=mi_corr_df.index\n",
    "    plt.xticks(ticks, labels);\n",
    "    ax = plt.gca()\n",
    "    ax.set_xticklabels(ax.get_xticklabels(), rotation=45, ha='right')\n",
    "    plt.title(\"Mi Score and Correlation Score\")\n",
    "    plt.legend()\n",
    "    plt.show()\n",
    "    \n",
    "    return mi_corr_df\n",
    " "
   ]
  },
  {
   "cell_type": "code",
   "execution_count": 29,
   "metadata": {
    "scrolled": true
   },
   "outputs": [
    {
     "data": {
      "text/plain": [
       "<matplotlib.collections.PathCollection at 0x230bd5a0280>"
      ]
     },
     "execution_count": 29,
     "metadata": {},
     "output_type": "execute_result"
    },
    {
     "data": {
      "image/png": "[encoded data removed]",
      "text/plain": [
       "<Figure size 432x288 with 1 Axes>"
      ]
     },
     "metadata": {
      "needs_background": "light"
     },
     "output_type": "display_data"
    }
   ],
   "source": [
    "plt.scatter(train.LotFrontage, train.SalePrice)"
   ]
  },
  {
   "cell_type": "code",
   "execution_count": 74,
   "metadata": {},
   "outputs": [
    {
     "data": {
      "text/plain": [
       "Index(['Id', 'LotFrontage', 'LotArea', 'YearBuilt', 'YearRemodAdd',\n",
       "       'MasVnrArea', 'BsmtFinSF1', 'BsmtFinSF2', 'BsmtUnfSF', 'TotalBsmtSF',\n",
       "       '1stFlrSF', '2ndFlrSF', 'LowQualFinSF', 'GrLivArea', 'BsmtHalfBath',\n",
       "       'GarageYrBlt', 'GarageArea', 'WoodDeckSF', 'OpenPorchSF',\n",
       "       'EnclosedPorch', '3SsnPorch', 'ScreenPorch', 'PoolArea', 'MiscVal',\n",
       "       'SalePrice'],\n",
       "      dtype='object')"
      ]
     },
     "execution_count": 74,
     "metadata": {},
     "output_type": "execute_result"
    }
   ],
   "source": [
    "continous"
   ]
  },
  {
   "cell_type": "code",
   "execution_count": 16,
   "metadata": {
    "scrolled": false
   },
   "outputs": [
    {
     "data": {
      "text/plain": [
       "['OpenPorchSF', 'EnclosedPorch', '3SsnPorch', 'ScreenPorch']"
      ]
     },
     "execution_count": 16,
     "metadata": {},
     "output_type": "execute_result"
    }
   ],
   "source": [
    "[i for i in nums_train if 'Porch' in i ] # outside #'WoodDeckSF'"
   ]
  },
  {
   "cell_type": "code",
   "execution_count": 17,
   "metadata": {
    "scrolled": true
   },
   "outputs": [
    {
     "data": {
      "text/plain": [
       "['LotArea', 'MasVnrArea', 'GrLivArea', 'GarageArea', 'PoolArea']"
      ]
     },
     "execution_count": 17,
     "metadata": {},
     "output_type": "execute_result"
    }
   ],
   "source": [
    "[i for i in nums_train if 'Area' in i ] # Area"
   ]
  },
  {
   "cell_type": "code",
   "execution_count": 21,
   "metadata": {
    "scrolled": true
   },
   "outputs": [
    {
     "data": {
      "text/plain": [
       "['BsmtFinSF1', 'BsmtFinSF2']"
      ]
     },
     "execution_count": 21,
     "metadata": {},
     "output_type": "execute_result"
    }
   ],
   "source": [
    "[i for i in continous if 'BsmtFinSF' in i ] # finish basement"
   ]
  },
  {
   "cell_type": "code",
   "execution_count": null,
   "metadata": {},
   "outputs": [],
   "source": [
    "['BsmtUnfSF', 'TotalBsmtSF']"
   ]
  },
  {
   "cell_type": "code",
   "execution_count": 22,
   "metadata": {
    "scrolled": true
   },
   "outputs": [
    {
     "data": {
      "text/plain": [
       "['1stFlrSF', '2ndFlrSF']"
      ]
     },
     "execution_count": 22,
     "metadata": {},
     "output_type": "execute_result"
    }
   ],
   "source": [
    "[i for i in continous if 'FlrSF' in i ]"
   ]
  },
  {
   "cell_type": "code",
   "execution_count": 85,
   "metadata": {},
   "outputs": [
    {
     "data": {
      "text/plain": [
       "['GrLivArea',\n",
       " '1stFlrSF',\n",
       " 'TotalBsmtSF',\n",
       " 'GarageArea',\n",
       " 'BsmtFinSF1',\n",
       " 'YearBuilt',\n",
       " 'YearRemodAdd',\n",
       " 'OpenPorchSF',\n",
       " '2ndFlrSF',\n",
       " 'WoodDeckSF',\n",
       " 'MasVnrArea',\n",
       " 'Age_YrBuilt',\n",
       " 'Age_YrRmd',\n",
       " 'Diff_YrRmd_YrBlt',\n",
       " 'Age_GarageYrBlt',\n",
       " 'Diff_GarYBlt_YrBlt',\n",
       " 'LivLotRatio',\n",
       " 'Spaciousness',\n",
       " 'total_OutsideSF',\n",
       " 'Count_OutSideSF',\n",
       " 'Rat_Out_Count',\n",
       " 'total_Area',\n",
       " 'Count_Areas',\n",
       " 'Rat_Areas_Count',\n",
       " 'total_Floors',\n",
       " 'Count_Floors',\n",
       " 'Rat_Floors_Count',\n",
       " 'total_Bsmt_FinSF',\n",
       " 'Tot_Bsmt_per_Fin']"
      ]
     },
     "execution_count": 85,
     "metadata": {},
     "output_type": "execute_result"
    }
   ],
   "source": [
    "base_con+new_features"
   ]
  },
  {
   "cell_type": "code",
   "execution_count": 137,
   "metadata": {
    "scrolled": true
   },
   "outputs": [
    {
     "ename": "KeyError",
     "evalue": "\"['poly_OutsideSF_0', 'poly_OutsideSF_1', 'poly_OutsideSF_2', 'poly_OutsideSF_3', 'poly_OutsideSF_4', 'poly_OutsideSF_5', 'poly_OutsideSF_6', 'poly_OutsideSF_7', 'poly_OutsideSF_8', 'poly_OutsideSF_9', 'poly_OutsideSF_10', 'poly_OutsideSF_11', 'poly_OutsideSF_12', 'poly_OutsideSF_13', 'poly_OutsideSF_14', 'poly_Area_0', 'poly_Area_1', 'poly_Area_2', 'poly_Area_3', 'poly_Area_4', 'poly_Area_5', 'poly_Area_6', 'poly_Area_7', 'poly_Area_8', 'poly_Area_9', 'poly_Area_10', 'poly_Area_11', 'poly_Area_12', 'poly_Area_13', 'poly_Area_14', 'poly_Area_15', 'poly_Area_16', 'poly_Area_17', 'poly_Area_18', 'poly_Area_19', 'poly_Area_20', 'poly_Floors_0', 'poly_Floors_1', 'poly_Floors_2'] not in index\"",
     "output_type": "error",
     "traceback": [
      "\u001b[1;31m---------------------------------------------------------------------------\u001b[0m",
      "\u001b[1;31mKeyError\u001b[0m                                  Traceback (most recent call last)",
      "\u001b[1;32m<ipython-input-137-203ab256f2a8>\u001b[0m in \u001b[0;36m<module>\u001b[1;34m\u001b[0m\n\u001b[1;32m----> 1\u001b[1;33m \u001b[0mmi_score_corr\u001b[0m \u001b[1;33m=\u001b[0m \u001b[0mmi_score_and_corr_continous\u001b[0m\u001b[1;33m(\u001b[0m\u001b[0mdf\u001b[0m\u001b[1;33m=\u001b[0m\u001b[0mdata\u001b[0m\u001b[1;33m,\u001b[0m\u001b[0mcols\u001b[0m\u001b[1;33m=\u001b[0m\u001b[0mbase_con\u001b[0m\u001b[1;33m+\u001b[0m\u001b[0mnew_features\u001b[0m\u001b[1;33m,\u001b[0m\u001b[0mtarget_col\u001b[0m\u001b[1;33m=\u001b[0m\u001b[1;34m'SalePrice'\u001b[0m\u001b[1;33m,\u001b[0m\u001b[0mfill_na\u001b[0m\u001b[1;33m=\u001b[0m\u001b[1;36m0\u001b[0m\u001b[1;33m)\u001b[0m\u001b[1;33m\u001b[0m\u001b[1;33m\u001b[0m\u001b[0m\n\u001b[0m",
      "\u001b[1;32m<ipython-input-79-22dd7541d5da>\u001b[0m in \u001b[0;36mmi_score_and_corr_continous\u001b[1;34m(df, cols, target_col, fill_na)\u001b[0m\n\u001b[0;32m      6\u001b[0m         \u001b[1;32mreturn\u001b[0m \u001b[0mmutual_info_score\u001b[0m\u001b[1;33m(\u001b[0m\u001b[0mseries\u001b[0m\u001b[1;33m,\u001b[0m\u001b[0mdf_def\u001b[0m\u001b[1;33m[\u001b[0m\u001b[0mtarget_col\u001b[0m\u001b[1;33m]\u001b[0m\u001b[1;33m)\u001b[0m\u001b[1;33m\u001b[0m\u001b[1;33m\u001b[0m\u001b[0m\n\u001b[0;32m      7\u001b[0m \u001b[1;33m\u001b[0m\u001b[0m\n\u001b[1;32m----> 8\u001b[1;33m     \u001b[0mmi_normal\u001b[0m \u001b[1;33m=\u001b[0m \u001b[0mdf_def\u001b[0m\u001b[1;33m[\u001b[0m\u001b[0mcols\u001b[0m\u001b[1;33m]\u001b[0m\u001b[1;33m.\u001b[0m\u001b[0mapply\u001b[0m\u001b[1;33m(\u001b[0m\u001b[0mmutual_info_price_score\u001b[0m\u001b[1;33m)\u001b[0m\u001b[1;33m\u001b[0m\u001b[1;33m\u001b[0m\u001b[0m\n\u001b[0m\u001b[0;32m      9\u001b[0m     \u001b[0mfeatures\u001b[0m \u001b[1;33m=\u001b[0m \u001b[0mmi_normal\u001b[0m\u001b[1;33m.\u001b[0m\u001b[0msort_values\u001b[0m\u001b[1;33m(\u001b[0m\u001b[0mascending\u001b[0m\u001b[1;33m=\u001b[0m\u001b[1;32mFalse\u001b[0m\u001b[1;33m)\u001b[0m\u001b[1;33m.\u001b[0m\u001b[0mindex\u001b[0m\u001b[1;33m.\u001b[0m\u001b[0mto_list\u001b[0m\u001b[1;33m(\u001b[0m\u001b[1;33m)\u001b[0m\u001b[1;33m\u001b[0m\u001b[1;33m\u001b[0m\u001b[0m\n\u001b[0;32m     10\u001b[0m     \u001b[0mscores\u001b[0m \u001b[1;33m=\u001b[0m \u001b[0mmi_normal\u001b[0m\u001b[1;33m.\u001b[0m\u001b[0msort_values\u001b[0m\u001b[1;33m(\u001b[0m\u001b[0mascending\u001b[0m\u001b[1;33m=\u001b[0m\u001b[1;32mFalse\u001b[0m\u001b[1;33m)\u001b[0m\u001b[1;33m.\u001b[0m\u001b[0mvalues\u001b[0m\u001b[1;33m\u001b[0m\u001b[1;33m\u001b[0m\u001b[0m\n",
      "\u001b[1;32mC:\\ProgramData\\Anaconda3\\lib\\site-packages\\pandas\\core\\frame.py\u001b[0m in \u001b[0;36m__getitem__\u001b[1;34m(self, key)\u001b[0m\n\u001b[0;32m   3509\u001b[0m             \u001b[1;32mif\u001b[0m \u001b[0mis_iterator\u001b[0m\u001b[1;33m(\u001b[0m\u001b[0mkey\u001b[0m\u001b[1;33m)\u001b[0m\u001b[1;33m:\u001b[0m\u001b[1;33m\u001b[0m\u001b[1;33m\u001b[0m\u001b[0m\n\u001b[0;32m   3510\u001b[0m                 \u001b[0mkey\u001b[0m \u001b[1;33m=\u001b[0m \u001b[0mlist\u001b[0m\u001b[1;33m(\u001b[0m\u001b[0mkey\u001b[0m\u001b[1;33m)\u001b[0m\u001b[1;33m\u001b[0m\u001b[1;33m\u001b[0m\u001b[0m\n\u001b[1;32m-> 3511\u001b[1;33m             \u001b[0mindexer\u001b[0m \u001b[1;33m=\u001b[0m \u001b[0mself\u001b[0m\u001b[1;33m.\u001b[0m\u001b[0mcolumns\u001b[0m\u001b[1;33m.\u001b[0m\u001b[0m_get_indexer_strict\u001b[0m\u001b[1;33m(\u001b[0m\u001b[0mkey\u001b[0m\u001b[1;33m,\u001b[0m \u001b[1;34m\"columns\"\u001b[0m\u001b[1;33m)\u001b[0m\u001b[1;33m[\u001b[0m\u001b[1;36m1\u001b[0m\u001b[1;33m]\u001b[0m\u001b[1;33m\u001b[0m\u001b[1;33m\u001b[0m\u001b[0m\n\u001b[0m\u001b[0;32m   3512\u001b[0m \u001b[1;33m\u001b[0m\u001b[0m\n\u001b[0;32m   3513\u001b[0m         \u001b[1;31m# take() does not accept boolean indexers\u001b[0m\u001b[1;33m\u001b[0m\u001b[1;33m\u001b[0m\u001b[1;33m\u001b[0m\u001b[0m\n",
      "\u001b[1;32mC:\\ProgramData\\Anaconda3\\lib\\site-packages\\pandas\\core\\indexes\\base.py\u001b[0m in \u001b[0;36m_get_indexer_strict\u001b[1;34m(self, key, axis_name)\u001b[0m\n\u001b[0;32m   5780\u001b[0m             \u001b[0mkeyarr\u001b[0m\u001b[1;33m,\u001b[0m \u001b[0mindexer\u001b[0m\u001b[1;33m,\u001b[0m \u001b[0mnew_indexer\u001b[0m \u001b[1;33m=\u001b[0m \u001b[0mself\u001b[0m\u001b[1;33m.\u001b[0m\u001b[0m_reindex_non_unique\u001b[0m\u001b[1;33m(\u001b[0m\u001b[0mkeyarr\u001b[0m\u001b[1;33m)\u001b[0m\u001b[1;33m\u001b[0m\u001b[1;33m\u001b[0m\u001b[0m\n\u001b[0;32m   5781\u001b[0m \u001b[1;33m\u001b[0m\u001b[0m\n\u001b[1;32m-> 5782\u001b[1;33m         \u001b[0mself\u001b[0m\u001b[1;33m.\u001b[0m\u001b[0m_raise_if_missing\u001b[0m\u001b[1;33m(\u001b[0m\u001b[0mkeyarr\u001b[0m\u001b[1;33m,\u001b[0m \u001b[0mindexer\u001b[0m\u001b[1;33m,\u001b[0m \u001b[0maxis_name\u001b[0m\u001b[1;33m)\u001b[0m\u001b[1;33m\u001b[0m\u001b[1;33m\u001b[0m\u001b[0m\n\u001b[0m\u001b[0;32m   5783\u001b[0m \u001b[1;33m\u001b[0m\u001b[0m\n\u001b[0;32m   5784\u001b[0m         \u001b[0mkeyarr\u001b[0m \u001b[1;33m=\u001b[0m \u001b[0mself\u001b[0m\u001b[1;33m.\u001b[0m\u001b[0mtake\u001b[0m\u001b[1;33m(\u001b[0m\u001b[0mindexer\u001b[0m\u001b[1;33m)\u001b[0m\u001b[1;33m\u001b[0m\u001b[1;33m\u001b[0m\u001b[0m\n",
      "\u001b[1;32mC:\\ProgramData\\Anaconda3\\lib\\site-packages\\pandas\\core\\indexes\\base.py\u001b[0m in \u001b[0;36m_raise_if_missing\u001b[1;34m(self, key, indexer, axis_name)\u001b[0m\n\u001b[0;32m   5843\u001b[0m \u001b[1;33m\u001b[0m\u001b[0m\n\u001b[0;32m   5844\u001b[0m             \u001b[0mnot_found\u001b[0m \u001b[1;33m=\u001b[0m \u001b[0mlist\u001b[0m\u001b[1;33m(\u001b[0m\u001b[0mensure_index\u001b[0m\u001b[1;33m(\u001b[0m\u001b[0mkey\u001b[0m\u001b[1;33m)\u001b[0m\u001b[1;33m[\u001b[0m\u001b[0mmissing_mask\u001b[0m\u001b[1;33m.\u001b[0m\u001b[0mnonzero\u001b[0m\u001b[1;33m(\u001b[0m\u001b[1;33m)\u001b[0m\u001b[1;33m[\u001b[0m\u001b[1;36m0\u001b[0m\u001b[1;33m]\u001b[0m\u001b[1;33m]\u001b[0m\u001b[1;33m.\u001b[0m\u001b[0munique\u001b[0m\u001b[1;33m(\u001b[0m\u001b[1;33m)\u001b[0m\u001b[1;33m)\u001b[0m\u001b[1;33m\u001b[0m\u001b[1;33m\u001b[0m\u001b[0m\n\u001b[1;32m-> 5845\u001b[1;33m             \u001b[1;32mraise\u001b[0m \u001b[0mKeyError\u001b[0m\u001b[1;33m(\u001b[0m\u001b[1;34mf\"{not_found} not in index\"\u001b[0m\u001b[1;33m)\u001b[0m\u001b[1;33m\u001b[0m\u001b[1;33m\u001b[0m\u001b[0m\n\u001b[0m\u001b[0;32m   5846\u001b[0m \u001b[1;33m\u001b[0m\u001b[0m\n\u001b[0;32m   5847\u001b[0m     \u001b[1;33m@\u001b[0m\u001b[0moverload\u001b[0m\u001b[1;33m\u001b[0m\u001b[1;33m\u001b[0m\u001b[0m\n",
      "\u001b[1;31mKeyError\u001b[0m: \"['poly_OutsideSF_0', 'poly_OutsideSF_1', 'poly_OutsideSF_2', 'poly_OutsideSF_3', 'poly_OutsideSF_4', 'poly_OutsideSF_5', 'poly_OutsideSF_6', 'poly_OutsideSF_7', 'poly_OutsideSF_8', 'poly_OutsideSF_9', 'poly_OutsideSF_10', 'poly_OutsideSF_11', 'poly_OutsideSF_12', 'poly_OutsideSF_13', 'poly_OutsideSF_14', 'poly_Area_0', 'poly_Area_1', 'poly_Area_2', 'poly_Area_3', 'poly_Area_4', 'poly_Area_5', 'poly_Area_6', 'poly_Area_7', 'poly_Area_8', 'poly_Area_9', 'poly_Area_10', 'poly_Area_11', 'poly_Area_12', 'poly_Area_13', 'poly_Area_14', 'poly_Area_15', 'poly_Area_16', 'poly_Area_17', 'poly_Area_18', 'poly_Area_19', 'poly_Area_20', 'poly_Floors_0', 'poly_Floors_1', 'poly_Floors_2'] not in index\""
     ]
    }
   ],
   "source": [
    "mi_score_corr = mi_score_and_corr_continous(df=data,cols=base_con+new_features,target_col='SalePrice',fill_na=0)"
   ]
  },
  {
   "cell_type": "code",
   "execution_count": 136,
   "metadata": {
    "scrolled": true
   },
   "outputs": [
    {
     "data": {
      "text/html": [
       "<div>\n",
       "<style scoped>\n",
       "    .dataframe tbody tr th:only-of-type {\n",
       "        vertical-align: middle;\n",
       "    }\n",
       "\n",
       "    .dataframe tbody tr th {\n",
       "        vertical-align: top;\n",
       "    }\n",
       "\n",
       "    .dataframe thead th {\n",
       "        text-align: right;\n",
       "    }\n",
       "</style>\n",
       "<table border=\"1\" class=\"dataframe\">\n",
       "  <thead>\n",
       "    <tr style=\"text-align: right;\">\n",
       "      <th></th>\n",
       "      <th>mi_score</th>\n",
       "      <th>Corr_Score</th>\n",
       "    </tr>\n",
       "  </thead>\n",
       "  <tbody>\n",
       "    <tr>\n",
       "      <th>total_Floors</th>\n",
       "      <td>5.357835</td>\n",
       "      <td>0.721580</td>\n",
       "    </tr>\n",
       "    <tr>\n",
       "      <th>GrLivArea</th>\n",
       "      <td>5.357844</td>\n",
       "      <td>0.711864</td>\n",
       "    </tr>\n",
       "    <tr>\n",
       "      <th>GarageArea</th>\n",
       "      <td>4.232784</td>\n",
       "      <td>0.652208</td>\n",
       "    </tr>\n",
       "    <tr>\n",
       "      <th>TotalBsmtSF</th>\n",
       "      <td>5.047586</td>\n",
       "      <td>0.633152</td>\n",
       "    </tr>\n",
       "    <tr>\n",
       "      <th>1stFlrSF</th>\n",
       "      <td>5.197532</td>\n",
       "      <td>0.615553</td>\n",
       "    </tr>\n",
       "    <tr>\n",
       "      <th>Rat_Floors_Count</th>\n",
       "      <td>5.381050</td>\n",
       "      <td>0.571335</td>\n",
       "    </tr>\n",
       "    <tr>\n",
       "      <th>Age_YrBuilt</th>\n",
       "      <td>3.251483</td>\n",
       "      <td>-0.538327</td>\n",
       "    </tr>\n",
       "    <tr>\n",
       "      <th>YearBuilt</th>\n",
       "      <td>3.251483</td>\n",
       "      <td>0.538327</td>\n",
       "    </tr>\n",
       "    <tr>\n",
       "      <th>Age_YrRmd</th>\n",
       "      <td>2.649458</td>\n",
       "      <td>-0.528060</td>\n",
       "    </tr>\n",
       "    <tr>\n",
       "      <th>YearRemodAdd</th>\n",
       "      <td>2.649458</td>\n",
       "      <td>0.528060</td>\n",
       "    </tr>\n",
       "    <tr>\n",
       "      <th>Spaciousness</th>\n",
       "      <td>5.498681</td>\n",
       "      <td>0.526576</td>\n",
       "    </tr>\n",
       "    <tr>\n",
       "      <th>MasVnrArea</th>\n",
       "      <td>2.313064</td>\n",
       "      <td>0.477597</td>\n",
       "    </tr>\n",
       "    <tr>\n",
       "      <th>Count_Areas</th>\n",
       "      <td>0.516088</td>\n",
       "      <td>0.438576</td>\n",
       "    </tr>\n",
       "    <tr>\n",
       "      <th>Count_OutSideSF</th>\n",
       "      <td>0.634842</td>\n",
       "      <td>0.415642</td>\n",
       "    </tr>\n",
       "    <tr>\n",
       "      <th>total_OutsideSF</th>\n",
       "      <td>4.147639</td>\n",
       "      <td>0.391967</td>\n",
       "    </tr>\n",
       "    <tr>\n",
       "      <th>BsmtFinSF1</th>\n",
       "      <td>3.891085</td>\n",
       "      <td>0.376442</td>\n",
       "    </tr>\n",
       "    <tr>\n",
       "      <th>total_Bsmt_FinSF</th>\n",
       "      <td>3.892979</td>\n",
       "      <td>0.351798</td>\n",
       "    </tr>\n",
       "    <tr>\n",
       "      <th>total_Area</th>\n",
       "      <td>6.025679</td>\n",
       "      <td>0.340626</td>\n",
       "    </tr>\n",
       "    <tr>\n",
       "      <th>OpenPorchSF</th>\n",
       "      <td>2.610766</td>\n",
       "      <td>0.332172</td>\n",
       "    </tr>\n",
       "    <tr>\n",
       "      <th>WoodDeckSF</th>\n",
       "      <td>2.397641</td>\n",
       "      <td>0.320260</td>\n",
       "    </tr>\n",
       "    <tr>\n",
       "      <th>2ndFlrSF</th>\n",
       "      <td>2.538674</td>\n",
       "      <td>0.305280</td>\n",
       "    </tr>\n",
       "    <tr>\n",
       "      <th>Age_GarageYrBlt</th>\n",
       "      <td>3.113645</td>\n",
       "      <td>-0.273619</td>\n",
       "    </tr>\n",
       "    <tr>\n",
       "      <th>Rat_Areas_Count</th>\n",
       "      <td>6.049881</td>\n",
       "      <td>0.249275</td>\n",
       "    </tr>\n",
       "    <tr>\n",
       "      <th>Rat_Out_Count</th>\n",
       "      <td>4.129160</td>\n",
       "      <td>0.244544</td>\n",
       "    </tr>\n",
       "    <tr>\n",
       "      <th>Diff_GarYBlt_YrBlt</th>\n",
       "      <td>1.261688</td>\n",
       "      <td>0.241889</td>\n",
       "    </tr>\n",
       "    <tr>\n",
       "      <th>Diff_YrRmd_YrBlt</th>\n",
       "      <td>1.762410</td>\n",
       "      <td>-0.217049</td>\n",
       "    </tr>\n",
       "    <tr>\n",
       "      <th>Count_Floors</th>\n",
       "      <td>0.316185</td>\n",
       "      <td>0.143680</td>\n",
       "    </tr>\n",
       "    <tr>\n",
       "      <th>Tot_Bsmt_per_Fin</th>\n",
       "      <td>4.013952</td>\n",
       "      <td>0.039493</td>\n",
       "    </tr>\n",
       "    <tr>\n",
       "      <th>LivLotRatio</th>\n",
       "      <td>6.066826</td>\n",
       "      <td>-0.009479</td>\n",
       "    </tr>\n",
       "  </tbody>\n",
       "</table>\n",
       "</div>"
      ],
      "text/plain": [
       "                    mi_score  Corr_Score\n",
       "total_Floors        5.357835    0.721580\n",
       "GrLivArea           5.357844    0.711864\n",
       "GarageArea          4.232784    0.652208\n",
       "TotalBsmtSF         5.047586    0.633152\n",
       "1stFlrSF            5.197532    0.615553\n",
       "Rat_Floors_Count    5.381050    0.571335\n",
       "Age_YrBuilt         3.251483   -0.538327\n",
       "YearBuilt           3.251483    0.538327\n",
       "Age_YrRmd           2.649458   -0.528060\n",
       "YearRemodAdd        2.649458    0.528060\n",
       "Spaciousness        5.498681    0.526576\n",
       "MasVnrArea          2.313064    0.477597\n",
       "Count_Areas         0.516088    0.438576\n",
       "Count_OutSideSF     0.634842    0.415642\n",
       "total_OutsideSF     4.147639    0.391967\n",
       "BsmtFinSF1          3.891085    0.376442\n",
       "total_Bsmt_FinSF    3.892979    0.351798\n",
       "total_Area          6.025679    0.340626\n",
       "OpenPorchSF         2.610766    0.332172\n",
       "WoodDeckSF          2.397641    0.320260\n",
       "2ndFlrSF            2.538674    0.305280\n",
       "Age_GarageYrBlt     3.113645   -0.273619\n",
       "Rat_Areas_Count     6.049881    0.249275\n",
       "Rat_Out_Count       4.129160    0.244544\n",
       "Diff_GarYBlt_YrBlt  1.261688    0.241889\n",
       "Diff_YrRmd_YrBlt    1.762410   -0.217049\n",
       "Count_Floors        0.316185    0.143680\n",
       "Tot_Bsmt_per_Fin    4.013952    0.039493\n",
       "LivLotRatio         6.066826   -0.009479"
      ]
     },
     "execution_count": 136,
     "metadata": {},
     "output_type": "execute_result"
    }
   ],
   "source": [
    "mi_score_corr_sorted = mi_score_corr.sort_values(by='Corr_Score', key=lambda col: abs(col),ascending=False)# col.str.lower())\n",
    "mi_score_corr_sorted"
   ]
  },
  {
   "cell_type": "code",
   "execution_count": 152,
   "metadata": {
    "scrolled": true
   },
   "outputs": [
    {
     "data": {
      "text/plain": [
       "Index(['total_Floors', 'GrLivArea', 'GarageArea', 'TotalBsmtSF', '1stFlrSF',\n",
       "       'Rat_Floors_Count', 'Age_YrBuilt', 'Age_YrRmd', 'Spaciousness',\n",
       "       'MasVnrArea', 'Count_Areas', 'Count_OutSideSF', 'total_OutsideSF',\n",
       "       'BsmtFinSF1', 'total_Bsmt_FinSF', 'total_Area', 'OpenPorchSF',\n",
       "       'WoodDeckSF'],\n",
       "      dtype='object')"
      ]
     },
     "execution_count": 152,
     "metadata": {},
     "output_type": "execute_result"
    }
   ],
   "source": [
    "new_cols_20  = mi_score_corr_sorted.head(20).index.drop(['YearBuilt','YearRemodAdd'])\n",
    "new_cols_20"
   ]
  },
  {
   "cell_type": "code",
   "execution_count": 153,
   "metadata": {},
   "outputs": [
    {
     "data": {
      "text/plain": [
       "Index(['total_Floors', 'GrLivArea', 'GarageArea', 'TotalBsmtSF', '1stFlrSF',\n",
       "       'Rat_Floors_Count', 'Age_YrBuilt', 'Age_YrRmd', 'Spaciousness',\n",
       "       'MasVnrArea', 'Count_Areas', 'Count_OutSideSF', 'total_OutsideSF'],\n",
       "      dtype='object')"
      ]
     },
     "execution_count": 153,
     "metadata": {},
     "output_type": "execute_result"
    }
   ],
   "source": [
    "new_cols_15  = mi_score_corr_sorted.head(15).index.drop(['YearBuilt','YearRemodAdd'])\n",
    "new_cols_15"
   ]
  },
  {
   "cell_type": "code",
   "execution_count": 154,
   "metadata": {
    "scrolled": true
   },
   "outputs": [
    {
     "data": {
      "text/plain": [
       "Index(['total_Floors', 'GrLivArea', 'GarageArea', 'TotalBsmtSF', '1stFlrSF',\n",
       "       'Rat_Floors_Count', 'Age_YrBuilt', 'Age_YrRmd'],\n",
       "      dtype='object')"
      ]
     },
     "execution_count": 154,
     "metadata": {},
     "output_type": "execute_result"
    }
   ],
   "source": [
    "new_cols_10  = mi_score_corr_sorted.head(10).index.drop(['YearBuilt','YearRemodAdd'])\n",
    "new_cols_10"
   ]
  },
  {
   "cell_type": "code",
   "execution_count": 158,
   "metadata": {},
   "outputs": [
    {
     "data": {
      "text/plain": [
       "Index(['total_Floors', 'GrLivArea', 'GarageArea', 'TotalBsmtSF', '1stFlrSF'], dtype='object')"
      ]
     },
     "execution_count": 158,
     "metadata": {},
     "output_type": "execute_result"
    }
   ],
   "source": [
    "new_cols_5  = mi_score_corr_sorted.head(5).index#.drop(['YearBuilt','YearRemodAdd'])\n",
    "new_cols_5"
   ]
  },
  {
   "cell_type": "code",
   "execution_count": 142,
   "metadata": {},
   "outputs": [],
   "source": [
    "def cross_val_class(X_train,y_train,classifier_list,classifier_name,scoring):\n",
    "    \"\"\"\n",
    "    run quick cross validation\n",
    "    params :\n",
    "            :- classifier_list = array of models \n",
    "                    e.g >>> model = [AdaBoostClassifier(),RandomForestClassifier(n_estimators=50,max_leaf_nodes=25)]\n",
    "            \n",
    "            :- classifier_name = array (description of the model)\n",
    "                    e.g >>> model_name= ['AdaBoostClassifier()','RandomForestClassifier','xg','et','lr','nb_m','dr']\n",
    "                    \n",
    "            \n",
    "    \"\"\"\n",
    "    from sklearn.model_selection import cross_val_score,StratifiedShuffleSplit\n",
    "    #kf=StratifiedShuffleSplit()\n",
    "    mod=[]\n",
    "    cv_score=[]\n",
    "    for m in classifier_list:\n",
    "        cv_score.append(np.sqrt(-1*cross_val_score(m,X_train,y_train,scoring=scoring,cv=5)))\n",
    "    \n",
    "    cross_val = pd.DataFrame(cv_score,index=classifier_name)\n",
    "    return cross_val"
   ]
  },
  {
   "cell_type": "code",
   "execution_count": 143,
   "metadata": {},
   "outputs": [],
   "source": [
    "scoring = 'neg_mean_squared_error'\n",
    "from sklearn.linear_model import LinearRegression,Lasso,Ridge\n"
   ]
  },
  {
   "cell_type": "code",
   "execution_count": 148,
   "metadata": {
    "scrolled": true
   },
   "outputs": [
    {
     "name": "stderr",
     "output_type": "stream",
     "text": [
      "C:\\ProgramData\\Anaconda3\\lib\\site-packages\\sklearn\\linear_model\\_coordinate_descent.py:647: ConvergenceWarning: Objective did not converge. You might want to increase the number of iterations, check the scale of the features or consider increasing regularisation. Duality gap: 5.378e+11, tolerance: 6.276e+08\n",
      "  model = cd_fast.enet_coordinate_descent(\n",
      "C:\\ProgramData\\Anaconda3\\lib\\site-packages\\sklearn\\linear_model\\_coordinate_descent.py:647: ConvergenceWarning: Objective did not converge. You might want to increase the number of iterations, check the scale of the features or consider increasing regularisation. Duality gap: 1.900e+11, tolerance: 5.989e+08\n",
      "  model = cd_fast.enet_coordinate_descent(\n",
      "C:\\ProgramData\\Anaconda3\\lib\\site-packages\\sklearn\\linear_model\\_coordinate_descent.py:647: ConvergenceWarning: Objective did not converge. You might want to increase the number of iterations, check the scale of the features or consider increasing regularisation. Duality gap: 3.973e+11, tolerance: 6.347e+08\n",
      "  model = cd_fast.enet_coordinate_descent(\n",
      "C:\\ProgramData\\Anaconda3\\lib\\site-packages\\sklearn\\linear_model\\_coordinate_descent.py:647: ConvergenceWarning: Objective did not converge. You might want to increase the number of iterations, check the scale of the features or consider increasing regularisation. Duality gap: 7.284e+10, tolerance: 6.547e+08\n",
      "  model = cd_fast.enet_coordinate_descent(\n"
     ]
    },
    {
     "data": {
      "text/html": [
       "<div>\n",
       "<style scoped>\n",
       "    .dataframe tbody tr th:only-of-type {\n",
       "        vertical-align: middle;\n",
       "    }\n",
       "\n",
       "    .dataframe tbody tr th {\n",
       "        vertical-align: top;\n",
       "    }\n",
       "\n",
       "    .dataframe thead th {\n",
       "        text-align: right;\n",
       "    }\n",
       "</style>\n",
       "<table border=\"1\" class=\"dataframe\">\n",
       "  <thead>\n",
       "    <tr style=\"text-align: right;\">\n",
       "      <th></th>\n",
       "      <th>0</th>\n",
       "      <th>1</th>\n",
       "      <th>2</th>\n",
       "      <th>3</th>\n",
       "      <th>4</th>\n",
       "    </tr>\n",
       "  </thead>\n",
       "  <tbody>\n",
       "    <tr>\n",
       "      <th>Lr</th>\n",
       "      <td>33871.123944</td>\n",
       "      <td>29044.822588</td>\n",
       "      <td>33713.395308</td>\n",
       "      <td>32826.782264</td>\n",
       "      <td>32724.664158</td>\n",
       "    </tr>\n",
       "    <tr>\n",
       "      <th>lasso</th>\n",
       "      <td>33870.443230</td>\n",
       "      <td>29045.091070</td>\n",
       "      <td>33713.536046</td>\n",
       "      <td>32826.737971</td>\n",
       "      <td>32724.270684</td>\n",
       "    </tr>\n",
       "    <tr>\n",
       "      <th>Ridge</th>\n",
       "      <td>33870.590302</td>\n",
       "      <td>29046.034360</td>\n",
       "      <td>33715.121373</td>\n",
       "      <td>32826.731217</td>\n",
       "      <td>32721.105483</td>\n",
       "    </tr>\n",
       "  </tbody>\n",
       "</table>\n",
       "</div>"
      ],
      "text/plain": [
       "                  0             1             2             3             4\n",
       "Lr     33871.123944  29044.822588  33713.395308  32826.782264  32724.664158\n",
       "lasso  33870.443230  29045.091070  33713.536046  32826.737971  32724.270684\n",
       "Ridge  33870.590302  29046.034360  33715.121373  32826.731217  32721.105483"
      ]
     },
     "execution_count": 148,
     "metadata": {},
     "output_type": "execute_result"
    }
   ],
   "source": [
    "cross_val_class(X_train=data[new_cols_20],y_train=data.SalePrice,classifier_list=[LinearRegression(),Lasso(),Ridge()],\n",
    "                classifier_name=['Lr','lasso','Ridge'],scoring=scoring)"
   ]
  },
  {
   "cell_type": "code",
   "execution_count": 151,
   "metadata": {
    "scrolled": true
   },
   "outputs": [
    {
     "name": "stderr",
     "output_type": "stream",
     "text": [
      "C:\\ProgramData\\Anaconda3\\lib\\site-packages\\sklearn\\linear_model\\_coordinate_descent.py:647: ConvergenceWarning: Objective did not converge. You might want to increase the number of iterations, check the scale of the features or consider increasing regularisation. Duality gap: 6.029e+11, tolerance: 6.276e+08\n",
      "  model = cd_fast.enet_coordinate_descent(\n",
      "C:\\ProgramData\\Anaconda3\\lib\\site-packages\\sklearn\\linear_model\\_coordinate_descent.py:647: ConvergenceWarning: Objective did not converge. You might want to increase the number of iterations, check the scale of the features or consider increasing regularisation. Duality gap: 1.754e+11, tolerance: 5.989e+08\n",
      "  model = cd_fast.enet_coordinate_descent(\n",
      "C:\\ProgramData\\Anaconda3\\lib\\site-packages\\sklearn\\linear_model\\_coordinate_descent.py:647: ConvergenceWarning: Objective did not converge. You might want to increase the number of iterations, check the scale of the features or consider increasing regularisation. Duality gap: 4.226e+11, tolerance: 6.347e+08\n",
      "  model = cd_fast.enet_coordinate_descent(\n",
      "C:\\ProgramData\\Anaconda3\\lib\\site-packages\\sklearn\\linear_model\\_coordinate_descent.py:647: ConvergenceWarning: Objective did not converge. You might want to increase the number of iterations, check the scale of the features or consider increasing regularisation. Duality gap: 6.207e+10, tolerance: 6.547e+08\n",
      "  model = cd_fast.enet_coordinate_descent(\n"
     ]
    },
    {
     "data": {
      "text/html": [
       "<div>\n",
       "<style scoped>\n",
       "    .dataframe tbody tr th:only-of-type {\n",
       "        vertical-align: middle;\n",
       "    }\n",
       "\n",
       "    .dataframe tbody tr th {\n",
       "        vertical-align: top;\n",
       "    }\n",
       "\n",
       "    .dataframe thead th {\n",
       "        text-align: right;\n",
       "    }\n",
       "</style>\n",
       "<table border=\"1\" class=\"dataframe\">\n",
       "  <thead>\n",
       "    <tr style=\"text-align: right;\">\n",
       "      <th></th>\n",
       "      <th>0</th>\n",
       "      <th>1</th>\n",
       "      <th>2</th>\n",
       "      <th>3</th>\n",
       "      <th>4</th>\n",
       "    </tr>\n",
       "  </thead>\n",
       "  <tbody>\n",
       "    <tr>\n",
       "      <th>Lr</th>\n",
       "      <td>34759.848753</td>\n",
       "      <td>31326.402538</td>\n",
       "      <td>34664.450464</td>\n",
       "      <td>34457.699932</td>\n",
       "      <td>34187.580280</td>\n",
       "    </tr>\n",
       "    <tr>\n",
       "      <th>lasso</th>\n",
       "      <td>34758.774089</td>\n",
       "      <td>31326.610067</td>\n",
       "      <td>34664.602639</td>\n",
       "      <td>34457.687482</td>\n",
       "      <td>34187.196767</td>\n",
       "    </tr>\n",
       "    <tr>\n",
       "      <th>Ridge</th>\n",
       "      <td>34758.498519</td>\n",
       "      <td>31327.695400</td>\n",
       "      <td>34666.361796</td>\n",
       "      <td>34458.048044</td>\n",
       "      <td>34184.092668</td>\n",
       "    </tr>\n",
       "  </tbody>\n",
       "</table>\n",
       "</div>"
      ],
      "text/plain": [
       "                  0             1             2             3             4\n",
       "Lr     34759.848753  31326.402538  34664.450464  34457.699932  34187.580280\n",
       "lasso  34758.774089  31326.610067  34664.602639  34457.687482  34187.196767\n",
       "Ridge  34758.498519  31327.695400  34666.361796  34458.048044  34184.092668"
      ]
     },
     "execution_count": 151,
     "metadata": {},
     "output_type": "execute_result"
    }
   ],
   "source": [
    "cross_val_class(X_train=data[new_cols_15],y_train=data.SalePrice,classifier_list=[LinearRegression(),Lasso(),Ridge()],\n",
    "                classifier_name=['Lr','lasso','Ridge'],scoring=scoring)"
   ]
  },
  {
   "cell_type": "code",
   "execution_count": 155,
   "metadata": {
    "scrolled": true
   },
   "outputs": [
    {
     "name": "stderr",
     "output_type": "stream",
     "text": [
      "C:\\ProgramData\\Anaconda3\\lib\\site-packages\\sklearn\\linear_model\\_coordinate_descent.py:647: ConvergenceWarning: Objective did not converge. You might want to increase the number of iterations, check the scale of the features or consider increasing regularisation. Duality gap: 6.552e+11, tolerance: 6.276e+08\n",
      "  model = cd_fast.enet_coordinate_descent(\n",
      "C:\\ProgramData\\Anaconda3\\lib\\site-packages\\sklearn\\linear_model\\_coordinate_descent.py:647: ConvergenceWarning: Objective did not converge. You might want to increase the number of iterations, check the scale of the features or consider increasing regularisation. Duality gap: 6.341e+08, tolerance: 6.117e+08\n",
      "  model = cd_fast.enet_coordinate_descent(\n",
      "C:\\ProgramData\\Anaconda3\\lib\\site-packages\\sklearn\\linear_model\\_coordinate_descent.py:647: ConvergenceWarning: Objective did not converge. You might want to increase the number of iterations, check the scale of the features or consider increasing regularisation. Duality gap: 2.227e+10, tolerance: 5.989e+08\n",
      "  model = cd_fast.enet_coordinate_descent(\n",
      "C:\\ProgramData\\Anaconda3\\lib\\site-packages\\sklearn\\linear_model\\_coordinate_descent.py:647: ConvergenceWarning: Objective did not converge. You might want to increase the number of iterations, check the scale of the features or consider increasing regularisation. Duality gap: 4.345e+11, tolerance: 6.347e+08\n",
      "  model = cd_fast.enet_coordinate_descent(\n",
      "C:\\ProgramData\\Anaconda3\\lib\\site-packages\\sklearn\\linear_model\\_coordinate_descent.py:647: ConvergenceWarning: Objective did not converge. You might want to increase the number of iterations, check the scale of the features or consider increasing regularisation. Duality gap: 9.487e+09, tolerance: 6.547e+08\n",
      "  model = cd_fast.enet_coordinate_descent(\n"
     ]
    },
    {
     "data": {
      "text/html": [
       "<div>\n",
       "<style scoped>\n",
       "    .dataframe tbody tr th:only-of-type {\n",
       "        vertical-align: middle;\n",
       "    }\n",
       "\n",
       "    .dataframe tbody tr th {\n",
       "        vertical-align: top;\n",
       "    }\n",
       "\n",
       "    .dataframe thead th {\n",
       "        text-align: right;\n",
       "    }\n",
       "</style>\n",
       "<table border=\"1\" class=\"dataframe\">\n",
       "  <thead>\n",
       "    <tr style=\"text-align: right;\">\n",
       "      <th></th>\n",
       "      <th>0</th>\n",
       "      <th>1</th>\n",
       "      <th>2</th>\n",
       "      <th>3</th>\n",
       "      <th>4</th>\n",
       "    </tr>\n",
       "  </thead>\n",
       "  <tbody>\n",
       "    <tr>\n",
       "      <th>Lr</th>\n",
       "      <td>35860.449188</td>\n",
       "      <td>31749.257702</td>\n",
       "      <td>36876.132005</td>\n",
       "      <td>35387.425660</td>\n",
       "      <td>34844.564420</td>\n",
       "    </tr>\n",
       "    <tr>\n",
       "      <th>lasso</th>\n",
       "      <td>35859.360916</td>\n",
       "      <td>31749.258126</td>\n",
       "      <td>36876.141167</td>\n",
       "      <td>35387.413807</td>\n",
       "      <td>34844.558969</td>\n",
       "    </tr>\n",
       "    <tr>\n",
       "      <th>Ridge</th>\n",
       "      <td>35860.445132</td>\n",
       "      <td>31749.258341</td>\n",
       "      <td>36876.135383</td>\n",
       "      <td>35387.425385</td>\n",
       "      <td>34844.562877</td>\n",
       "    </tr>\n",
       "  </tbody>\n",
       "</table>\n",
       "</div>"
      ],
      "text/plain": [
       "                  0             1             2             3             4\n",
       "Lr     35860.449188  31749.257702  36876.132005  35387.425660  34844.564420\n",
       "lasso  35859.360916  31749.258126  36876.141167  35387.413807  34844.558969\n",
       "Ridge  35860.445132  31749.258341  36876.135383  35387.425385  34844.562877"
      ]
     },
     "execution_count": 155,
     "metadata": {},
     "output_type": "execute_result"
    }
   ],
   "source": [
    "cross_val_class(X_train=data[new_cols_10],y_train=data.SalePrice,classifier_list=[LinearRegression(),Lasso(),Ridge()],\n",
    "                classifier_name=['Lr','lasso','Ridge'],scoring=scoring)"
   ]
  },
  {
   "cell_type": "code",
   "execution_count": 159,
   "metadata": {
    "scrolled": true
   },
   "outputs": [
    {
     "name": "stderr",
     "output_type": "stream",
     "text": [
      "C:\\ProgramData\\Anaconda3\\lib\\site-packages\\sklearn\\linear_model\\_coordinate_descent.py:647: ConvergenceWarning: Objective did not converge. You might want to increase the number of iterations, check the scale of the features or consider increasing regularisation. Duality gap: 8.668e+11, tolerance: 6.276e+08\n",
      "  model = cd_fast.enet_coordinate_descent(\n",
      "C:\\ProgramData\\Anaconda3\\lib\\site-packages\\sklearn\\linear_model\\_coordinate_descent.py:647: ConvergenceWarning: Objective did not converge. You might want to increase the number of iterations, check the scale of the features or consider increasing regularisation. Duality gap: 1.254e+11, tolerance: 6.117e+08\n",
      "  model = cd_fast.enet_coordinate_descent(\n",
      "C:\\ProgramData\\Anaconda3\\lib\\site-packages\\sklearn\\linear_model\\_coordinate_descent.py:647: ConvergenceWarning: Objective did not converge. You might want to increase the number of iterations, check the scale of the features or consider increasing regularisation. Duality gap: 1.825e+11, tolerance: 5.989e+08\n",
      "  model = cd_fast.enet_coordinate_descent(\n",
      "C:\\ProgramData\\Anaconda3\\lib\\site-packages\\sklearn\\linear_model\\_coordinate_descent.py:647: ConvergenceWarning: Objective did not converge. You might want to increase the number of iterations, check the scale of the features or consider increasing regularisation. Duality gap: 2.711e+11, tolerance: 6.347e+08\n",
      "  model = cd_fast.enet_coordinate_descent(\n",
      "C:\\ProgramData\\Anaconda3\\lib\\site-packages\\sklearn\\linear_model\\_coordinate_descent.py:647: ConvergenceWarning: Objective did not converge. You might want to increase the number of iterations, check the scale of the features or consider increasing regularisation. Duality gap: 1.805e+11, tolerance: 6.547e+08\n",
      "  model = cd_fast.enet_coordinate_descent(\n"
     ]
    },
    {
     "data": {
      "text/html": [
       "<div>\n",
       "<style scoped>\n",
       "    .dataframe tbody tr th:only-of-type {\n",
       "        vertical-align: middle;\n",
       "    }\n",
       "\n",
       "    .dataframe tbody tr th {\n",
       "        vertical-align: top;\n",
       "    }\n",
       "\n",
       "    .dataframe thead th {\n",
       "        text-align: right;\n",
       "    }\n",
       "</style>\n",
       "<table border=\"1\" class=\"dataframe\">\n",
       "  <thead>\n",
       "    <tr style=\"text-align: right;\">\n",
       "      <th></th>\n",
       "      <th>0</th>\n",
       "      <th>1</th>\n",
       "      <th>2</th>\n",
       "      <th>3</th>\n",
       "      <th>4</th>\n",
       "    </tr>\n",
       "  </thead>\n",
       "  <tbody>\n",
       "    <tr>\n",
       "      <th>Lr</th>\n",
       "      <td>37633.115637</td>\n",
       "      <td>36222.133628</td>\n",
       "      <td>42382.641187</td>\n",
       "      <td>39485.646985</td>\n",
       "      <td>39839.691392</td>\n",
       "    </tr>\n",
       "    <tr>\n",
       "      <th>lasso</th>\n",
       "      <td>37630.813695</td>\n",
       "      <td>36222.134997</td>\n",
       "      <td>42382.644779</td>\n",
       "      <td>39485.653612</td>\n",
       "      <td>39839.691913</td>\n",
       "    </tr>\n",
       "    <tr>\n",
       "      <th>Ridge</th>\n",
       "      <td>37633.113378</td>\n",
       "      <td>36222.133702</td>\n",
       "      <td>42382.641296</td>\n",
       "      <td>39485.647110</td>\n",
       "      <td>39839.691406</td>\n",
       "    </tr>\n",
       "  </tbody>\n",
       "</table>\n",
       "</div>"
      ],
      "text/plain": [
       "                  0             1             2             3             4\n",
       "Lr     37633.115637  36222.133628  42382.641187  39485.646985  39839.691392\n",
       "lasso  37630.813695  36222.134997  42382.644779  39485.653612  39839.691913\n",
       "Ridge  37633.113378  36222.133702  42382.641296  39485.647110  39839.691406"
      ]
     },
     "execution_count": 159,
     "metadata": {},
     "output_type": "execute_result"
    }
   ],
   "source": [
    "cross_val_class(X_train=data[new_cols_5],y_train=data.SalePrice,classifier_list=[LinearRegression(),Lasso(),Ridge()],\n",
    "                classifier_name=['Lr','lasso','Ridge'],scoring=scoring)"
   ]
  },
  {
   "cell_type": "code",
   "execution_count": 161,
   "metadata": {},
   "outputs": [],
   "source": [
    "def Standardize(df,target_col):\n",
    "    df_def = df.copy()\n",
    "    num = df_def.select_dtypes(exclude='object').columns\n",
    "    for col in num:\n",
    "        if col!=target_col:\n",
    "            max_ = df_def[col].max() # since correlation is always <=1 ..for better visualization we normalize\n",
    "            min_ = df_def[col].min()\n",
    "            norm_ = (df_def[col] - min_)/(max_-min_)\n",
    "            df_def.loc[:,col] = norm_\n",
    "    return df_def"
   ]
  },
  {
   "cell_type": "code",
   "execution_count": 162,
   "metadata": {},
   "outputs": [],
   "source": [
    "standard_df = Standardize(df=data[new_cols_20],target_col='SalePrice')"
   ]
  },
  {
   "cell_type": "code",
   "execution_count": null,
   "metadata": {},
   "outputs": [],
   "source": []
  }
 ],
 "metadata": {
  "kernelspec": {
   "display_name": "Python 3",
   "language": "python",
   "name": "python3"
  },
  "language_info": {
   "codemirror_mode": {
    "name": "ipython",
    "version": 3
   },
   "file_extension": ".py",
   "mimetype": "text/x-python",
   "name": "python",
   "nbconvert_exporter": "python",
   "pygments_lexer": "ipython3",
   "version": "3.8.3"
  }
 },
 "nbformat": 4,
 "nbformat_minor": 4
}
