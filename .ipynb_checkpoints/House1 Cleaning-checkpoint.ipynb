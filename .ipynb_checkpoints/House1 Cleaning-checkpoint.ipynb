{
 "cells": [
  {
   "cell_type": "code",
   "execution_count": 1,
   "metadata": {},
   "outputs": [],
   "source": [
    "import pandas as pd\n",
    "import numpy as np\n",
    "import matplotlib.pyplot as plt\n",
    "import seaborn as sns"
   ]
  },
  {
   "cell_type": "code",
   "execution_count": null,
   "metadata": {},
   "outputs": [],
   "source": []
  },
  {
   "cell_type": "code",
   "execution_count": 2,
   "metadata": {
    "scrolled": true
   },
   "outputs": [
    {
     "name": "stderr",
     "output_type": "stream",
     "text": [
      "C:\\ProgramData\\Anaconda3\\lib\\site-packages\\fuzzywuzzy\\fuzz.py:11: UserWarning: Using slow pure-python SequenceMatcher. Install python-Levenshtein to remove this warning\n",
      "  warnings.warn('Using slow pure-python SequenceMatcher. Install python-Levenshtein to remove this warning')\n"
     ]
    }
   ],
   "source": [
    "import fuzzywuzzy\n",
    "from fuzzywuzzy import process\n",
    "import chardet"
   ]
  },
  {
   "cell_type": "code",
   "execution_count": 3,
   "metadata": {
    "scrolled": false
   },
   "outputs": [
    {
     "name": "stdout",
     "output_type": "stream",
     "text": [
      "(1460, 81)\n"
     ]
    },
    {
     "data": {
      "text/html": [
       "<div>\n",
       "<style scoped>\n",
       "    .dataframe tbody tr th:only-of-type {\n",
       "        vertical-align: middle;\n",
       "    }\n",
       "\n",
       "    .dataframe tbody tr th {\n",
       "        vertical-align: top;\n",
       "    }\n",
       "\n",
       "    .dataframe thead th {\n",
       "        text-align: right;\n",
       "    }\n",
       "</style>\n",
       "<table border=\"1\" class=\"dataframe\">\n",
       "  <thead>\n",
       "    <tr style=\"text-align: right;\">\n",
       "      <th></th>\n",
       "      <th>0</th>\n",
       "      <th>1</th>\n",
       "      <th>2</th>\n",
       "      <th>3</th>\n",
       "      <th>4</th>\n",
       "    </tr>\n",
       "  </thead>\n",
       "  <tbody>\n",
       "    <tr>\n",
       "      <th>Id</th>\n",
       "      <td>1</td>\n",
       "      <td>2</td>\n",
       "      <td>3</td>\n",
       "      <td>4</td>\n",
       "      <td>5</td>\n",
       "    </tr>\n",
       "    <tr>\n",
       "      <th>MSSubClass</th>\n",
       "      <td>60</td>\n",
       "      <td>20</td>\n",
       "      <td>60</td>\n",
       "      <td>70</td>\n",
       "      <td>60</td>\n",
       "    </tr>\n",
       "    <tr>\n",
       "      <th>MSZoning</th>\n",
       "      <td>RL</td>\n",
       "      <td>RL</td>\n",
       "      <td>RL</td>\n",
       "      <td>RL</td>\n",
       "      <td>RL</td>\n",
       "    </tr>\n",
       "    <tr>\n",
       "      <th>LotFrontage</th>\n",
       "      <td>65</td>\n",
       "      <td>80</td>\n",
       "      <td>68</td>\n",
       "      <td>60</td>\n",
       "      <td>84</td>\n",
       "    </tr>\n",
       "    <tr>\n",
       "      <th>LotArea</th>\n",
       "      <td>8450</td>\n",
       "      <td>9600</td>\n",
       "      <td>11250</td>\n",
       "      <td>9550</td>\n",
       "      <td>14260</td>\n",
       "    </tr>\n",
       "    <tr>\n",
       "      <th>...</th>\n",
       "      <td>...</td>\n",
       "      <td>...</td>\n",
       "      <td>...</td>\n",
       "      <td>...</td>\n",
       "      <td>...</td>\n",
       "    </tr>\n",
       "    <tr>\n",
       "      <th>MoSold</th>\n",
       "      <td>2</td>\n",
       "      <td>5</td>\n",
       "      <td>9</td>\n",
       "      <td>2</td>\n",
       "      <td>12</td>\n",
       "    </tr>\n",
       "    <tr>\n",
       "      <th>YrSold</th>\n",
       "      <td>2008</td>\n",
       "      <td>2007</td>\n",
       "      <td>2008</td>\n",
       "      <td>2006</td>\n",
       "      <td>2008</td>\n",
       "    </tr>\n",
       "    <tr>\n",
       "      <th>SaleType</th>\n",
       "      <td>WD</td>\n",
       "      <td>WD</td>\n",
       "      <td>WD</td>\n",
       "      <td>WD</td>\n",
       "      <td>WD</td>\n",
       "    </tr>\n",
       "    <tr>\n",
       "      <th>SaleCondition</th>\n",
       "      <td>Normal</td>\n",
       "      <td>Normal</td>\n",
       "      <td>Normal</td>\n",
       "      <td>Abnorml</td>\n",
       "      <td>Normal</td>\n",
       "    </tr>\n",
       "    <tr>\n",
       "      <th>SalePrice</th>\n",
       "      <td>208500</td>\n",
       "      <td>181500</td>\n",
       "      <td>223500</td>\n",
       "      <td>140000</td>\n",
       "      <td>250000</td>\n",
       "    </tr>\n",
       "  </tbody>\n",
       "</table>\n",
       "<p>81 rows × 5 columns</p>\n",
       "</div>"
      ],
      "text/plain": [
       "                    0       1       2        3       4\n",
       "Id                  1       2       3        4       5\n",
       "MSSubClass         60      20      60       70      60\n",
       "MSZoning           RL      RL      RL       RL      RL\n",
       "LotFrontage        65      80      68       60      84\n",
       "LotArea          8450    9600   11250     9550   14260\n",
       "...               ...     ...     ...      ...     ...\n",
       "MoSold              2       5       9        2      12\n",
       "YrSold           2008    2007    2008     2006    2008\n",
       "SaleType           WD      WD      WD       WD      WD\n",
       "SaleCondition  Normal  Normal  Normal  Abnorml  Normal\n",
       "SalePrice      208500  181500  223500   140000  250000\n",
       "\n",
       "[81 rows x 5 columns]"
      ]
     },
     "execution_count": 3,
     "metadata": {},
     "output_type": "execute_result"
    }
   ],
   "source": [
    "train = pd.read_csv('train (1).csv')\n",
    "print(train.shape)\n",
    "train.head().T"
   ]
  },
  {
   "cell_type": "code",
   "execution_count": 15,
   "metadata": {},
   "outputs": [],
   "source": [
    "action_count = train.groupby(['SaleType', 'SaleCondition'])['SalePrice'].agg(sum).unstack()"
   ]
  },
  {
   "cell_type": "code",
   "execution_count": 16,
   "metadata": {
    "scrolled": false
   },
   "outputs": [
    {
     "data": {
      "text/html": [
       "<div>\n",
       "<style scoped>\n",
       "    .dataframe tbody tr th:only-of-type {\n",
       "        vertical-align: middle;\n",
       "    }\n",
       "\n",
       "    .dataframe tbody tr th {\n",
       "        vertical-align: top;\n",
       "    }\n",
       "\n",
       "    .dataframe thead th {\n",
       "        text-align: right;\n",
       "    }\n",
       "</style>\n",
       "<table border=\"1\" class=\"dataframe\">\n",
       "  <thead>\n",
       "    <tr style=\"text-align: right;\">\n",
       "      <th>SaleCondition</th>\n",
       "      <th>Abnorml</th>\n",
       "      <th>AdjLand</th>\n",
       "      <th>Alloca</th>\n",
       "      <th>Family</th>\n",
       "      <th>Normal</th>\n",
       "      <th>Partial</th>\n",
       "    </tr>\n",
       "    <tr>\n",
       "      <th>SaleType</th>\n",
       "      <th></th>\n",
       "      <th></th>\n",
       "      <th></th>\n",
       "      <th></th>\n",
       "      <th></th>\n",
       "      <th></th>\n",
       "    </tr>\n",
       "  </thead>\n",
       "  <tbody>\n",
       "    <tr>\n",
       "      <th>COD</th>\n",
       "      <td>3488300.0</td>\n",
       "      <td>NaN</td>\n",
       "      <td>NaN</td>\n",
       "      <td>NaN</td>\n",
       "      <td>2702550.0</td>\n",
       "      <td>NaN</td>\n",
       "    </tr>\n",
       "    <tr>\n",
       "      <th>CWD</th>\n",
       "      <td>328900.0</td>\n",
       "      <td>NaN</td>\n",
       "      <td>NaN</td>\n",
       "      <td>136000.0</td>\n",
       "      <td>377500.0</td>\n",
       "      <td>NaN</td>\n",
       "    </tr>\n",
       "    <tr>\n",
       "      <th>Con</th>\n",
       "      <td>NaN</td>\n",
       "      <td>NaN</td>\n",
       "      <td>NaN</td>\n",
       "      <td>NaN</td>\n",
       "      <td>539200.0</td>\n",
       "      <td>NaN</td>\n",
       "    </tr>\n",
       "    <tr>\n",
       "      <th>ConLD</th>\n",
       "      <td>164900.0</td>\n",
       "      <td>NaN</td>\n",
       "      <td>NaN</td>\n",
       "      <td>NaN</td>\n",
       "      <td>849000.0</td>\n",
       "      <td>235128.0</td>\n",
       "    </tr>\n",
       "    <tr>\n",
       "      <th>ConLI</th>\n",
       "      <td>125000.0</td>\n",
       "      <td>NaN</td>\n",
       "      <td>NaN</td>\n",
       "      <td>NaN</td>\n",
       "      <td>876950.0</td>\n",
       "      <td>NaN</td>\n",
       "    </tr>\n",
       "    <tr>\n",
       "      <th>ConLw</th>\n",
       "      <td>NaN</td>\n",
       "      <td>NaN</td>\n",
       "      <td>NaN</td>\n",
       "      <td>NaN</td>\n",
       "      <td>718500.0</td>\n",
       "      <td>NaN</td>\n",
       "    </tr>\n",
       "    <tr>\n",
       "      <th>New</th>\n",
       "      <td>NaN</td>\n",
       "      <td>NaN</td>\n",
       "      <td>NaN</td>\n",
       "      <td>NaN</td>\n",
       "      <td>NaN</td>\n",
       "      <td>33543341.0</td>\n",
       "    </tr>\n",
       "    <tr>\n",
       "      <th>Oth</th>\n",
       "      <td>359550.0</td>\n",
       "      <td>NaN</td>\n",
       "      <td>NaN</td>\n",
       "      <td>NaN</td>\n",
       "      <td>NaN</td>\n",
       "      <td>NaN</td>\n",
       "    </tr>\n",
       "    <tr>\n",
       "      <th>WD</th>\n",
       "      <td>10332539.0</td>\n",
       "      <td>416500.0</td>\n",
       "      <td>2008529.0</td>\n",
       "      <td>2856000.0</td>\n",
       "      <td>203828559.0</td>\n",
       "      <td>258000.0</td>\n",
       "    </tr>\n",
       "  </tbody>\n",
       "</table>\n",
       "</div>"
      ],
      "text/plain": [
       "SaleCondition     Abnorml   AdjLand     Alloca     Family       Normal  \\\n",
       "SaleType                                                                 \n",
       "COD             3488300.0       NaN        NaN        NaN    2702550.0   \n",
       "CWD              328900.0       NaN        NaN   136000.0     377500.0   \n",
       "Con                   NaN       NaN        NaN        NaN     539200.0   \n",
       "ConLD            164900.0       NaN        NaN        NaN     849000.0   \n",
       "ConLI            125000.0       NaN        NaN        NaN     876950.0   \n",
       "ConLw                 NaN       NaN        NaN        NaN     718500.0   \n",
       "New                   NaN       NaN        NaN        NaN          NaN   \n",
       "Oth              359550.0       NaN        NaN        NaN          NaN   \n",
       "WD             10332539.0  416500.0  2008529.0  2856000.0  203828559.0   \n",
       "\n",
       "SaleCondition     Partial  \n",
       "SaleType                   \n",
       "COD                   NaN  \n",
       "CWD                   NaN  \n",
       "Con                   NaN  \n",
       "ConLD            235128.0  \n",
       "ConLI                 NaN  \n",
       "ConLw                 NaN  \n",
       "New            33543341.0  \n",
       "Oth                   NaN  \n",
       "WD               258000.0  "
      ]
     },
     "execution_count": 16,
     "metadata": {},
     "output_type": "execute_result"
    }
   ],
   "source": [
    "action_count"
   ]
  },
  {
   "cell_type": "code",
   "execution_count": null,
   "metadata": {},
   "outputs": [],
   "source": [
    "mat = np.reshape(np.repeat(labels,np.shape(top)[1]) == np.array(top).ravel(),np.array(top).shape).astype(int)"
   ]
  },
  {
   "cell_type": "code",
   "execution_count": 18,
   "metadata": {
    "scrolled": true
   },
   "outputs": [
    {
     "data": {
      "text/plain": [
       "(array([ 1,  2,  3,  4,  6,  5,  7,  8,  9, 10, 11, 12]),\n",
       " array([[ 1,  2,  3],\n",
       "        [ 4,  6,  5],\n",
       "        [ 7,  8,  9],\n",
       "        [10, 11, 12]]))"
      ]
     },
     "execution_count": 18,
     "metadata": {},
     "output_type": "execute_result"
    }
   ],
   "source": [
    "top=[[1,2,3],[4,6,5],[7,8,9],[10,11,12]]\n",
    "np.array(top).ravel(),np.array(top)"
   ]
  },
  {
   "cell_type": "code",
   "execution_count": 20,
   "metadata": {
    "scrolled": true
   },
   "outputs": [
    {
     "data": {
      "text/plain": [
       "3"
      ]
     },
     "execution_count": 20,
     "metadata": {},
     "output_type": "execute_result"
    }
   ],
   "source": [
    "np.shape(top)[1]"
   ]
  },
  {
   "cell_type": "code",
   "execution_count": 21,
   "metadata": {},
   "outputs": [],
   "source": [
    "import random"
   ]
  },
  {
   "cell_type": "code",
   "execution_count": 22,
   "metadata": {},
   "outputs": [
    {
     "data": {
      "text/plain": [
       "[2, 5, 1]"
      ]
     },
     "execution_count": 22,
     "metadata": {},
     "output_type": "execute_result"
    }
   ],
   "source": [
    "labels = [random.randint(1,10) for i in range(3)]\n",
    "labels"
   ]
  },
  {
   "cell_type": "code",
   "execution_count": 24,
   "metadata": {
    "scrolled": true
   },
   "outputs": [
    {
     "name": "stderr",
     "output_type": "stream",
     "text": [
      "<ipython-input-24-b932cdfa1e37>:1: DeprecationWarning: elementwise comparison failed; this will raise an error in the future.\n",
      "  np.repeat(labels,np.shape(top)[1]) == np.array(top).ravel()\n"
     ]
    },
    {
     "data": {
      "text/plain": [
       "False"
      ]
     },
     "execution_count": 24,
     "metadata": {},
     "output_type": "execute_result"
    }
   ],
   "source": [
    "np.repeat(labels,np.shape(top)[1]) == np.array(top).ravel()"
   ]
  },
  {
   "cell_type": "code",
   "execution_count": 25,
   "metadata": {},
   "outputs": [
    {
     "data": {
      "text/plain": [
       "array([2, 2, 2, 5, 5, 5, 1, 1, 1])"
      ]
     },
     "execution_count": 25,
     "metadata": {},
     "output_type": "execute_result"
    }
   ],
   "source": [
    "np.repeat(labels,np.shape(top)[1])"
   ]
  },
  {
   "cell_type": "code",
   "execution_count": null,
   "metadata": {},
   "outputs": [],
   "source": []
  },
  {
   "cell_type": "code",
   "execution_count": 5,
   "metadata": {
    "scrolled": true
   },
   "outputs": [
    {
     "name": "stdout",
     "output_type": "stream",
     "text": [
      "(1459, 80)\n"
     ]
    },
    {
     "data": {
      "text/html": [
       "<div>\n",
       "<style scoped>\n",
       "    .dataframe tbody tr th:only-of-type {\n",
       "        vertical-align: middle;\n",
       "    }\n",
       "\n",
       "    .dataframe tbody tr th {\n",
       "        vertical-align: top;\n",
       "    }\n",
       "\n",
       "    .dataframe thead th {\n",
       "        text-align: right;\n",
       "    }\n",
       "</style>\n",
       "<table border=\"1\" class=\"dataframe\">\n",
       "  <thead>\n",
       "    <tr style=\"text-align: right;\">\n",
       "      <th></th>\n",
       "      <th>0</th>\n",
       "      <th>1</th>\n",
       "      <th>2</th>\n",
       "      <th>3</th>\n",
       "      <th>4</th>\n",
       "    </tr>\n",
       "  </thead>\n",
       "  <tbody>\n",
       "    <tr>\n",
       "      <th>Id</th>\n",
       "      <td>1461</td>\n",
       "      <td>1462</td>\n",
       "      <td>1463</td>\n",
       "      <td>1464</td>\n",
       "      <td>1465</td>\n",
       "    </tr>\n",
       "    <tr>\n",
       "      <th>MSSubClass</th>\n",
       "      <td>20</td>\n",
       "      <td>20</td>\n",
       "      <td>60</td>\n",
       "      <td>60</td>\n",
       "      <td>120</td>\n",
       "    </tr>\n",
       "    <tr>\n",
       "      <th>MSZoning</th>\n",
       "      <td>RH</td>\n",
       "      <td>RL</td>\n",
       "      <td>RL</td>\n",
       "      <td>RL</td>\n",
       "      <td>RL</td>\n",
       "    </tr>\n",
       "    <tr>\n",
       "      <th>LotFrontage</th>\n",
       "      <td>80</td>\n",
       "      <td>81</td>\n",
       "      <td>74</td>\n",
       "      <td>78</td>\n",
       "      <td>43</td>\n",
       "    </tr>\n",
       "    <tr>\n",
       "      <th>LotArea</th>\n",
       "      <td>11622</td>\n",
       "      <td>14267</td>\n",
       "      <td>13830</td>\n",
       "      <td>9978</td>\n",
       "      <td>5005</td>\n",
       "    </tr>\n",
       "    <tr>\n",
       "      <th>...</th>\n",
       "      <td>...</td>\n",
       "      <td>...</td>\n",
       "      <td>...</td>\n",
       "      <td>...</td>\n",
       "      <td>...</td>\n",
       "    </tr>\n",
       "    <tr>\n",
       "      <th>MiscVal</th>\n",
       "      <td>0</td>\n",
       "      <td>12500</td>\n",
       "      <td>0</td>\n",
       "      <td>0</td>\n",
       "      <td>0</td>\n",
       "    </tr>\n",
       "    <tr>\n",
       "      <th>MoSold</th>\n",
       "      <td>6</td>\n",
       "      <td>6</td>\n",
       "      <td>3</td>\n",
       "      <td>6</td>\n",
       "      <td>1</td>\n",
       "    </tr>\n",
       "    <tr>\n",
       "      <th>YrSold</th>\n",
       "      <td>2010</td>\n",
       "      <td>2010</td>\n",
       "      <td>2010</td>\n",
       "      <td>2010</td>\n",
       "      <td>2010</td>\n",
       "    </tr>\n",
       "    <tr>\n",
       "      <th>SaleType</th>\n",
       "      <td>WD</td>\n",
       "      <td>WD</td>\n",
       "      <td>WD</td>\n",
       "      <td>WD</td>\n",
       "      <td>WD</td>\n",
       "    </tr>\n",
       "    <tr>\n",
       "      <th>SaleCondition</th>\n",
       "      <td>Normal</td>\n",
       "      <td>Normal</td>\n",
       "      <td>Normal</td>\n",
       "      <td>Normal</td>\n",
       "      <td>Normal</td>\n",
       "    </tr>\n",
       "  </tbody>\n",
       "</table>\n",
       "<p>80 rows × 5 columns</p>\n",
       "</div>"
      ],
      "text/plain": [
       "                    0       1       2       3       4\n",
       "Id               1461    1462    1463    1464    1465\n",
       "MSSubClass         20      20      60      60     120\n",
       "MSZoning           RH      RL      RL      RL      RL\n",
       "LotFrontage        80      81      74      78      43\n",
       "LotArea         11622   14267   13830    9978    5005\n",
       "...               ...     ...     ...     ...     ...\n",
       "MiscVal             0   12500       0       0       0\n",
       "MoSold              6       6       3       6       1\n",
       "YrSold           2010    2010    2010    2010    2010\n",
       "SaleType           WD      WD      WD      WD      WD\n",
       "SaleCondition  Normal  Normal  Normal  Normal  Normal\n",
       "\n",
       "[80 rows x 5 columns]"
      ]
     },
     "execution_count": 5,
     "metadata": {},
     "output_type": "execute_result"
    }
   ],
   "source": [
    "test = pd.read_csv('test (1).csv')\n",
    "print(test.shape)\n",
    "test.head().T"
   ]
  },
  {
   "cell_type": "code",
   "execution_count": 6,
   "metadata": {},
   "outputs": [
    {
     "data": {
      "text/plain": [
       "Index(['Id', 'MSSubClass', 'MSZoning', 'LotFrontage', 'LotArea', 'Street',\n",
       "       'Alley', 'LotShape', 'LandContour', 'Utilities', 'LotConfig',\n",
       "       'LandSlope', 'Neighborhood', 'Condition1', 'Condition2', 'BldgType',\n",
       "       'HouseStyle', 'OverallQual', 'OverallCond', 'YearBuilt', 'YearRemodAdd',\n",
       "       'RoofStyle', 'RoofMatl', 'Exterior1st', 'Exterior2nd', 'MasVnrType',\n",
       "       'MasVnrArea', 'ExterQual', 'ExterCond', 'Foundation', 'BsmtQual',\n",
       "       'BsmtCond', 'BsmtExposure', 'BsmtFinType1', 'BsmtFinSF1',\n",
       "       'BsmtFinType2', 'BsmtFinSF2', 'BsmtUnfSF', 'TotalBsmtSF', 'Heating',\n",
       "       'HeatingQC', 'CentralAir', 'Electrical', '1stFlrSF', '2ndFlrSF',\n",
       "       'LowQualFinSF', 'GrLivArea', 'BsmtFullBath', 'BsmtHalfBath', 'FullBath',\n",
       "       'HalfBath', 'BedroomAbvGr', 'KitchenAbvGr', 'KitchenQual',\n",
       "       'TotRmsAbvGrd', 'Functional', 'Fireplaces', 'FireplaceQu', 'GarageType',\n",
       "       'GarageYrBlt', 'GarageFinish', 'GarageCars', 'GarageArea', 'GarageQual',\n",
       "       'GarageCond', 'PavedDrive', 'WoodDeckSF', 'OpenPorchSF',\n",
       "       'EnclosedPorch', '3SsnPorch', 'ScreenPorch', 'PoolArea', 'PoolQC',\n",
       "       'Fence', 'MiscFeature', 'MiscVal', 'MoSold', 'YrSold', 'SaleType',\n",
       "       'SaleCondition', 'SalePrice'],\n",
       "      dtype='object')"
      ]
     },
     "execution_count": 6,
     "metadata": {},
     "output_type": "execute_result"
    }
   ],
   "source": [
    "train.columns"
   ]
  },
  {
   "cell_type": "code",
   "execution_count": 8,
   "metadata": {
    "collapsed": true
   },
   "outputs": [
    {
     "name": "stdout",
     "output_type": "stream",
     "text": [
      "<class 'pandas.core.frame.DataFrame'>\n",
      "RangeIndex: 1460 entries, 0 to 1459\n",
      "Data columns (total 81 columns):\n",
      " #   Column         Non-Null Count  Dtype  \n",
      "---  ------         --------------  -----  \n",
      " 0   Id             1460 non-null   int64  \n",
      " 1   MSSubClass     1460 non-null   int64  \n",
      " 2   MSZoning       1460 non-null   object \n",
      " 3   LotFrontage    1201 non-null   float64\n",
      " 4   LotArea        1460 non-null   int64  \n",
      " 5   Street         1460 non-null   object \n",
      " 6   Alley          91 non-null     object \n",
      " 7   LotShape       1460 non-null   object \n",
      " 8   LandContour    1460 non-null   object \n",
      " 9   Utilities      1460 non-null   object \n",
      " 10  LotConfig      1460 non-null   object \n",
      " 11  LandSlope      1460 non-null   object \n",
      " 12  Neighborhood   1460 non-null   object \n",
      " 13  Condition1     1460 non-null   object \n",
      " 14  Condition2     1460 non-null   object \n",
      " 15  BldgType       1460 non-null   object \n",
      " 16  HouseStyle     1460 non-null   object \n",
      " 17  OverallQual    1460 non-null   int64  \n",
      " 18  OverallCond    1460 non-null   int64  \n",
      " 19  YearBuilt      1460 non-null   int64  \n",
      " 20  YearRemodAdd   1460 non-null   int64  \n",
      " 21  RoofStyle      1460 non-null   object \n",
      " 22  RoofMatl       1460 non-null   object \n",
      " 23  Exterior1st    1460 non-null   object \n",
      " 24  Exterior2nd    1460 non-null   object \n",
      " 25  MasVnrType     1452 non-null   object \n",
      " 26  MasVnrArea     1452 non-null   float64\n",
      " 27  ExterQual      1460 non-null   object \n",
      " 28  ExterCond      1460 non-null   object \n",
      " 29  Foundation     1460 non-null   object \n",
      " 30  BsmtQual       1423 non-null   object \n",
      " 31  BsmtCond       1423 non-null   object \n",
      " 32  BsmtExposure   1422 non-null   object \n",
      " 33  BsmtFinType1   1423 non-null   object \n",
      " 34  BsmtFinSF1     1460 non-null   int64  \n",
      " 35  BsmtFinType2   1422 non-null   object \n",
      " 36  BsmtFinSF2     1460 non-null   int64  \n",
      " 37  BsmtUnfSF      1460 non-null   int64  \n",
      " 38  TotalBsmtSF    1460 non-null   int64  \n",
      " 39  Heating        1460 non-null   object \n",
      " 40  HeatingQC      1460 non-null   object \n",
      " 41  CentralAir     1460 non-null   object \n",
      " 42  Electrical     1459 non-null   object \n",
      " 43  1stFlrSF       1460 non-null   int64  \n",
      " 44  2ndFlrSF       1460 non-null   int64  \n",
      " 45  LowQualFinSF   1460 non-null   int64  \n",
      " 46  GrLivArea      1460 non-null   int64  \n",
      " 47  BsmtFullBath   1460 non-null   int64  \n",
      " 48  BsmtHalfBath   1460 non-null   int64  \n",
      " 49  FullBath       1460 non-null   int64  \n",
      " 50  HalfBath       1460 non-null   int64  \n",
      " 51  BedroomAbvGr   1460 non-null   int64  \n",
      " 52  KitchenAbvGr   1460 non-null   int64  \n",
      " 53  KitchenQual    1460 non-null   object \n",
      " 54  TotRmsAbvGrd   1460 non-null   int64  \n",
      " 55  Functional     1460 non-null   object \n",
      " 56  Fireplaces     1460 non-null   int64  \n",
      " 57  FireplaceQu    770 non-null    object \n",
      " 58  GarageType     1379 non-null   object \n",
      " 59  GarageYrBlt    1379 non-null   float64\n",
      " 60  GarageFinish   1379 non-null   object \n",
      " 61  GarageCars     1460 non-null   int64  \n",
      " 62  GarageArea     1460 non-null   int64  \n",
      " 63  GarageQual     1379 non-null   object \n",
      " 64  GarageCond     1379 non-null   object \n",
      " 65  PavedDrive     1460 non-null   object \n",
      " 66  WoodDeckSF     1460 non-null   int64  \n",
      " 67  OpenPorchSF    1460 non-null   int64  \n",
      " 68  EnclosedPorch  1460 non-null   int64  \n",
      " 69  3SsnPorch      1460 non-null   int64  \n",
      " 70  ScreenPorch    1460 non-null   int64  \n",
      " 71  PoolArea       1460 non-null   int64  \n",
      " 72  PoolQC         7 non-null      object \n",
      " 73  Fence          281 non-null    object \n",
      " 74  MiscFeature    54 non-null     object \n",
      " 75  MiscVal        1460 non-null   int64  \n",
      " 76  MoSold         1460 non-null   int64  \n",
      " 77  YrSold         1460 non-null   int64  \n",
      " 78  SaleType       1460 non-null   object \n",
      " 79  SaleCondition  1460 non-null   object \n",
      " 80  SalePrice      1460 non-null   int64  \n",
      "dtypes: float64(3), int64(35), object(43)\n",
      "memory usage: 924.0+ KB\n"
     ]
    }
   ],
   "source": [
    "train.info()"
   ]
  },
  {
   "cell_type": "code",
   "execution_count": null,
   "metadata": {},
   "outputs": [],
   "source": []
  },
  {
   "cell_type": "code",
   "execution_count": 9,
   "metadata": {
    "collapsed": true
   },
   "outputs": [
    {
     "name": "stdout",
     "output_type": "stream",
     "text": [
      "<class 'pandas.core.frame.DataFrame'>\n",
      "RangeIndex: 1459 entries, 0 to 1458\n",
      "Data columns (total 80 columns):\n",
      " #   Column         Non-Null Count  Dtype  \n",
      "---  ------         --------------  -----  \n",
      " 0   Id             1459 non-null   int64  \n",
      " 1   MSSubClass     1459 non-null   int64  \n",
      " 2   MSZoning       1455 non-null   object \n",
      " 3   LotFrontage    1232 non-null   float64\n",
      " 4   LotArea        1459 non-null   int64  \n",
      " 5   Street         1459 non-null   object \n",
      " 6   Alley          107 non-null    object \n",
      " 7   LotShape       1459 non-null   object \n",
      " 8   LandContour    1459 non-null   object \n",
      " 9   Utilities      1457 non-null   object \n",
      " 10  LotConfig      1459 non-null   object \n",
      " 11  LandSlope      1459 non-null   object \n",
      " 12  Neighborhood   1459 non-null   object \n",
      " 13  Condition1     1459 non-null   object \n",
      " 14  Condition2     1459 non-null   object \n",
      " 15  BldgType       1459 non-null   object \n",
      " 16  HouseStyle     1459 non-null   object \n",
      " 17  OverallQual    1459 non-null   int64  \n",
      " 18  OverallCond    1459 non-null   int64  \n",
      " 19  YearBuilt      1459 non-null   int64  \n",
      " 20  YearRemodAdd   1459 non-null   int64  \n",
      " 21  RoofStyle      1459 non-null   object \n",
      " 22  RoofMatl       1459 non-null   object \n",
      " 23  Exterior1st    1458 non-null   object \n",
      " 24  Exterior2nd    1458 non-null   object \n",
      " 25  MasVnrType     1443 non-null   object \n",
      " 26  MasVnrArea     1444 non-null   float64\n",
      " 27  ExterQual      1459 non-null   object \n",
      " 28  ExterCond      1459 non-null   object \n",
      " 29  Foundation     1459 non-null   object \n",
      " 30  BsmtQual       1415 non-null   object \n",
      " 31  BsmtCond       1414 non-null   object \n",
      " 32  BsmtExposure   1415 non-null   object \n",
      " 33  BsmtFinType1   1417 non-null   object \n",
      " 34  BsmtFinSF1     1458 non-null   float64\n",
      " 35  BsmtFinType2   1417 non-null   object \n",
      " 36  BsmtFinSF2     1458 non-null   float64\n",
      " 37  BsmtUnfSF      1458 non-null   float64\n",
      " 38  TotalBsmtSF    1458 non-null   float64\n",
      " 39  Heating        1459 non-null   object \n",
      " 40  HeatingQC      1459 non-null   object \n",
      " 41  CentralAir     1459 non-null   object \n",
      " 42  Electrical     1459 non-null   object \n",
      " 43  1stFlrSF       1459 non-null   int64  \n",
      " 44  2ndFlrSF       1459 non-null   int64  \n",
      " 45  LowQualFinSF   1459 non-null   int64  \n",
      " 46  GrLivArea      1459 non-null   int64  \n",
      " 47  BsmtFullBath   1457 non-null   float64\n",
      " 48  BsmtHalfBath   1457 non-null   float64\n",
      " 49  FullBath       1459 non-null   int64  \n",
      " 50  HalfBath       1459 non-null   int64  \n",
      " 51  BedroomAbvGr   1459 non-null   int64  \n",
      " 52  KitchenAbvGr   1459 non-null   int64  \n",
      " 53  KitchenQual    1458 non-null   object \n",
      " 54  TotRmsAbvGrd   1459 non-null   int64  \n",
      " 55  Functional     1457 non-null   object \n",
      " 56  Fireplaces     1459 non-null   int64  \n",
      " 57  FireplaceQu    729 non-null    object \n",
      " 58  GarageType     1383 non-null   object \n",
      " 59  GarageYrBlt    1381 non-null   float64\n",
      " 60  GarageFinish   1381 non-null   object \n",
      " 61  GarageCars     1458 non-null   float64\n",
      " 62  GarageArea     1458 non-null   float64\n",
      " 63  GarageQual     1381 non-null   object \n",
      " 64  GarageCond     1381 non-null   object \n",
      " 65  PavedDrive     1459 non-null   object \n",
      " 66  WoodDeckSF     1459 non-null   int64  \n",
      " 67  OpenPorchSF    1459 non-null   int64  \n",
      " 68  EnclosedPorch  1459 non-null   int64  \n",
      " 69  3SsnPorch      1459 non-null   int64  \n",
      " 70  ScreenPorch    1459 non-null   int64  \n",
      " 71  PoolArea       1459 non-null   int64  \n",
      " 72  PoolQC         3 non-null      object \n",
      " 73  Fence          290 non-null    object \n",
      " 74  MiscFeature    51 non-null     object \n",
      " 75  MiscVal        1459 non-null   int64  \n",
      " 76  MoSold         1459 non-null   int64  \n",
      " 77  YrSold         1459 non-null   int64  \n",
      " 78  SaleType       1458 non-null   object \n",
      " 79  SaleCondition  1459 non-null   object \n",
      "dtypes: float64(11), int64(26), object(43)\n",
      "memory usage: 912.0+ KB\n"
     ]
    }
   ],
   "source": [
    "test.info()"
   ]
  },
  {
   "cell_type": "code",
   "execution_count": 11,
   "metadata": {
    "scrolled": true
   },
   "outputs": [
    {
     "name": "stdout",
     "output_type": "stream",
     "text": [
      "No of train cat_cols :  43\n",
      "No of test cat_cols :  43\n"
     ]
    }
   ],
   "source": [
    "cats_train = train.select_dtypes(include='object').columns\n",
    "cats_test = test.select_dtypes(include='object').columns\n",
    "print('No of train cat_cols : ',len(cats_train))\n",
    "print('No of test cat_cols : ',len(cats_test))"
   ]
  },
  {
   "cell_type": "code",
   "execution_count": 12,
   "metadata": {},
   "outputs": [
    {
     "name": "stdout",
     "output_type": "stream",
     "text": [
      "=============================================\n",
      "MSZoning\n",
      "length of unique :  5\n",
      "RL         1151\n",
      "RM          218\n",
      "FV           65\n",
      "RH           16\n",
      "C (all)      10\n",
      "Name: MSZoning, dtype: int64\n",
      "=============================================\n",
      "Street\n",
      "length of unique :  2\n",
      "Pave    1454\n",
      "Grvl       6\n",
      "Name: Street, dtype: int64\n",
      "=============================================\n",
      "Alley\n",
      "length of unique :  3\n",
      "Grvl    50\n",
      "Pave    41\n",
      "Name: Alley, dtype: int64\n",
      "=============================================\n",
      "LotShape\n",
      "length of unique :  4\n",
      "Reg    925\n",
      "IR1    484\n",
      "IR2     41\n",
      "IR3     10\n",
      "Name: LotShape, dtype: int64\n",
      "=============================================\n",
      "LandContour\n",
      "length of unique :  4\n",
      "Lvl    1311\n",
      "Bnk      63\n",
      "HLS      50\n",
      "Low      36\n",
      "Name: LandContour, dtype: int64\n",
      "=============================================\n",
      "Utilities\n",
      "length of unique :  2\n",
      "AllPub    1459\n",
      "NoSeWa       1\n",
      "Name: Utilities, dtype: int64\n",
      "=============================================\n",
      "LotConfig\n",
      "length of unique :  5\n",
      "Inside     1052\n",
      "Corner      263\n",
      "CulDSac      94\n",
      "FR2          47\n",
      "FR3           4\n",
      "Name: LotConfig, dtype: int64\n",
      "=============================================\n",
      "LandSlope\n",
      "length of unique :  3\n",
      "Gtl    1382\n",
      "Mod      65\n",
      "Sev      13\n",
      "Name: LandSlope, dtype: int64\n",
      "=============================================\n",
      "Neighborhood\n",
      "length of unique :  25\n",
      "NAmes      225\n",
      "CollgCr    150\n",
      "OldTown    113\n",
      "Edwards    100\n",
      "Somerst     86\n",
      "Gilbert     79\n",
      "NridgHt     77\n",
      "Sawyer      74\n",
      "NWAmes      73\n",
      "SawyerW     59\n",
      "BrkSide     58\n",
      "Crawfor     51\n",
      "Mitchel     49\n",
      "NoRidge     41\n",
      "Timber      38\n",
      "IDOTRR      37\n",
      "ClearCr     28\n",
      "StoneBr     25\n",
      "SWISU       25\n",
      "MeadowV     17\n",
      "Blmngtn     17\n",
      "BrDale      16\n",
      "Veenker     11\n",
      "NPkVill      9\n",
      "Blueste      2\n",
      "Name: Neighborhood, dtype: int64\n",
      "=============================================\n",
      "Condition1\n",
      "length of unique :  9\n",
      "Norm      1260\n",
      "Feedr       81\n",
      "Artery      48\n",
      "RRAn        26\n",
      "PosN        19\n",
      "RRAe        11\n",
      "PosA         8\n",
      "RRNn         5\n",
      "RRNe         2\n",
      "Name: Condition1, dtype: int64\n",
      "=============================================\n",
      "Condition2\n",
      "length of unique :  8\n",
      "Norm      1445\n",
      "Feedr        6\n",
      "PosN         2\n",
      "RRNn         2\n",
      "Artery       2\n",
      "PosA         1\n",
      "RRAe         1\n",
      "RRAn         1\n",
      "Name: Condition2, dtype: int64\n",
      "=============================================\n",
      "BldgType\n",
      "length of unique :  5\n",
      "1Fam      1220\n",
      "TwnhsE     114\n",
      "Duplex      52\n",
      "Twnhs       43\n",
      "2fmCon      31\n",
      "Name: BldgType, dtype: int64\n",
      "=============================================\n",
      "HouseStyle\n",
      "length of unique :  8\n",
      "1Story    726\n",
      "2Story    445\n",
      "1.5Fin    154\n",
      "SLvl       65\n",
      "SFoyer     37\n",
      "1.5Unf     14\n",
      "2.5Unf     11\n",
      "2.5Fin      8\n",
      "Name: HouseStyle, dtype: int64\n",
      "=============================================\n",
      "RoofStyle\n",
      "length of unique :  6\n",
      "Gable      1141\n",
      "Hip         286\n",
      "Flat         13\n",
      "Gambrel      11\n",
      "Mansard       7\n",
      "Shed          2\n",
      "Name: RoofStyle, dtype: int64\n",
      "=============================================\n",
      "RoofMatl\n",
      "length of unique :  8\n",
      "CompShg    1434\n",
      "Tar&Grv      11\n",
      "WdShngl       6\n",
      "WdShake       5\n",
      "Metal         1\n",
      "ClyTile       1\n",
      "Roll          1\n",
      "Membran       1\n",
      "Name: RoofMatl, dtype: int64\n",
      "=============================================\n",
      "Exterior1st\n",
      "length of unique :  15\n",
      "VinylSd    515\n",
      "HdBoard    222\n",
      "MetalSd    220\n",
      "Wd Sdng    206\n",
      "Plywood    108\n",
      "CemntBd     61\n",
      "BrkFace     50\n",
      "WdShing     26\n",
      "Stucco      25\n",
      "AsbShng     20\n",
      "Stone        2\n",
      "BrkComm      2\n",
      "CBlock       1\n",
      "ImStucc      1\n",
      "AsphShn      1\n",
      "Name: Exterior1st, dtype: int64\n",
      "=============================================\n",
      "Exterior2nd\n",
      "length of unique :  16\n",
      "VinylSd    504\n",
      "MetalSd    214\n",
      "HdBoard    207\n",
      "Wd Sdng    197\n",
      "Plywood    142\n",
      "CmentBd     60\n",
      "Wd Shng     38\n",
      "Stucco      26\n",
      "BrkFace     25\n",
      "AsbShng     20\n",
      "ImStucc     10\n",
      "Brk Cmn      7\n",
      "Stone        5\n",
      "AsphShn      3\n",
      "Other        1\n",
      "CBlock       1\n",
      "Name: Exterior2nd, dtype: int64\n",
      "=============================================\n",
      "MasVnrType\n",
      "length of unique :  5\n",
      "None       864\n",
      "BrkFace    445\n",
      "Stone      128\n",
      "BrkCmn      15\n",
      "Name: MasVnrType, dtype: int64\n",
      "=============================================\n",
      "ExterQual\n",
      "length of unique :  4\n",
      "TA    906\n",
      "Gd    488\n",
      "Ex     52\n",
      "Fa     14\n",
      "Name: ExterQual, dtype: int64\n",
      "=============================================\n",
      "ExterCond\n",
      "length of unique :  5\n",
      "TA    1282\n",
      "Gd     146\n",
      "Fa      28\n",
      "Ex       3\n",
      "Po       1\n",
      "Name: ExterCond, dtype: int64\n",
      "=============================================\n",
      "Foundation\n",
      "length of unique :  6\n",
      "PConc     647\n",
      "CBlock    634\n",
      "BrkTil    146\n",
      "Slab       24\n",
      "Stone       6\n",
      "Wood        3\n",
      "Name: Foundation, dtype: int64\n",
      "=============================================\n",
      "BsmtQual\n",
      "length of unique :  5\n",
      "TA    649\n",
      "Gd    618\n",
      "Ex    121\n",
      "Fa     35\n",
      "Name: BsmtQual, dtype: int64\n",
      "=============================================\n",
      "BsmtCond\n",
      "length of unique :  5\n",
      "TA    1311\n",
      "Gd      65\n",
      "Fa      45\n",
      "Po       2\n",
      "Name: BsmtCond, dtype: int64\n",
      "=============================================\n",
      "BsmtExposure\n",
      "length of unique :  5\n",
      "No    953\n",
      "Av    221\n",
      "Gd    134\n",
      "Mn    114\n",
      "Name: BsmtExposure, dtype: int64\n",
      "=============================================\n",
      "BsmtFinType1\n",
      "length of unique :  7\n",
      "Unf    430\n",
      "GLQ    418\n",
      "ALQ    220\n",
      "BLQ    148\n",
      "Rec    133\n",
      "LwQ     74\n",
      "Name: BsmtFinType1, dtype: int64\n",
      "=============================================\n",
      "BsmtFinType2\n",
      "length of unique :  7\n",
      "Unf    1256\n",
      "Rec      54\n",
      "LwQ      46\n",
      "BLQ      33\n",
      "ALQ      19\n",
      "GLQ      14\n",
      "Name: BsmtFinType2, dtype: int64\n",
      "=============================================\n",
      "Heating\n",
      "length of unique :  6\n",
      "GasA     1428\n",
      "GasW       18\n",
      "Grav        7\n",
      "Wall        4\n",
      "OthW        2\n",
      "Floor       1\n",
      "Name: Heating, dtype: int64\n",
      "=============================================\n",
      "HeatingQC\n",
      "length of unique :  5\n",
      "Ex    741\n",
      "TA    428\n",
      "Gd    241\n",
      "Fa     49\n",
      "Po      1\n",
      "Name: HeatingQC, dtype: int64\n",
      "=============================================\n",
      "CentralAir\n",
      "length of unique :  2\n",
      "Y    1365\n",
      "N      95\n",
      "Name: CentralAir, dtype: int64\n",
      "=============================================\n",
      "Electrical\n",
      "length of unique :  6\n",
      "SBrkr    1334\n",
      "FuseA      94\n",
      "FuseF      27\n",
      "FuseP       3\n",
      "Mix         1\n",
      "Name: Electrical, dtype: int64\n",
      "=============================================\n",
      "KitchenQual\n",
      "length of unique :  4\n",
      "TA    735\n",
      "Gd    586\n",
      "Ex    100\n",
      "Fa     39\n",
      "Name: KitchenQual, dtype: int64\n",
      "=============================================\n",
      "Functional\n",
      "length of unique :  7\n",
      "Typ     1360\n",
      "Min2      34\n",
      "Min1      31\n",
      "Mod       15\n",
      "Maj1      14\n",
      "Maj2       5\n",
      "Sev        1\n",
      "Name: Functional, dtype: int64\n",
      "=============================================\n",
      "FireplaceQu\n",
      "length of unique :  6\n",
      "Gd    380\n",
      "TA    313\n",
      "Fa     33\n",
      "Ex     24\n",
      "Po     20\n",
      "Name: FireplaceQu, dtype: int64\n",
      "=============================================\n",
      "GarageType\n",
      "length of unique :  7\n",
      "Attchd     870\n",
      "Detchd     387\n",
      "BuiltIn     88\n",
      "Basment     19\n",
      "CarPort      9\n",
      "2Types       6\n",
      "Name: GarageType, dtype: int64\n",
      "=============================================\n",
      "GarageFinish\n",
      "length of unique :  4\n",
      "Unf    605\n",
      "RFn    422\n",
      "Fin    352\n",
      "Name: GarageFinish, dtype: int64\n",
      "=============================================\n",
      "GarageQual\n",
      "length of unique :  6\n",
      "TA    1311\n",
      "Fa      48\n",
      "Gd      14\n",
      "Ex       3\n",
      "Po       3\n",
      "Name: GarageQual, dtype: int64\n",
      "=============================================\n",
      "GarageCond\n",
      "length of unique :  6\n",
      "TA    1326\n",
      "Fa      35\n",
      "Gd       9\n",
      "Po       7\n",
      "Ex       2\n",
      "Name: GarageCond, dtype: int64\n",
      "=============================================\n",
      "PavedDrive\n",
      "length of unique :  3\n",
      "Y    1340\n",
      "N      90\n",
      "P      30\n",
      "Name: PavedDrive, dtype: int64\n",
      "=============================================\n",
      "PoolQC\n",
      "length of unique :  4\n",
      "Gd    3\n",
      "Ex    2\n",
      "Fa    2\n",
      "Name: PoolQC, dtype: int64\n",
      "=============================================\n",
      "Fence\n",
      "length of unique :  5\n",
      "MnPrv    157\n",
      "GdPrv     59\n",
      "GdWo      54\n",
      "MnWw      11\n",
      "Name: Fence, dtype: int64\n",
      "=============================================\n",
      "MiscFeature\n",
      "length of unique :  5\n",
      "Shed    49\n",
      "Othr     2\n",
      "Gar2     2\n",
      "TenC     1\n",
      "Name: MiscFeature, dtype: int64\n",
      "=============================================\n",
      "SaleType\n",
      "length of unique :  9\n",
      "WD       1267\n",
      "New       122\n",
      "COD        43\n",
      "ConLD       9\n",
      "ConLI       5\n",
      "ConLw       5\n",
      "CWD         4\n",
      "Oth         3\n",
      "Con         2\n",
      "Name: SaleType, dtype: int64\n",
      "=============================================\n",
      "SaleCondition\n",
      "length of unique :  6\n",
      "Normal     1198\n",
      "Partial     125\n",
      "Abnorml     101\n",
      "Family       20\n",
      "Alloca       12\n",
      "AdjLand       4\n",
      "Name: SaleCondition, dtype: int64\n"
     ]
    }
   ],
   "source": [
    "for col in cats_train:\n",
    "    print('=============================================')\n",
    "    print(col)\n",
    "    print('length of unique : ',len(train[col].unique()))\n",
    "    print(train[col].value_counts())"
   ]
  },
  {
   "cell_type": "code",
   "execution_count": 98,
   "metadata": {},
   "outputs": [],
   "source": [
    "def check_subset(train,test,column_list):\n",
    "    false_list=[]\n",
    "    for col in column_list:\n",
    "        boolean = set(test[col].unique()).issubset(set(train[col].unique()))\n",
    "        if boolean== False:\n",
    "            print(\"column : \",col)\n",
    "            print(\"test is a subset: \",boolean)\n",
    "            print(\"====================\")\n",
    "            false_list.append(col)\n",
    "    return false_list"
   ]
  },
  {
   "cell_type": "code",
   "execution_count": 99,
   "metadata": {},
   "outputs": [
    {
     "name": "stdout",
     "output_type": "stream",
     "text": [
      "column :  MSZoning\n",
      "test is a subset:  False\n",
      "====================\n",
      "column :  Utilities\n",
      "test is a subset:  False\n",
      "====================\n",
      "column :  Exterior1st\n",
      "test is a subset:  False\n",
      "====================\n",
      "column :  Exterior2nd\n",
      "test is a subset:  False\n",
      "====================\n",
      "column :  KitchenQual\n",
      "test is a subset:  False\n",
      "====================\n",
      "column :  Functional\n",
      "test is a subset:  False\n",
      "====================\n",
      "column :  SaleType\n",
      "test is a subset:  False\n",
      "====================\n"
     ]
    },
    {
     "data": {
      "text/plain": [
       "['MSZoning',\n",
       " 'Utilities',\n",
       " 'Exterior1st',\n",
       " 'Exterior2nd',\n",
       " 'KitchenQual',\n",
       " 'Functional',\n",
       " 'SaleType']"
      ]
     },
     "execution_count": 99,
     "metadata": {},
     "output_type": "execute_result"
    }
   ],
   "source": [
    "check_subset(train,test,cats_train)"
   ]
  },
  {
   "cell_type": "code",
   "execution_count": 22,
   "metadata": {
    "scrolled": true
   },
   "outputs": [
    {
     "name": "stdout",
     "output_type": "stream",
     "text": [
      "No of train nums_cols :  38\n",
      "No of test nums_cols :  37\n"
     ]
    }
   ],
   "source": [
    "nums_train = train.select_dtypes(exclude='object').columns\n",
    "nums_test = test.select_dtypes(exclude='object').columns\n",
    "print('No of train nums_cols : ',len(nums_train))\n",
    "print('No of test nums_cols : ',len(nums_test))"
   ]
  },
  {
   "cell_type": "code",
   "execution_count": 23,
   "metadata": {},
   "outputs": [],
   "source": [
    "target = train.SalePrice"
   ]
  },
  {
   "cell_type": "code",
   "execution_count": 26,
   "metadata": {},
   "outputs": [
    {
     "data": {
      "text/plain": [
       "<matplotlib.axes._subplots.AxesSubplot at 0x1c51e4be460>"
      ]
     },
     "execution_count": 26,
     "metadata": {},
     "output_type": "execute_result"
    },
    {
     "data": {
      "image/png": "[encoded data removed]",
      "text/plain": [
       "<Figure size 432x288 with 1 Axes>"
      ]
     },
     "metadata": {
      "needs_background": "light"
     },
     "output_type": "display_data"
    }
   ],
   "source": [
    "sns.distplot(target,kde=True)"
   ]
  },
  {
   "cell_type": "markdown",
   "metadata": {},
   "source": [
    "## merging of train and test"
   ]
  },
  {
   "cell_type": "code",
   "execution_count": 27,
   "metadata": {},
   "outputs": [],
   "source": [
    "merged = pd.concat([train,test],axis=0)"
   ]
  },
  {
   "cell_type": "code",
   "execution_count": 28,
   "metadata": {
    "scrolled": true
   },
   "outputs": [
    {
     "data": {
      "text/html": [
       "<div>\n",
       "<style scoped>\n",
       "    .dataframe tbody tr th:only-of-type {\n",
       "        vertical-align: middle;\n",
       "    }\n",
       "\n",
       "    .dataframe tbody tr th {\n",
       "        vertical-align: top;\n",
       "    }\n",
       "\n",
       "    .dataframe thead th {\n",
       "        text-align: right;\n",
       "    }\n",
       "</style>\n",
       "<table border=\"1\" class=\"dataframe\">\n",
       "  <thead>\n",
       "    <tr style=\"text-align: right;\">\n",
       "      <th></th>\n",
       "      <th>Id</th>\n",
       "      <th>MSSubClass</th>\n",
       "      <th>MSZoning</th>\n",
       "      <th>LotFrontage</th>\n",
       "      <th>LotArea</th>\n",
       "      <th>Street</th>\n",
       "      <th>Alley</th>\n",
       "      <th>LotShape</th>\n",
       "      <th>LandContour</th>\n",
       "      <th>Utilities</th>\n",
       "      <th>...</th>\n",
       "      <th>PoolArea</th>\n",
       "      <th>PoolQC</th>\n",
       "      <th>Fence</th>\n",
       "      <th>MiscFeature</th>\n",
       "      <th>MiscVal</th>\n",
       "      <th>MoSold</th>\n",
       "      <th>YrSold</th>\n",
       "      <th>SaleType</th>\n",
       "      <th>SaleCondition</th>\n",
       "      <th>SalePrice</th>\n",
       "    </tr>\n",
       "  </thead>\n",
       "  <tbody>\n",
       "    <tr>\n",
       "      <th>0</th>\n",
       "      <td>1</td>\n",
       "      <td>60</td>\n",
       "      <td>RL</td>\n",
       "      <td>65.0</td>\n",
       "      <td>8450</td>\n",
       "      <td>Pave</td>\n",
       "      <td>NaN</td>\n",
       "      <td>Reg</td>\n",
       "      <td>Lvl</td>\n",
       "      <td>AllPub</td>\n",
       "      <td>...</td>\n",
       "      <td>0</td>\n",
       "      <td>NaN</td>\n",
       "      <td>NaN</td>\n",
       "      <td>NaN</td>\n",
       "      <td>0</td>\n",
       "      <td>2</td>\n",
       "      <td>2008</td>\n",
       "      <td>WD</td>\n",
       "      <td>Normal</td>\n",
       "      <td>208500.0</td>\n",
       "    </tr>\n",
       "    <tr>\n",
       "      <th>1</th>\n",
       "      <td>2</td>\n",
       "      <td>20</td>\n",
       "      <td>RL</td>\n",
       "      <td>80.0</td>\n",
       "      <td>9600</td>\n",
       "      <td>Pave</td>\n",
       "      <td>NaN</td>\n",
       "      <td>Reg</td>\n",
       "      <td>Lvl</td>\n",
       "      <td>AllPub</td>\n",
       "      <td>...</td>\n",
       "      <td>0</td>\n",
       "      <td>NaN</td>\n",
       "      <td>NaN</td>\n",
       "      <td>NaN</td>\n",
       "      <td>0</td>\n",
       "      <td>5</td>\n",
       "      <td>2007</td>\n",
       "      <td>WD</td>\n",
       "      <td>Normal</td>\n",
       "      <td>181500.0</td>\n",
       "    </tr>\n",
       "    <tr>\n",
       "      <th>2</th>\n",
       "      <td>3</td>\n",
       "      <td>60</td>\n",
       "      <td>RL</td>\n",
       "      <td>68.0</td>\n",
       "      <td>11250</td>\n",
       "      <td>Pave</td>\n",
       "      <td>NaN</td>\n",
       "      <td>IR1</td>\n",
       "      <td>Lvl</td>\n",
       "      <td>AllPub</td>\n",
       "      <td>...</td>\n",
       "      <td>0</td>\n",
       "      <td>NaN</td>\n",
       "      <td>NaN</td>\n",
       "      <td>NaN</td>\n",
       "      <td>0</td>\n",
       "      <td>9</td>\n",
       "      <td>2008</td>\n",
       "      <td>WD</td>\n",
       "      <td>Normal</td>\n",
       "      <td>223500.0</td>\n",
       "    </tr>\n",
       "    <tr>\n",
       "      <th>3</th>\n",
       "      <td>4</td>\n",
       "      <td>70</td>\n",
       "      <td>RL</td>\n",
       "      <td>60.0</td>\n",
       "      <td>9550</td>\n",
       "      <td>Pave</td>\n",
       "      <td>NaN</td>\n",
       "      <td>IR1</td>\n",
       "      <td>Lvl</td>\n",
       "      <td>AllPub</td>\n",
       "      <td>...</td>\n",
       "      <td>0</td>\n",
       "      <td>NaN</td>\n",
       "      <td>NaN</td>\n",
       "      <td>NaN</td>\n",
       "      <td>0</td>\n",
       "      <td>2</td>\n",
       "      <td>2006</td>\n",
       "      <td>WD</td>\n",
       "      <td>Abnorml</td>\n",
       "      <td>140000.0</td>\n",
       "    </tr>\n",
       "    <tr>\n",
       "      <th>4</th>\n",
       "      <td>5</td>\n",
       "      <td>60</td>\n",
       "      <td>RL</td>\n",
       "      <td>84.0</td>\n",
       "      <td>14260</td>\n",
       "      <td>Pave</td>\n",
       "      <td>NaN</td>\n",
       "      <td>IR1</td>\n",
       "      <td>Lvl</td>\n",
       "      <td>AllPub</td>\n",
       "      <td>...</td>\n",
       "      <td>0</td>\n",
       "      <td>NaN</td>\n",
       "      <td>NaN</td>\n",
       "      <td>NaN</td>\n",
       "      <td>0</td>\n",
       "      <td>12</td>\n",
       "      <td>2008</td>\n",
       "      <td>WD</td>\n",
       "      <td>Normal</td>\n",
       "      <td>250000.0</td>\n",
       "    </tr>\n",
       "  </tbody>\n",
       "</table>\n",
       "<p>5 rows × 81 columns</p>\n",
       "</div>"
      ],
      "text/plain": [
       "   Id  MSSubClass MSZoning  LotFrontage  LotArea Street Alley LotShape  \\\n",
       "0   1          60       RL         65.0     8450   Pave   NaN      Reg   \n",
       "1   2          20       RL         80.0     9600   Pave   NaN      Reg   \n",
       "2   3          60       RL         68.0    11250   Pave   NaN      IR1   \n",
       "3   4          70       RL         60.0     9550   Pave   NaN      IR1   \n",
       "4   5          60       RL         84.0    14260   Pave   NaN      IR1   \n",
       "\n",
       "  LandContour Utilities  ... PoolArea PoolQC Fence MiscFeature MiscVal MoSold  \\\n",
       "0         Lvl    AllPub  ...        0    NaN   NaN         NaN       0      2   \n",
       "1         Lvl    AllPub  ...        0    NaN   NaN         NaN       0      5   \n",
       "2         Lvl    AllPub  ...        0    NaN   NaN         NaN       0      9   \n",
       "3         Lvl    AllPub  ...        0    NaN   NaN         NaN       0      2   \n",
       "4         Lvl    AllPub  ...        0    NaN   NaN         NaN       0     12   \n",
       "\n",
       "  YrSold  SaleType  SaleCondition  SalePrice  \n",
       "0   2008        WD         Normal   208500.0  \n",
       "1   2007        WD         Normal   181500.0  \n",
       "2   2008        WD         Normal   223500.0  \n",
       "3   2006        WD        Abnorml   140000.0  \n",
       "4   2008        WD         Normal   250000.0  \n",
       "\n",
       "[5 rows x 81 columns]"
      ]
     },
     "execution_count": 28,
     "metadata": {},
     "output_type": "execute_result"
    }
   ],
   "source": [
    "merged.head()"
   ]
  },
  {
   "cell_type": "code",
   "execution_count": 40,
   "metadata": {
    "scrolled": true
   },
   "outputs": [
    {
     "data": {
      "text/plain": [
       "<matplotlib.axes._subplots.AxesSubplot at 0x1c51efd6ca0>"
      ]
     },
     "execution_count": 40,
     "metadata": {},
     "output_type": "execute_result"
    },
    {
     "data": {
      "image/png": "[encoded data removed]",
      "text/plain": [
       "<Figure size 432x288 with 1 Axes>"
      ]
     },
     "metadata": {
      "needs_background": "light"
     },
     "output_type": "display_data"
    }
   ],
   "source": [
    "merged.MiscVal.plot(kind='kde')"
   ]
  },
  {
   "cell_type": "code",
   "execution_count": 39,
   "metadata": {},
   "outputs": [
    {
     "data": {
      "text/plain": [
       "<matplotlib.axes._subplots.AxesSubplot at 0x1c51ddd2190>"
      ]
     },
     "execution_count": 39,
     "metadata": {},
     "output_type": "execute_result"
    },
    {
     "data": {
      "image/png": "[encoded data removed]",
      "text/plain": [
       "<Figure size 432x288 with 2 Axes>"
      ]
     },
     "metadata": {
      "needs_background": "light"
     },
     "output_type": "display_data"
    }
   ],
   "source": [
    "sns.heatmap(train[['MiscFeature','MiscVal','SalePrice']].corr(),annot=True)"
   ]
  },
  {
   "cell_type": "code",
   "execution_count": 41,
   "metadata": {},
   "outputs": [],
   "source": [
    "# drpped ['PoolQC','Fence', 'MiscFeature','MiscVal']\n",
    "drop1= ['PoolQC','Fence', 'MiscFeature','MiscVal']\n",
    "m1 = merged.drop(drop1,axis=1)"
   ]
  },
  {
   "cell_type": "code",
   "execution_count": 47,
   "metadata": {},
   "outputs": [],
   "source": [
    "correlation = train[nums_train].corr()"
   ]
  },
  {
   "cell_type": "code",
   "execution_count": 49,
   "metadata": {
    "scrolled": true
   },
   "outputs": [
    {
     "data": {
      "text/plain": [
       "Id              -0.021917\n",
       "MSSubClass      -0.084284\n",
       "LotFrontage      0.351799\n",
       "LotArea          0.263843\n",
       "OverallQual      0.790982\n",
       "OverallCond     -0.077856\n",
       "YearBuilt        0.522897\n",
       "YearRemodAdd     0.507101\n",
       "MasVnrArea       0.477493\n",
       "BsmtFinSF1       0.386420\n",
       "BsmtFinSF2      -0.011378\n",
       "BsmtUnfSF        0.214479\n",
       "TotalBsmtSF      0.613581\n",
       "1stFlrSF         0.605852\n",
       "2ndFlrSF         0.319334\n",
       "LowQualFinSF    -0.025606\n",
       "GrLivArea        0.708624\n",
       "BsmtFullBath     0.227122\n",
       "BsmtHalfBath    -0.016844\n",
       "FullBath         0.560664\n",
       "HalfBath         0.284108\n",
       "BedroomAbvGr     0.168213\n",
       "KitchenAbvGr    -0.135907\n",
       "TotRmsAbvGrd     0.533723\n",
       "Fireplaces       0.466929\n",
       "GarageYrBlt      0.486362\n",
       "GarageCars       0.640409\n",
       "GarageArea       0.623431\n",
       "WoodDeckSF       0.324413\n",
       "OpenPorchSF      0.315856\n",
       "EnclosedPorch   -0.128578\n",
       "3SsnPorch        0.044584\n",
       "ScreenPorch      0.111447\n",
       "PoolArea         0.092404\n",
       "MiscVal         -0.021190\n",
       "MoSold           0.046432\n",
       "YrSold          -0.028923\n",
       "SalePrice        1.000000\n",
       "Name: SalePrice, dtype: float64"
      ]
     },
     "execution_count": 49,
     "metadata": {},
     "output_type": "execute_result"
    }
   ],
   "source": [
    "correlation.SalePrice"
   ]
  },
  {
   "cell_type": "code",
   "execution_count": 51,
   "metadata": {
    "scrolled": true
   },
   "outputs": [
    {
     "data": {
      "text/plain": [
       "<matplotlib.axes._subplots.AxesSubplot at 0x1c52522f940>"
      ]
     },
     "execution_count": 51,
     "metadata": {},
     "output_type": "execute_result"
    },
    {
     "data": {
      "image/png": "[encoded data removed]",
      "text/plain": [
       "<Figure size 432x288 with 1 Axes>"
      ]
     },
     "metadata": {
      "needs_background": "light"
     },
     "output_type": "display_data"
    }
   ],
   "source": [
    "merged.MSSubClass.plot(kind='box')"
   ]
  },
  {
   "cell_type": "code",
   "execution_count": 77,
   "metadata": {},
   "outputs": [],
   "source": [
    "# lets do Chi \n",
    "from feature_selection import *"
   ]
  },
  {
   "cell_type": "code",
   "execution_count": 57,
   "metadata": {
    "scrolled": false
   },
   "outputs": [
    {
     "name": "stdout",
     "output_type": "stream",
     "text": [
      "Help on function feature_SelectKBest in module feature_selection:\n",
      "\n",
      "feature_SelectKBest(X_train, y_train, score_func=<function chi2 at 0x000001C524FDA9D0>, k=5)\n",
      "    params : X_train = Pandas dataframe of X\n",
      "            y_train = Pandas dataframe of y\n",
      "            \n",
      "            score_func = Scores use for the univariate feature selection (chi2, f_classif,SelectFpr) \n",
      "                        default = chi2, \n",
      "            k= Number of features to be selected\n",
      "                default = 5\n",
      "    return :5best features\n",
      "\n"
     ]
    }
   ],
   "source": [
    "help(feature_SelectKBest)"
   ]
  },
  {
   "cell_type": "code",
   "execution_count": 58,
   "metadata": {},
   "outputs": [],
   "source": [
    "target= train.SalePrice"
   ]
  },
  {
   "cell_type": "code",
   "execution_count": 61,
   "metadata": {
    "collapsed": true
   },
   "outputs": [
    {
     "data": {
      "text/plain": [
       "Id                 0\n",
       "MSSubClass         0\n",
       "LotFrontage      259\n",
       "LotArea            0\n",
       "OverallQual        0\n",
       "OverallCond        0\n",
       "YearBuilt          0\n",
       "YearRemodAdd       0\n",
       "MasVnrArea         8\n",
       "BsmtFinSF1         0\n",
       "BsmtFinSF2         0\n",
       "BsmtUnfSF          0\n",
       "TotalBsmtSF        0\n",
       "1stFlrSF           0\n",
       "2ndFlrSF           0\n",
       "LowQualFinSF       0\n",
       "GrLivArea          0\n",
       "BsmtFullBath       0\n",
       "BsmtHalfBath       0\n",
       "FullBath           0\n",
       "HalfBath           0\n",
       "BedroomAbvGr       0\n",
       "KitchenAbvGr       0\n",
       "TotRmsAbvGrd       0\n",
       "Fireplaces         0\n",
       "GarageYrBlt       81\n",
       "GarageCars         0\n",
       "GarageArea         0\n",
       "WoodDeckSF         0\n",
       "OpenPorchSF        0\n",
       "EnclosedPorch      0\n",
       "3SsnPorch          0\n",
       "ScreenPorch        0\n",
       "PoolArea           0\n",
       "MiscVal            0\n",
       "MoSold             0\n",
       "YrSold             0\n",
       "dtype: int64"
      ]
     },
     "execution_count": 61,
     "metadata": {},
     "output_type": "execute_result"
    }
   ],
   "source": [
    "train[nums_test].isna().sum()"
   ]
  },
  {
   "cell_type": "code",
   "execution_count": 105,
   "metadata": {
    "scrolled": false
   },
   "outputs": [
    {
     "data": {
      "text/plain": [
       "Index(['MasVnrArea', 'SalePrice', 'OverallQual', 'GrLivArea', 'GarageArea',\n",
       "       'GarageCars', 'TotalBsmtSF', '1stFlrSF', 'YearBuilt', 'TotRmsAbvGrd',\n",
       "       'FullBath', 'BsmtFinSF1', 'GarageYrBlt', 'Fireplaces', 'HalfBath',\n",
       "       'LotFrontage', 'YearRemodAdd', '2ndFlrSF', 'WoodDeckSF', 'OpenPorchSF',\n",
       "       'BsmtUnfSF', 'LotArea', 'BedroomAbvGr', 'BsmtFullBath', 'ScreenPorch',\n",
       "       'BsmtHalfBath', 'MSSubClass', '3SsnPorch', 'PoolArea', 'MoSold',\n",
       "       'YrSold', 'MiscVal', 'KitchenAbvGr', 'Id', 'LowQualFinSF', 'BsmtFinSF2',\n",
       "       'EnclosedPorch', 'OverallCond'],\n",
       "      dtype='object')"
      ]
     },
     "execution_count": 105,
     "metadata": {},
     "output_type": "execute_result"
    }
   ],
   "source": [
    "correlation.MasVnrArea.sort_values(ascending=False).index"
   ]
  },
  {
   "cell_type": "code",
   "execution_count": null,
   "metadata": {},
   "outputs": [],
   "source": [
    "MVA_col=['MasVnrArea', 'SalePrice', 'OverallQual', 'GrLivArea', 'GarageArea',\n",
    "       'GarageCars', 'TotalBsmtSF']"
   ]
  },
  {
   "cell_type": "code",
   "execution_count": 106,
   "metadata": {
    "scrolled": true
   },
   "outputs": [
    {
     "data": {
      "text/plain": [
       "Index(['LotFrontage', '1stFlrSF', 'LotArea', 'GrLivArea', 'TotalBsmtSF',\n",
       "       'TotRmsAbvGrd', 'SalePrice', 'GarageArea', 'GarageCars', 'Fireplaces',\n",
       "       'BedroomAbvGr', 'OverallQual', 'BsmtFinSF1', 'PoolArea', 'FullBath',\n",
       "       'MasVnrArea', 'OpenPorchSF', 'BsmtUnfSF', 'YearBuilt', 'BsmtFullBath',\n",
       "       'YearRemodAdd', 'WoodDeckSF', '2ndFlrSF', 'GarageYrBlt', '3SsnPorch',\n",
       "       'HalfBath', 'BsmtFinSF2', 'ScreenPorch', 'LowQualFinSF', 'MoSold',\n",
       "       'EnclosedPorch', 'YrSold', 'MiscVal', 'KitchenAbvGr', 'BsmtHalfBath',\n",
       "       'Id', 'OverallCond', 'MSSubClass'],\n",
       "      dtype='object')"
      ]
     },
     "execution_count": 106,
     "metadata": {},
     "output_type": "execute_result"
    }
   ],
   "source": [
    "correlation.LotFrontage.sort_values(ascending=False).index"
   ]
  },
  {
   "cell_type": "code",
   "execution_count": 108,
   "metadata": {
    "scrolled": true
   },
   "outputs": [
    {
     "data": {
      "text/plain": [
       "Index(['GarageYrBlt', 'YearBuilt', 'YearRemodAdd', 'GarageCars', 'GarageArea',\n",
       "       'OverallQual', 'SalePrice', 'FullBath', 'TotalBsmtSF', 'MasVnrArea',\n",
       "       '1stFlrSF', 'GrLivArea', 'OpenPorchSF', 'WoodDeckSF', 'HalfBath',\n",
       "       'BsmtUnfSF', 'BsmtFinSF1', 'TotRmsAbvGrd', 'BsmtFullBath', 'MSSubClass',\n",
       "       '2ndFlrSF', 'LotFrontage', 'Fireplaces', '3SsnPorch', 'MoSold', 'Id',\n",
       "       'YrSold', 'PoolArea', 'LotArea', 'MiscVal', 'LowQualFinSF',\n",
       "       'BedroomAbvGr', 'ScreenPorch', 'BsmtHalfBath', 'BsmtFinSF2',\n",
       "       'KitchenAbvGr', 'EnclosedPorch', 'OverallCond'],\n",
       "      dtype='object')"
      ]
     },
     "execution_count": 108,
     "metadata": {},
     "output_type": "execute_result"
    }
   ],
   "source": [
    "correlation.GarageYrBlt.sort_values(ascending=False).index"
   ]
  },
  {
   "cell_type": "markdown",
   "metadata": {},
   "source": [
    "## try and build a small model to predict the Nan values of GarageYrBlt ,  LotFrontage,and MasVnrArea"
   ]
  },
  {
   "cell_type": "code",
   "execution_count": 68,
   "metadata": {},
   "outputs": [],
   "source": [
    "# imma drop train.GarageYrBlt since its highly correlated to 'GarageFinish', 'GarageCars', 'GarageArea',and YearBuilt\n",
    "num_d_GarageYrBl = nums_test.drop(['GarageYrBlt','LotFrontage','MasVnrArea'])"
   ]
  },
  {
   "cell_type": "markdown",
   "metadata": {},
   "source": [
    "### review feature_SelectKBest(X_train=train[num_d_GarageYrBl], y_train=target, score_func=chi2 , k=10)\n",
    "error : NameError: name 'pd' is not defined"
   ]
  },
  {
   "cell_type": "code",
   "execution_count": null,
   "metadata": {},
   "outputs": [],
   "source": [
    "from sklearn.feature_selection import SelectKBest,chi2, f_classif,SelectFpr ,mutual_info_regression"
   ]
  },
  {
   "cell_type": "code",
   "execution_count": 89,
   "metadata": {},
   "outputs": [],
   "source": [
    "def feature_SelectKBest(X_train,y_train,score_func = chi2, k=5):\n",
    "    \"\"\"\n",
    "    params : X_train = Pandas dataframe of X\n",
    "            y_train = Pandas dataframe of y\n",
    "            \n",
    "            score_func = Scores use for the univariate feature selection (chi2, f_classif,SelectFpr) \n",
    "                        default = chi2, \n",
    "            k= Number of features to be selected\n",
    "                default = 5\n",
    "    return :5best features\n",
    "    \"\"\"\n",
    "    #from sklearn.feature_selection import SelectKBest,chi2, f_classif,SelectFpr\n",
    "\n",
    "    import pandas as pd\n",
    "    \n",
    "    bestfeatures = SelectKBest(score_func= score_func, k=k)\n",
    "    fit = bestfeatures.fit(X_train,y_train)\n",
    "\n",
    "    dfscores = pd.DataFrame(fit.scores_)\n",
    "\n",
    "    dfcolumns = pd.DataFrame(X_train.columns)\n",
    "\n",
    "    #concat two dataframes for better visualization\n",
    "    featureScores = pd.concat([dfcolumns,dfscores],axis=1)\n",
    "    featureScores.columns = ['Features','Score'] #naming the dataframe columns\n",
    "\n",
    "    print(featureScores.nlargest(k,'Score'))#print 5best features\n",
    "    return(featureScores.nlargest(k,'Score'))#return 5best features"
   ]
  },
  {
   "cell_type": "code",
   "execution_count": 81,
   "metadata": {},
   "outputs": [],
   "source": [
    "def feature_Boruta(X_train_df,X_train_values, y_train_values,classifier):\n",
    "    \"\"\"\n",
    "    params :- X_train_df = Pandas dataframe of X values\n",
    "           :- X_train_values = numpy array of X values\n",
    "           :- y_train_values = numpy array of y values\n",
    "           :- classifier = Classifier to run  the test on i.e\n",
    "                           #from sklearn.ensemble import RandomForestClassifier\n",
    "                            #rf = RandomForestClassifier(n_jobs=-1, class_weight='balanced', max_depth=5)\n",
    "                            \n",
    "    NOTE: \n",
    "        ->BorutaPy accepts numpy arrays only,\n",
    "        ----> if X_train and y_train #are pandas dataframes, \n",
    "        ---->then add .values attribute X_train.values in #that case\n",
    "                X_train = X_train.values\n",
    "                y_train = y_train.values\n",
    "        ----->works with only Xgboots,randomforrest and extratrees\n",
    "\n",
    "    return : new X_train now with selected features         \n",
    "             \n",
    "    \"\"\"\n",
    "    from boruta import BorutaPy\n",
    "    #sampling in proportion to y labels\n",
    "    \n",
    "    #define Boruta feature selection method\n",
    "    feat_selector = BorutaPy(classifier, n_estimators='auto', verbose=2, random_state=1)\n",
    "\n",
    "    #find all relevant features - 5 features should be selected\n",
    "    feat_selector.fit(X_train_values, y_train_values)\n",
    "\n",
    "    #check selected features - first 5 features are selected\n",
    "    feat_selector.support_\n",
    "\n",
    "    #check ranking of features\n",
    "    feat_selector.ranking_\n",
    "\n",
    "    #call transform() on X to filter it down to selected features\n",
    "    X_filtered = feat_selector.transform(X_train_values)\n",
    "\n",
    "    #To get the new X_train now with selected features\n",
    "    return X_train_df.columns[feat_selector.support_]"
   ]
  },
  {
   "cell_type": "code",
   "execution_count": 90,
   "metadata": {
    "scrolled": false
   },
   "outputs": [
    {
     "name": "stdout",
     "output_type": "stream",
     "text": [
      "        Features         Score\n",
      "2        LotArea  1.011497e+07\n",
      "31       MiscVal  6.253332e+06\n",
      "12      2ndFlrSF  4.648841e+05\n",
      "7     BsmtFinSF1  3.999851e+05\n",
      "30      PoolArea  3.835642e+05\n",
      "8     BsmtFinSF2  3.688827e+05\n",
      "9      BsmtUnfSF  2.747512e+05\n",
      "13  LowQualFinSF  2.448810e+05\n",
      "14     GrLivArea  1.968501e+05\n",
      "10   TotalBsmtSF  1.747065e+05\n"
     ]
    }
   ],
   "source": [
    "chi =feature_SelectKBest(X_train=train[num_d_GarageYrBl], y_train=target, score_func=chi2 , k=10)"
   ]
  },
  {
   "cell_type": "code",
   "execution_count": 91,
   "metadata": {},
   "outputs": [
    {
     "data": {
      "text/plain": [
       "pandas.core.frame.DataFrame"
      ]
     },
     "execution_count": 91,
     "metadata": {},
     "output_type": "execute_result"
    }
   ],
   "source": [
    "type(chi)"
   ]
  },
  {
   "cell_type": "code",
   "execution_count": 82,
   "metadata": {},
   "outputs": [],
   "source": [
    "from sklearn.model_selection import KFold,StratifiedKFold, train_test_split,GridSearchCV\n",
    "from sklearn.ensemble import RandomForestRegressor ,ExtraTreesRegressor   \n",
    "#from sklearn.impute import SimpleImputer, KNNImputer\n",
    "from sklearn.metrics import  mean_absolute_error,r2_score,mean_squared_error    #confusion_matrix, classification_report, accuracy_score, f1_score, roc_auc_score\n",
    "from sklearn.preprocessing import MinMaxScaler,StandardScaler\n",
    "from sklearn.pipeline import Pipeline"
   ]
  },
  {
   "cell_type": "markdown",
   "metadata": {},
   "source": [
    "## base models"
   ]
  },
  {
   "cell_type": "code",
   "execution_count": 83,
   "metadata": {},
   "outputs": [],
   "source": [
    "from sklearn.linear_model import Lasso,LinearRegression\n",
    "las_R = Lasso()\n",
    "L_R = LinearRegression()\n",
    "rf = RandomForestRegressor(n_estimators=200)\n",
    "et= ExtraTreesRegressor(n_estimators=200)\n",
    "from sklearn.tree import DecisionTreeRegressor\n",
    "D_R = DecisionTreeRegressor()"
   ]
  },
  {
   "cell_type": "code",
   "execution_count": 84,
   "metadata": {},
   "outputs": [
    {
     "name": "stdout",
     "output_type": "stream",
     "text": [
      "Iteration: \t1 / 100\n",
      "Confirmed: \t0\n",
      "Tentative: \t34\n",
      "Rejected: \t0\n",
      "Iteration: \t2 / 100\n",
      "Confirmed: \t0\n",
      "Tentative: \t34\n",
      "Rejected: \t0\n",
      "Iteration: \t3 / 100\n",
      "Confirmed: \t0\n",
      "Tentative: \t34\n",
      "Rejected: \t0\n",
      "Iteration: \t4 / 100\n",
      "Confirmed: \t0\n",
      "Tentative: \t34\n",
      "Rejected: \t0\n",
      "Iteration: \t5 / 100\n",
      "Confirmed: \t0\n",
      "Tentative: \t34\n",
      "Rejected: \t0\n",
      "Iteration: \t6 / 100\n",
      "Confirmed: \t0\n",
      "Tentative: \t34\n",
      "Rejected: \t0\n",
      "Iteration: \t7 / 100\n",
      "Confirmed: \t0\n",
      "Tentative: \t34\n",
      "Rejected: \t0\n",
      "Iteration: \t8 / 100\n",
      "Confirmed: \t12\n",
      "Tentative: \t7\n",
      "Rejected: \t15\n",
      "Iteration: \t9 / 100\n",
      "Confirmed: \t12\n",
      "Tentative: \t7\n",
      "Rejected: \t15\n",
      "Iteration: \t10 / 100\n",
      "Confirmed: \t12\n",
      "Tentative: \t7\n",
      "Rejected: \t15\n",
      "Iteration: \t11 / 100\n",
      "Confirmed: \t12\n",
      "Tentative: \t7\n",
      "Rejected: \t15\n",
      "Iteration: \t12 / 100\n",
      "Confirmed: \t12\n",
      "Tentative: \t7\n",
      "Rejected: \t15\n",
      "Iteration: \t13 / 100\n",
      "Confirmed: \t12\n",
      "Tentative: \t6\n",
      "Rejected: \t16\n",
      "Iteration: \t14 / 100\n",
      "Confirmed: \t12\n",
      "Tentative: \t6\n",
      "Rejected: \t16\n",
      "Iteration: \t15 / 100\n",
      "Confirmed: \t12\n",
      "Tentative: \t6\n",
      "Rejected: \t16\n",
      "Iteration: \t16 / 100\n",
      "Confirmed: \t12\n",
      "Tentative: \t6\n",
      "Rejected: \t16\n",
      "Iteration: \t17 / 100\n",
      "Confirmed: \t12\n",
      "Tentative: \t6\n",
      "Rejected: \t16\n",
      "Iteration: \t18 / 100\n",
      "Confirmed: \t12\n",
      "Tentative: \t6\n",
      "Rejected: \t16\n",
      "Iteration: \t19 / 100\n",
      "Confirmed: \t12\n",
      "Tentative: \t5\n",
      "Rejected: \t17\n",
      "Iteration: \t20 / 100\n",
      "Confirmed: \t12\n",
      "Tentative: \t5\n",
      "Rejected: \t17\n",
      "Iteration: \t21 / 100\n",
      "Confirmed: \t12\n",
      "Tentative: \t5\n",
      "Rejected: \t17\n",
      "Iteration: \t22 / 100\n",
      "Confirmed: \t12\n",
      "Tentative: \t5\n",
      "Rejected: \t17\n",
      "Iteration: \t23 / 100\n",
      "Confirmed: \t12\n",
      "Tentative: \t5\n",
      "Rejected: \t17\n",
      "Iteration: \t24 / 100\n",
      "Confirmed: \t12\n",
      "Tentative: \t5\n",
      "Rejected: \t17\n",
      "Iteration: \t25 / 100\n",
      "Confirmed: \t12\n",
      "Tentative: \t5\n",
      "Rejected: \t17\n",
      "Iteration: \t26 / 100\n",
      "Confirmed: \t12\n",
      "Tentative: \t5\n",
      "Rejected: \t17\n",
      "Iteration: \t27 / 100\n",
      "Confirmed: \t12\n",
      "Tentative: \t5\n",
      "Rejected: \t17\n",
      "Iteration: \t28 / 100\n",
      "Confirmed: \t12\n",
      "Tentative: \t5\n",
      "Rejected: \t17\n",
      "Iteration: \t29 / 100\n",
      "Confirmed: \t12\n",
      "Tentative: \t5\n",
      "Rejected: \t17\n",
      "Iteration: \t30 / 100\n",
      "Confirmed: \t12\n",
      "Tentative: \t5\n",
      "Rejected: \t17\n",
      "Iteration: \t31 / 100\n",
      "Confirmed: \t12\n",
      "Tentative: \t5\n",
      "Rejected: \t17\n",
      "Iteration: \t32 / 100\n",
      "Confirmed: \t12\n",
      "Tentative: \t5\n",
      "Rejected: \t17\n",
      "Iteration: \t33 / 100\n",
      "Confirmed: \t12\n",
      "Tentative: \t5\n",
      "Rejected: \t17\n",
      "Iteration: \t34 / 100\n",
      "Confirmed: \t12\n",
      "Tentative: \t4\n",
      "Rejected: \t18\n",
      "Iteration: \t35 / 100\n",
      "Confirmed: \t12\n",
      "Tentative: \t4\n",
      "Rejected: \t18\n",
      "Iteration: \t36 / 100\n",
      "Confirmed: \t12\n",
      "Tentative: \t4\n",
      "Rejected: \t18\n",
      "Iteration: \t37 / 100\n",
      "Confirmed: \t12\n",
      "Tentative: \t4\n",
      "Rejected: \t18\n",
      "Iteration: \t38 / 100\n",
      "Confirmed: \t12\n",
      "Tentative: \t4\n",
      "Rejected: \t18\n",
      "Iteration: \t39 / 100\n",
      "Confirmed: \t12\n",
      "Tentative: \t4\n",
      "Rejected: \t18\n",
      "Iteration: \t40 / 100\n",
      "Confirmed: \t12\n",
      "Tentative: \t4\n",
      "Rejected: \t18\n",
      "Iteration: \t41 / 100\n",
      "Confirmed: \t12\n",
      "Tentative: \t4\n",
      "Rejected: \t18\n",
      "Iteration: \t42 / 100\n",
      "Confirmed: \t12\n",
      "Tentative: \t4\n",
      "Rejected: \t18\n",
      "Iteration: \t43 / 100\n",
      "Confirmed: \t12\n",
      "Tentative: \t4\n",
      "Rejected: \t18\n",
      "Iteration: \t44 / 100\n",
      "Confirmed: \t12\n",
      "Tentative: \t4\n",
      "Rejected: \t18\n",
      "Iteration: \t45 / 100\n",
      "Confirmed: \t12\n",
      "Tentative: \t4\n",
      "Rejected: \t18\n",
      "Iteration: \t46 / 100\n",
      "Confirmed: \t12\n",
      "Tentative: \t4\n",
      "Rejected: \t18\n",
      "Iteration: \t47 / 100\n",
      "Confirmed: \t12\n",
      "Tentative: \t4\n",
      "Rejected: \t18\n",
      "Iteration: \t48 / 100\n",
      "Confirmed: \t12\n",
      "Tentative: \t4\n",
      "Rejected: \t18\n",
      "Iteration: \t49 / 100\n",
      "Confirmed: \t12\n",
      "Tentative: \t4\n",
      "Rejected: \t18\n",
      "Iteration: \t50 / 100\n",
      "Confirmed: \t12\n",
      "Tentative: \t4\n",
      "Rejected: \t18\n",
      "Iteration: \t51 / 100\n",
      "Confirmed: \t12\n",
      "Tentative: \t4\n",
      "Rejected: \t18\n",
      "Iteration: \t52 / 100\n",
      "Confirmed: \t12\n",
      "Tentative: \t4\n",
      "Rejected: \t18\n",
      "Iteration: \t53 / 100\n",
      "Confirmed: \t12\n",
      "Tentative: \t4\n",
      "Rejected: \t18\n",
      "Iteration: \t54 / 100\n",
      "Confirmed: \t12\n",
      "Tentative: \t4\n",
      "Rejected: \t18\n",
      "Iteration: \t55 / 100\n",
      "Confirmed: \t12\n",
      "Tentative: \t4\n",
      "Rejected: \t18\n",
      "Iteration: \t56 / 100\n",
      "Confirmed: \t12\n",
      "Tentative: \t4\n",
      "Rejected: \t18\n",
      "Iteration: \t57 / 100\n",
      "Confirmed: \t12\n",
      "Tentative: \t4\n",
      "Rejected: \t18\n",
      "Iteration: \t58 / 100\n",
      "Confirmed: \t12\n",
      "Tentative: \t4\n",
      "Rejected: \t18\n",
      "Iteration: \t59 / 100\n",
      "Confirmed: \t12\n",
      "Tentative: \t3\n",
      "Rejected: \t19\n",
      "Iteration: \t60 / 100\n",
      "Confirmed: \t12\n",
      "Tentative: \t3\n",
      "Rejected: \t19\n",
      "Iteration: \t61 / 100\n",
      "Confirmed: \t12\n",
      "Tentative: \t3\n",
      "Rejected: \t19\n",
      "Iteration: \t62 / 100\n",
      "Confirmed: \t12\n",
      "Tentative: \t3\n",
      "Rejected: \t19\n",
      "Iteration: \t63 / 100\n",
      "Confirmed: \t12\n",
      "Tentative: \t3\n",
      "Rejected: \t19\n",
      "Iteration: \t64 / 100\n",
      "Confirmed: \t12\n",
      "Tentative: \t3\n",
      "Rejected: \t19\n",
      "Iteration: \t65 / 100\n",
      "Confirmed: \t12\n",
      "Tentative: \t3\n",
      "Rejected: \t19\n",
      "Iteration: \t66 / 100\n",
      "Confirmed: \t12\n",
      "Tentative: \t3\n",
      "Rejected: \t19\n",
      "Iteration: \t67 / 100\n",
      "Confirmed: \t12\n",
      "Tentative: \t3\n",
      "Rejected: \t19\n",
      "Iteration: \t68 / 100\n",
      "Confirmed: \t12\n",
      "Tentative: \t3\n",
      "Rejected: \t19\n",
      "Iteration: \t69 / 100\n",
      "Confirmed: \t12\n",
      "Tentative: \t3\n",
      "Rejected: \t19\n",
      "Iteration: \t70 / 100\n",
      "Confirmed: \t12\n",
      "Tentative: \t3\n",
      "Rejected: \t19\n",
      "Iteration: \t71 / 100\n",
      "Confirmed: \t12\n",
      "Tentative: \t3\n",
      "Rejected: \t19\n",
      "Iteration: \t72 / 100\n",
      "Confirmed: \t12\n",
      "Tentative: \t2\n",
      "Rejected: \t20\n",
      "Iteration: \t73 / 100\n",
      "Confirmed: \t12\n",
      "Tentative: \t2\n",
      "Rejected: \t20\n",
      "Iteration: \t74 / 100\n",
      "Confirmed: \t12\n",
      "Tentative: \t2\n",
      "Rejected: \t20\n",
      "Iteration: \t75 / 100\n",
      "Confirmed: \t12\n",
      "Tentative: \t2\n",
      "Rejected: \t20\n",
      "Iteration: \t76 / 100\n",
      "Confirmed: \t12\n",
      "Tentative: \t2\n",
      "Rejected: \t20\n",
      "Iteration: \t77 / 100\n",
      "Confirmed: \t12\n",
      "Tentative: \t2\n",
      "Rejected: \t20\n",
      "Iteration: \t78 / 100\n",
      "Confirmed: \t12\n",
      "Tentative: \t2\n",
      "Rejected: \t20\n",
      "Iteration: \t79 / 100\n",
      "Confirmed: \t12\n",
      "Tentative: \t2\n",
      "Rejected: \t20\n",
      "Iteration: \t80 / 100\n",
      "Confirmed: \t12\n",
      "Tentative: \t2\n",
      "Rejected: \t20\n",
      "Iteration: \t81 / 100\n",
      "Confirmed: \t12\n",
      "Tentative: \t2\n",
      "Rejected: \t20\n",
      "Iteration: \t82 / 100\n",
      "Confirmed: \t12\n",
      "Tentative: \t2\n",
      "Rejected: \t20\n",
      "Iteration: \t83 / 100\n",
      "Confirmed: \t12\n",
      "Tentative: \t2\n",
      "Rejected: \t20\n",
      "Iteration: \t84 / 100\n",
      "Confirmed: \t12\n",
      "Tentative: \t2\n",
      "Rejected: \t20\n",
      "Iteration: \t85 / 100\n",
      "Confirmed: \t12\n",
      "Tentative: \t2\n",
      "Rejected: \t20\n",
      "Iteration: \t86 / 100\n",
      "Confirmed: \t12\n",
      "Tentative: \t2\n",
      "Rejected: \t20\n",
      "Iteration: \t87 / 100\n",
      "Confirmed: \t12\n",
      "Tentative: \t2\n",
      "Rejected: \t20\n",
      "Iteration: \t88 / 100\n",
      "Confirmed: \t12\n",
      "Tentative: \t2\n",
      "Rejected: \t20\n",
      "Iteration: \t89 / 100\n",
      "Confirmed: \t12\n",
      "Tentative: \t2\n",
      "Rejected: \t20\n",
      "Iteration: \t90 / 100\n",
      "Confirmed: \t12\n",
      "Tentative: \t2\n",
      "Rejected: \t20\n",
      "Iteration: \t91 / 100\n",
      "Confirmed: \t12\n",
      "Tentative: \t2\n",
      "Rejected: \t20\n",
      "Iteration: \t92 / 100\n",
      "Confirmed: \t12\n",
      "Tentative: \t2\n",
      "Rejected: \t20\n",
      "Iteration: \t93 / 100\n",
      "Confirmed: \t12\n",
      "Tentative: \t2\n",
      "Rejected: \t20\n",
      "Iteration: \t94 / 100\n",
      "Confirmed: \t12\n",
      "Tentative: \t2\n",
      "Rejected: \t20\n",
      "Iteration: \t95 / 100\n",
      "Confirmed: \t12\n",
      "Tentative: \t2\n",
      "Rejected: \t20\n",
      "Iteration: \t96 / 100\n",
      "Confirmed: \t12\n",
      "Tentative: \t2\n",
      "Rejected: \t20\n",
      "Iteration: \t97 / 100\n",
      "Confirmed: \t12\n",
      "Tentative: \t2\n",
      "Rejected: \t20\n",
      "Iteration: \t98 / 100\n",
      "Confirmed: \t12\n",
      "Tentative: \t2\n",
      "Rejected: \t20\n",
      "Iteration: \t99 / 100\n",
      "Confirmed: \t12\n",
      "Tentative: \t2\n",
      "Rejected: \t20\n",
      "\n",
      "\n",
      "BorutaPy finished running.\n",
      "\n",
      "Iteration: \t100 / 100\n",
      "Confirmed: \t12\n",
      "Tentative: \t0\n",
      "Rejected: \t20\n"
     ]
    }
   ],
   "source": [
    "borr_rf = feature_Boruta(train[num_d_GarageYrBl],train[num_d_GarageYrBl].values, target.values,classifier=rf)"
   ]
  },
  {
   "cell_type": "code",
   "execution_count": 96,
   "metadata": {
    "scrolled": true
   },
   "outputs": [
    {
     "data": {
      "text/plain": [
       "['LotArea',\n",
       " 'OverallQual',\n",
       " 'YearBuilt',\n",
       " 'YearRemodAdd',\n",
       " 'BsmtFinSF1',\n",
       " 'TotalBsmtSF',\n",
       " '1stFlrSF',\n",
       " '2ndFlrSF',\n",
       " 'GrLivArea',\n",
       " 'TotRmsAbvGrd',\n",
       " 'GarageCars',\n",
       " 'GarageArea']"
      ]
     },
     "execution_count": 96,
     "metadata": {},
     "output_type": "execute_result"
    }
   ],
   "source": [
    "borr_rf.to_list()"
   ]
  },
  {
   "cell_type": "code",
   "execution_count": 97,
   "metadata": {
    "scrolled": true
   },
   "outputs": [
    {
     "data": {
      "text/plain": [
       "['LotArea',\n",
       " 'MiscVal',\n",
       " '2ndFlrSF',\n",
       " 'BsmtFinSF1',\n",
       " 'PoolArea',\n",
       " 'BsmtFinSF2',\n",
       " 'BsmtUnfSF',\n",
       " 'LowQualFinSF',\n",
       " 'GrLivArea',\n",
       " 'TotalBsmtSF']"
      ]
     },
     "execution_count": 97,
     "metadata": {},
     "output_type": "execute_result"
    }
   ],
   "source": [
    "chi.Features.to_list()"
   ]
  },
  {
   "cell_type": "code",
   "execution_count": 101,
   "metadata": {},
   "outputs": [
    {
     "data": {
      "text/plain": [
       "20     536\n",
       "60     299\n",
       "50     144\n",
       "120     87\n",
       "30      69\n",
       "160     63\n",
       "70      60\n",
       "80      58\n",
       "90      52\n",
       "190     30\n",
       "85      20\n",
       "75      16\n",
       "45      12\n",
       "180     10\n",
       "40       4\n",
       "Name: MSSubClass, dtype: int64"
      ]
     },
     "execution_count": 101,
     "metadata": {},
     "output_type": "execute_result"
    }
   ],
   "source": [
    "train.MSSubClass.value_counts()\n"
   ]
  }
 ],
 "metadata": {
  "kernelspec": {
   "display_name": "Python 3",
   "language": "python",
   "name": "python3"
  },
  "language_info": {
   "codemirror_mode": {
    "name": "ipython",
    "version": 3
   },
   "file_extension": ".py",
   "mimetype": "text/x-python",
   "name": "python",
   "nbconvert_exporter": "python",
   "pygments_lexer": "ipython3",
   "version": "3.8.3"
  }
 },
 "nbformat": 4,
 "nbformat_minor": 4
}
